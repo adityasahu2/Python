{
 "cells": [
  {
   "cell_type": "code",
   "execution_count": 6,
   "id": "533e94ef",
   "metadata": {},
   "outputs": [
    {
     "name": "stdout",
     "output_type": "stream",
     "text": [
      "Carry an umbrella\n"
     ]
    }
   ],
   "source": [
    "# Q1. Write a program such that Python will ask you if it is raining or not. If your answer is ”yes”, Python will say ”Carry an umbrella”. If you type anything else, Python will say ”Bye”.\n",
    "rain = input(\"Is it raining? (yes or no): \").lower()\n",
    "if rain == \"yes\":\n",
    "    print(\"Carry an umbrella\")\n",
    "else:\n",
    "    print(\"Bye\")"
   ]
  },
  {
   "cell_type": "code",
   "execution_count": 7,
   "id": "5f62f5bf",
   "metadata": {},
   "outputs": [
    {
     "name": "stdout",
     "output_type": "stream",
     "text": [
      "No need to carry an umbrella\n"
     ]
    }
   ],
   "source": [
    "# Q2. Write a program such that Python will ask you if it is raining or not. If your answer is ”yes”, Python will say ”Carry an umbrella”. If you say ”no”, Python will say ”No need to carry an umbrella”. If you type anything else, Python will say ”Bye”.\n",
    "rain = input(\"Is it raining? (yes or no): \").lower()\n",
    "if rain == \"yes\":\n",
    "    print(\"Carry an umbrella\")\n",
    "elif rain == \"no\":\n",
    "    print(\"No need to carry an umbrella\")\n",
    "else:\n",
    "    print(\"Bye\")"
   ]
  },
  {
   "cell_type": "code",
   "execution_count": 8,
   "id": "40925209",
   "metadata": {},
   "outputs": [
    {
     "name": "stdout",
     "output_type": "stream",
     "text": [
      "Grade: D\n",
      "Comment: Needs Improvement\n"
     ]
    }
   ],
   "source": [
    "# Q3. Write a Python program to calculate a student’s letter grade based on their numeric score using the fol- lowing scale: A (90–100), B (80–89), C (70–79), D (60–69), and F (below 60). Additionally, provide a comment for each grade: ”Excellent” for A, ”Good” for B, ”Average” for C, ”Needs Improvement” for D, and ”Failing” for F.\n",
    "score = int(input(\"Enter the student's score (0-100): \"))\n",
    "if 90 <= score <= 100:\n",
    "    grade = 'A'\n",
    "    comment = 'Excellent'\n",
    "elif 80 <= score < 90:\n",
    "    grade = 'B'\n",
    "    comment = 'Good'\n",
    "elif 70 <= score < 80:\n",
    "    grade = 'C'\n",
    "    comment = 'Average'\n",
    "elif 60 <= score < 70:\n",
    "    grade = 'D'\n",
    "    comment = 'Needs Improvement'\n",
    "elif 0 <= score < 60:\n",
    "    grade = 'F'\n",
    "    comment = 'Failing'\n",
    "else:\n",
    "    grade = None\n",
    "    comment = \"Invalid score entered\"\n",
    "if grade:\n",
    "    print(f\"Grade: {grade}\")\n",
    "    print(f\"Comment: {comment}\")\n",
    "else:\n",
    "    print(comment)"
   ]
  },
  {
   "cell_type": "code",
   "execution_count": 9,
   "id": "39bd0f80",
   "metadata": {},
   "outputs": [
    {
     "name": "stdout",
     "output_type": "stream",
     "text": [
      "5 is an odd number.\n"
     ]
    }
   ],
   "source": [
    "# Q4. Write a program that takes an integer input from the user and tells the user whether the number is even or odd.\n",
    "num = int(input(\"Enter an integer: \"))\n",
    "if num % 2 == 0:\n",
    "    print(f\"{num} is an even number.\")\n",
    "else:\n",
    "    print(f\"{num} is an odd number.\")"
   ]
  },
  {
   "cell_type": "code",
   "execution_count": 10,
   "id": "1df70f22",
   "metadata": {},
   "outputs": [
    {
     "name": "stdout",
     "output_type": "stream",
     "text": [
      "2024 is a leap year.\n"
     ]
    }
   ],
   "source": [
    "# Q5. Write a program that takes a year as input and determines whether it is a leap year or not.\n",
    "year = int(input(\"Enter a year: \"))\n",
    "if (year % 4 == 0 and year % 100 != 0) or (year % 400 == 0):\n",
    "    print(f\"{year} is a leap year.\")\n",
    "else:\n",
    "    print(f\"{year} is not a leap year.\")"
   ]
  },
  {
   "cell_type": "code",
   "execution_count": 6,
   "id": "89030deb",
   "metadata": {},
   "outputs": [
    {
     "name": "stdout",
     "output_type": "stream",
     "text": [
      "4 is not a prime number.\n"
     ]
    }
   ],
   "source": [
    "# Q6. Write a program that takes an integer input from the user and prints whether it is prime or not.\n",
    "num = int(input(\"Enter an integer: \"))\n",
    "if num > 1:\n",
    "    for i in range(2, int(num ** 0.5) + 1):\n",
    "        if num % i == 0:\n",
    "            print(f\"{num} is not a prime number.\")\n",
    "            break\n",
    "    else:\n",
    "        print(f\"{num} is a prime number.\")\n",
    "else:\n",
    "    print(f\"{num} is not a prime number.\")"
   ]
  },
  {
   "cell_type": "code",
   "execution_count": 12,
   "id": "c85d7676",
   "metadata": {},
   "outputs": [
    {
     "name": "stdout",
     "output_type": "stream",
     "text": [
      "Sum of all prime numbers less than 20 is 77.\n"
     ]
    }
   ],
   "source": [
    "# Q7. In line with the previous question, write a program to compute the sum of all prime numbers below a user input number, e.g., Sum of all prime numbers less than 20 is 77.\n",
    "num = int(input(\"Enter an integer: \"))\n",
    "sum = 0\n",
    "for i in range(2,num+1):\n",
    "    if i > 1:\n",
    "        for j in range(2, int(i ** 0.5) + 1):\n",
    "            if i % j == 0:\n",
    "                break\n",
    "        else:\n",
    "            sum += i\n",
    "print(f\"Sum of all prime numbers less than {num} is {sum}.\")"
   ]
  },
  {
   "cell_type": "code",
   "execution_count": 1,
   "id": "187baf34",
   "metadata": {},
   "outputs": [
    {
     "name": "stdout",
     "output_type": "stream",
     "text": [
      "Result : 81\n"
     ]
    }
   ],
   "source": [
    "# Q8. Write a program that takes an integer input from the user. Use a while loop to continuously prompt for input until the user enters a positive number. If the final number is even, multiply it by 2 and if it is odd, square it. Display the results at the end.\n",
    "num = int(input(\"Enter an integer: \"))\n",
    "while(num < 0):\n",
    "    num = int(input(\"Enter an integer: \"))\n",
    "if num % 2 == 0: \n",
    "    num *= 2\n",
    "else: \n",
    "    num *= num\n",
    "print(f\"Result : {num}\")"
   ]
  },
  {
   "cell_type": "code",
   "execution_count": 18,
   "id": "1228c973",
   "metadata": {},
   "outputs": [
    {
     "name": "stdout",
     "output_type": "stream",
     "text": [
      "Invalid input\n"
     ]
    }
   ],
   "source": [
    "# Q9. Write a program to find the remainder when a user input number is divided by 5 using match case. If the user inputs a non-integer, Python should say ”Invalid input” and stop.\n",
    "try:\n",
    "    num = int(input(\"Enter an integer: \"))\n",
    "    remainder = num % 5\n",
    "    print(f\"The remainder when {num} is divided by 5 is {remainder}.\")\n",
    "except ValueError:\n",
    "    print(\"Invalid input\")"
   ]
  },
  {
   "cell_type": "code",
   "execution_count": 20,
   "id": "3226aca2",
   "metadata": {},
   "outputs": [
    {
     "name": "stdout",
     "output_type": "stream",
     "text": [
      "a\n",
      "ab\n",
      "abc\n",
      "b\n",
      "bc\n",
      "c\n"
     ]
    }
   ],
   "source": [
    "# Q10. Write a program that takes a string as input and prints out all possible sub-strings of the string using loops, e.g., if the input is ”abc”, the output should be ”a”, ”ab”, ”abc”, ”b”, ”bc”, ”c”.\n",
    "string = input(\"Enter a string: \")\n",
    "for i in range(len(string)):\n",
    "    substring = \"\"\n",
    "    for j in range(i, len(string)):\n",
    "        substring += string[j]\n",
    "        print(substring)"
   ]
  },
  {
   "cell_type": "code",
   "execution_count": 21,
   "id": "a6f20ffb",
   "metadata": {},
   "outputs": [
    {
     "name": "stdout",
     "output_type": "stream",
     "text": [
      "Result: 10.0 + 20.0 = 30.0\n",
      "Exiting\n"
     ]
    }
   ],
   "source": [
    "# Q11. Write a program that functions as a simple calculator. It should continuously accept a pair of numbers and an operator (+, -, *, /) from the user and print the result. If the user types ”exit,” the program quits. Otherwise the program continues asking for a pair of input numbers.\n",
    "while True:\n",
    "    operator = input(\"Enter an operator (+, -, *, /) or type 'exit' to quit: \")\n",
    "    if operator == \"exit\":\n",
    "        print(\"Exiting\")\n",
    "        break\n",
    "    if operator not in ['+', '-', '*', '/']:\n",
    "        print(\"Invalid operator\")\n",
    "        continue\n",
    "    num1 = float(input(\"Enter the first number: \"))\n",
    "    num2 = float(input(\"Enter the second number: \"))\n",
    "    if operator == '+':\n",
    "        result = num1 + num2\n",
    "    elif operator == '-':\n",
    "        result = num1 - num2\n",
    "    elif operator == '*':\n",
    "        result = num1 * num2\n",
    "    elif operator == '/':\n",
    "        if num2 != 0:\n",
    "            result = num1 / num2\n",
    "        else:\n",
    "            print(\"Division by zero is not allowed.\")\n",
    "            continue\n",
    "    print(f\"Result: {num1} {operator} {num2} = {result}\")"
   ]
  },
  {
   "cell_type": "code",
   "execution_count": 2,
   "id": "f7369db3",
   "metadata": {},
   "outputs": [
    {
     "name": "stdout",
     "output_type": "stream",
     "text": [
      "Mean: 3.5833333333333335\n",
      "Median: 4.0\n",
      "Mode: 4\n"
     ]
    }
   ],
   "source": [
    "# Q12. Write a program to find out the mean, median, and mode of 1, 2, 3, 2, 3, 4, 4, 4, 5, 4, 5, 6.\n",
    "data = [1, 2, 3, 2, 3, 4, 4, 4, 5, 4, 5, 6]\n",
    "\n",
    "total = 0\n",
    "for num in data:\n",
    "    total += num\n",
    "mean = total / len(data)\n",
    "\n",
    "for i in range(len(data)):\n",
    "    for j in range(1, len(data) - i - 1):\n",
    "        if data[j-1] > data[j]:\n",
    "            data[j-1]+= data[j]\n",
    "            data[j] = data[j-1] - data[j]\n",
    "            data[j] = data[j-1] - data[j]\n",
    "\n",
    "n = len(data)\n",
    "if n % 2 == 0:\n",
    "    median = (data[n//2 - 1] + data[n//2]) / 2\n",
    "else:\n",
    "    median = data[n//2]\n",
    "\n",
    "max_count = 0\n",
    "mode = data[0]\n",
    "for num in data:\n",
    "    count = 0\n",
    "    for i in data:\n",
    "        if i == num:\n",
    "            count += 1\n",
    "    if count > max_count:\n",
    "        max_count = count\n",
    "        mode = num\n",
    "\n",
    "print(f\"Mean: {mean}\")\n",
    "print(f\"Median: {median}\")\n",
    "print(f\"Mode: {mode}\")"
   ]
  },
  {
   "cell_type": "code",
   "execution_count": 5,
   "id": "7aacc832",
   "metadata": {},
   "outputs": [
    {
     "name": "stdout",
     "output_type": "stream",
     "text": [
      "White\n"
     ]
    }
   ],
   "source": [
    "# Q13. Positions on a chess board are identified by a letter and a number. The letter identifies the column, while the number identifies the row, as shown below in Figure 1: Write a program that reads a position from the user and identify the proper color of the respective box.\n",
    "\n",
    "box = input(\"Enter row and column : \")\n",
    "column = box[0]\n",
    "row = int(box[1])\n",
    "if (0 < row < 9 and 'a' <= column.lower() <= 'h'):\n",
    "    if ((row%2 == 0 and column.lower() in ['a', 'c', 'e', 'g']) or (row%2 == 0 and column.lower() in ['b', 'd', 'f', 'h'])):\n",
    "        print(\"White\")\n",
    "    else:\n",
    "        print(\"Black\")\n",
    "else:\n",
    "    print(\"Invalid input\")"
   ]
  },
  {
   "cell_type": "code",
   "execution_count": 6,
   "id": "993c5fcf",
   "metadata": {},
   "outputs": [
    {
     "name": "stdout",
     "output_type": "stream",
     "text": [
      "Bill : $513.0\n"
     ]
    }
   ],
   "source": [
    "# Q14. Write a Python program that calculates the final cost of a hotel booking based on :- \n",
    "# the room type (Standard: $100/night, Deluxe: $150/night, Suite: $250/night), \n",
    "# the length of stay (10% discount for >3 nights, 20% discount for >7 nights), \n",
    "# the season (20% increase during peak season, 15% decrease during the off-season), \n",
    "# and whether the customer is a loyalty member (5% additional discount). \n",
    "# The program should output the final booking cost after applying all relevant discounts and adjustments.\n",
    "\n",
    "room = input(\"Enter room type (Standard/Deluxe/Suite) : \")\n",
    "if room.lower() in ['standard','deluxe','suite']:\n",
    "    night = int(input(\"Enter number of nights stayed : \"))\n",
    "    if night > 0:\n",
    "        if room.lower() == \"standard\":\n",
    "            bill = night*100\n",
    "        elif room.lower() == \"deluxe\":\n",
    "            bill = night*150\n",
    "        elif room.lower() == \"suite\":\n",
    "            bill = night*250\n",
    "\n",
    "        if night > 7:\n",
    "            bill *= 0.8\n",
    "        if night > 3:\n",
    "            bill *= 0.9\n",
    "        \n",
    "        season = input(\"Enter season (Peak/Off) : \")\n",
    "        if season.lower() in ['peak','off'] :\n",
    "            if season.lower() == \"peak\":\n",
    "                bill *= 1.2\n",
    "            elif season.lower() == \"off\":\n",
    "                bill *= 0.85\n",
    "            \n",
    "            member = input(\"Are you a loyalty member (Yes/No) : \")\n",
    "            if member.lower() in ['yes','no'] :\n",
    "                if member.lower() == \"yes\":\n",
    "                    bill *= 0.95\n",
    "                elif member.lower() == \"no\":\n",
    "                    pass\n",
    "                print(f\"Bill : ${bill}\")\n",
    "            else: print(\"Invalid member\")\n",
    "        else: print(\"Invalid season\")\n",
    "    else: print(\"Invalid length of stay\")\n",
    "else: print(\"Invalid room type\")"
   ]
  },
  {
   "cell_type": "code",
   "execution_count": 9,
   "id": "6c218ed2",
   "metadata": {},
   "outputs": [
    {
     "name": "stdout",
     "output_type": "stream",
     "text": [
      "6 is a perfect number\n"
     ]
    }
   ],
   "source": [
    "# Q15. Write a function to determine whether a given natural number is a perfect number. A natural number is said to be a perfect number if it is the sum of its divisors. For Example, 6 is a perfect number because 6 = 1+2+3, but 15 is not a perfect number because 15!= 1+3+5.\n",
    "\n",
    "num = int(input(\"Enter a number: \"))\n",
    "sum = 1\n",
    "for i in range(2, num):\n",
    "    if num % i == 0:\n",
    "        sum += i\n",
    "\n",
    "if sum > num or sum < num:\n",
    "    print(f\"{num} is not a perfect number\")\n",
    "else: \n",
    "    print(f\"{num} is a perfect number\")"
   ]
  },
  {
   "cell_type": "code",
   "execution_count": 1,
   "id": "666fc864",
   "metadata": {},
   "outputs": [
    {
     "name": "stdout",
     "output_type": "stream",
     "text": [
      "Sum of the first 2 terms of series a: -0.33333333333333337\n",
      "Sum of the first 2 terms of series b: 5.0\n",
      "Sum of the first 2 terms of series c: -2\n"
     ]
    }
   ],
   "source": [
    "# Q16. Write a function that finds the sum of the n terms of the following series:\n",
    "# a) 1 − x 2/2! + x 4/4! − x 6/6! + . . . + x 2n/(2n)! \n",
    "# b) 1 + x/1! + x 2/2! + x 3/3! + . . . + x n/n! \n",
    "# c) 1-3+5-7+9-. . .\n",
    "n = int(input(\"Enter the value of n: \"))\n",
    "x = float(input(\"Enter the value of x: \"))\n",
    "a_sum = 1\n",
    "b_sum = 1\n",
    "c_sum = 0\n",
    "for i in range(1, n+1):\n",
    "    fact_a = 1\n",
    "    fact_b = 1\n",
    "    for j in range(1, i*2+1):\n",
    "        fact_a *= j\n",
    "    for j in range(1, i+1):\n",
    "        fact_b *= j\n",
    "    a_sum += (-1)**i * x**(i*2) / fact_a\n",
    "    b_sum += x**i / fact_b\n",
    "    c_sum += (-1)**(i+1) * (2*i - 1)\n",
    "print(f\"Sum of the first {n} terms of series a: {a_sum}\")\n",
    "print(f\"Sum of the first {n} terms of series b: {b_sum}\")\n",
    "print(f\"Sum of the first {n} terms of series c: {c_sum}\")"
   ]
  },
  {
   "cell_type": "code",
   "execution_count": 4,
   "id": "aca1ee0f",
   "metadata": {},
   "outputs": [
    {
     "name": "stdout",
     "output_type": "stream",
     "text": [
      "100 102 105 108 110 114 115 120 125 126 \n",
      "130 132 135 138 140 144 145 150 155 156 \n",
      "160 162 165 168 170 174 175 180 185 186 \n",
      "190 192 195 198 200 204 205 210 215 216 \n",
      "220 222 225 228 230 234 235 240 245 246 \n",
      "250 252 255 258 260 264 265 270 275 276 \n",
      "280 282 285 288 290 294 295 300 305 306 \n",
      "310 312 315 318 320 324 325 330 335 336 \n",
      "340 342 345 348 350 354 355 360 365 366 \n",
      "370 372 375 378 380 384 385 390 395 396 \n",
      "400 402 405 408 410 414 415 420 425 426 \n",
      "430 432 435 438 440 444 445 450 455 456 \n",
      "460 462 465 468 470 474 475 480 485 486 \n",
      "490 492 495 498 500 504 505 510 515 516 \n",
      "520 522 525 528 530 534 535 540 545 546 \n",
      "550 552 555 558 560 564 565 570 575 576 \n",
      "580 582 585 588 590 594 595 600 605 606 \n",
      "610 612 615 618 620 624 625 630 635 636 \n",
      "640 642 645 648 650 654 655 660 665 666 \n",
      "670 672 675 678 680 684 685 690 695 696 \n",
      "700 702 705 708 710 714 715 720 725 726 \n",
      "730 732 735 738 740 744 745 750 755 756 \n",
      "760 762 765 768 770 774 775 780 785 786 \n",
      "790 792 795 798 800 804 805 810 815 816 \n",
      "820 822 825 828 830 834 835 840 845 846 \n",
      "850 852 855 858 860 864 865 870 875 876 \n",
      "880 882 885 888 890 894 895 900 905 906 \n",
      "910 912 915 918 920 924 925 930 935 936 \n",
      "940 942 945 948 950 954 955 960 965 966 \n",
      "970 972 975 978 980 984 985 990 995 996 \n"
     ]
    }
   ],
   "source": [
    "# Q17. Write a python program that displays all the numbers from 100 to 1,000, ten per line, that are divisible by 5 or 6. Numbers are separated by exactly one space.\n",
    "count = 0\n",
    "for i in range(100, 1000):\n",
    "    if i%5 == 0 or i%6 == 0:\n",
    "        print(f\"{i}\", end=\" \")\n",
    "        count += 1\n",
    "        if count%10 == 0:\n",
    "            print()"
   ]
  },
  {
   "cell_type": "code",
   "execution_count": 23,
   "id": "f8e4d48c",
   "metadata": {},
   "outputs": [
    {
     "name": "stdout",
     "output_type": "stream",
     "text": [
      "1 2 3 4 5 6 8 9 10 11 12 13 15 16 17 18 19 20 22 23 24 25 26 27 29 30 31 32 33 34 36 37 38 39 40 41 43 44 45 46 47 48 50 51 52 53 54 55 57 58 59 60 61 62 64 65 66 67 68 69 71 72 73 74 75 76 78 79 80 81 82 83 85 86 87 88 89 90 92 93 94 95 96 97 99 100 "
     ]
    }
   ],
   "source": [
    "# Q18. Write a Python program that prints all numbers from 1 to 100, except multiples of 7, using a for loop with continue.\n",
    "for i in range(1, 101):\n",
    "    if i%7 == 0:\n",
    "        continue\n",
    "    print(i, end=\" \")"
   ]
  },
  {
   "cell_type": "code",
   "execution_count": 17,
   "id": "06397132",
   "metadata": {},
   "outputs": [
    {
     "name": "stdout",
     "output_type": "stream",
     "text": [
      "Reverse : 4321\n"
     ]
    }
   ],
   "source": [
    "# Q19. Write a python program that accepts a positive integer n and reverses the order of its digits, e.g., 1234 becomes 4321.\n",
    "num = int(input(\"Enter a number : \"))\n",
    "rev = 0\n",
    "while num > 0:\n",
    "    rev = rev*10 + num%10\n",
    "    num //= 10\n",
    "print(f\"Reverse : {rev}\")"
   ]
  },
  {
   "cell_type": "code",
   "execution_count": 31,
   "id": "62634d8d",
   "metadata": {},
   "outputs": [
    {
     "name": "stdout",
     "output_type": "stream",
     "text": [
      "2, 2, 2, 3, 5, "
     ]
    }
   ],
   "source": [
    "# Q20. Write a python program that reads an integer and displays all its smallest factors in increasing order, e.g., if the input integer is 120, the output should be as follows: 2, 2, 2, 3, 5.\n",
    "\n",
    "num = int(input(\"Enter an integer: \"))\n",
    "divisor = 2\n",
    "while num > 1:\n",
    "    while num % divisor == 0:\n",
    "        print(divisor, end=\", \")\n",
    "        num //= divisor\n",
    "    divisor += 1"
   ]
  },
  {
   "cell_type": "code",
   "execution_count": 6,
   "id": "d6689552",
   "metadata": {},
   "outputs": [
    {
     "name": "stdout",
     "output_type": "stream",
     "text": [
      "Factorial number\n"
     ]
    }
   ],
   "source": [
    "# Q21. Write a python program to determine whether or not a number n is a factorial number.\n",
    "\n",
    "num = int(input(\"Enter a number : \"))\n",
    "divisor = 2\n",
    "while num > 1:\n",
    "    num /= divisor\n",
    "    divisor += 1\n",
    "if num == 1:\n",
    "    print(\"Factorial number\")\n",
    "else: \n",
    "    print(\"Not a factorial number\")"
   ]
  },
  {
   "cell_type": "code",
   "execution_count": 14,
   "id": "3c5764f4",
   "metadata": {},
   "outputs": [
    {
     "name": "stdout",
     "output_type": "stream",
     "text": [
      "Sum of digits : 6\n"
     ]
    }
   ],
   "source": [
    "# Q22. Write a program that takes a number from the user and continuously sums its digits until the sum becomes a single-digit number.\n",
    "\n",
    "num = int(input(\"Enter a number : \"))\n",
    "while num > 9:\n",
    "    sum = 0\n",
    "    while num > 0:\n",
    "        sum += num % 10\n",
    "        num //= 10\n",
    "    num = sum\n",
    "print(f\"Sum of digits : {num}\")"
   ]
  },
  {
   "cell_type": "code",
   "execution_count": 20,
   "id": "1fcca760",
   "metadata": {},
   "outputs": [
    {
     "name": "stdout",
     "output_type": "stream",
     "text": [
      "5 notes of ₹100\n",
      "1 notes of ₹50\n",
      "1 notes of ₹20\n",
      "1 notes of ₹10\n"
     ]
    }
   ],
   "source": [
    "# Q23. Write a program to simulate a simple ATM withdrawal system. The user can enter an amount they want to withdraw, and the program will provide the number of 100, 50, 20, and 10 denomination notes required to dispense that amount. The program should check if the requested amount is a multiple of 10 and if the ATM has enough cash.\n",
    "\n",
    "amount = int(input(\"Enter the amount to withdraw : \"))\n",
    "if amount % 10 != 0:\n",
    "    print(\"Invalid amount. Please enter a multiple of 10.\")\n",
    "elif amount > 10000:\n",
    "    print(\"Insufficient amount.\")\n",
    "else: \n",
    "    notes = [100, 50, 20, 10]\n",
    "    denominations = []\n",
    "    for note in notes:\n",
    "        denominations.append(amount // note)\n",
    "        amount %= note\n",
    "    for i in range(len(denominations)):\n",
    "        print(f\"{denominations[i]} notes of ₹{notes[i]}\")"
   ]
  },
  {
   "cell_type": "code",
   "execution_count": 40,
   "id": "4da8483d",
   "metadata": {},
   "outputs": [
    {
     "name": "stdout",
     "output_type": "stream",
     "text": [
      "ONE TWO THREE FOUR "
     ]
    }
   ],
   "source": [
    "# Q24. Write a program that reads an integer from the user and checks which digits (0-9) have appeared in the number. The program should print out the digits that have appeared, e.g. input=1234, output= ONE TWO THREE FOUR\n",
    "\n",
    "num = int(input(\"Enter a number : \"))\n",
    "digit =[\"ZERO\", \"ONE\", \"TWO\", \"THREE\", \"FOUR\", \"FIVE\", \"SIX\", \"SEVEN\", \"EIGHT\", \"NINE\"]\n",
    "word = []\n",
    "while num > 0:\n",
    "    word.append(digit[num % 10])\n",
    "    num //= 10\n",
    "for i in range(len(word)):\n",
    "    print(word[len(word)-1-i], end=\" \")"
   ]
  },
  {
   "cell_type": "code",
   "execution_count": 41,
   "id": "dc0af421",
   "metadata": {},
   "outputs": [
    {
     "name": "stdout",
     "output_type": "stream",
     "text": [
      "*\n",
      "**\n",
      "***\n",
      "****\n"
     ]
    }
   ],
   "source": [
    "# Q25. Write Python programs using loops to print the following patterns:\n",
    "# *\n",
    "# **\n",
    "# ***\n",
    "# ****\n",
    "\n",
    "for i in range(1, 5):\n",
    "    print(\"*\" * i)"
   ]
  },
  {
   "cell_type": "code",
   "execution_count": 42,
   "id": "226fb896",
   "metadata": {},
   "outputs": [
    {
     "name": "stdout",
     "output_type": "stream",
     "text": [
      "   *\n",
      "  **\n",
      " ***\n",
      "****\n"
     ]
    }
   ],
   "source": [
    "#    *\n",
    "#   **\n",
    "#  ***\n",
    "# ****\n",
    "\n",
    "for i in range(1, 5):\n",
    "    print(\" \" * (4-i) + \"*\" * i)"
   ]
  },
  {
   "cell_type": "code",
   "execution_count": 43,
   "id": "ff19a5e2",
   "metadata": {},
   "outputs": [
    {
     "name": "stdout",
     "output_type": "stream",
     "text": [
      "****\n",
      " ***\n",
      "  **\n",
      "   *\n"
     ]
    }
   ],
   "source": [
    "# ****\n",
    "#  ***\n",
    "#   **\n",
    "#    *\n",
    "\n",
    "for i in range(4, 0, -1):\n",
    "    print(\" \" * (4-i) + \"*\" * i)"
   ]
  },
  {
   "cell_type": "code",
   "execution_count": 47,
   "id": "873632e8",
   "metadata": {},
   "outputs": [
    {
     "name": "stdout",
     "output_type": "stream",
     "text": [
      "****\n",
      "***\n",
      "**\n",
      "*\n"
     ]
    }
   ],
   "source": [
    "# ****\n",
    "# ***\n",
    "# **\n",
    "# *\n",
    "\n",
    "for i in range(4, 0, -1):\n",
    "    print(\"*\" * (i))"
   ]
  },
  {
   "cell_type": "code",
   "execution_count": 51,
   "id": "59f17bf9",
   "metadata": {},
   "outputs": [
    {
     "name": "stdout",
     "output_type": "stream",
     "text": [
      "   *\n",
      "  ***\n",
      " *****\n",
      "*******\n",
      " *****\n",
      "  ***\n",
      "   *\n"
     ]
    }
   ],
   "source": [
    "#    *\n",
    "#   ***\n",
    "#  *****\n",
    "# *******\n",
    "#  *****\n",
    "#   ***\n",
    "#    *\n",
    "\n",
    "for i in range(1, 5):\n",
    "    print(\" \" * (4-i) + \"*\" * (2*i-1))\n",
    "for i in range(3, 0, -1):\n",
    "    print(\" \" * (4-i) + \"*\" * (2*i-1))"
   ]
  },
  {
   "cell_type": "code",
   "execution_count": 68,
   "id": "7fc13b6f",
   "metadata": {},
   "outputs": [
    {
     "name": "stdout",
     "output_type": "stream",
     "text": [
      "    *\n",
      "   * *\n",
      "  *   *\n",
      " *     *\n",
      "*********\n"
     ]
    }
   ],
   "source": [
    "#     *\n",
    "#    * *\n",
    "#   *   *\n",
    "#  *     *\n",
    "# *********\n",
    "\n",
    "j = 1\n",
    "for i in range(4, -1, -1):\n",
    "    print(\" \" * i + \"*\", end=\"\") \n",
    "    if 0 < i < 4:\n",
    "        print(\" \" * j + \"*\", end=\"\")\n",
    "        j += 2\n",
    "    elif i == 0:\n",
    "        print(\"*\" * 8, end=\"\")\n",
    "    print()\n"
   ]
  },
  {
   "cell_type": "code",
   "execution_count": 81,
   "id": "441bdf6c",
   "metadata": {},
   "outputs": [
    {
     "name": "stdout",
     "output_type": "stream",
     "text": [
      "   *\n",
      "  * *\n",
      " *   *\n",
      "*     *\n",
      " *   *\n",
      "  * *\n",
      "   *\n"
     ]
    }
   ],
   "source": [
    "#    *\n",
    "#   * *\n",
    "#  *   *\n",
    "# *     *\n",
    "#  *   *\n",
    "#   * *\n",
    "#    *\n",
    "\n",
    "j = 1\n",
    "for i in range(1, 5):\n",
    "    print(\" \" * (4-i) + \"*\", end=\"\")\n",
    "    if i > 1:\n",
    "        print(\" \" * j + \"*\", end=\"\")\n",
    "        j += 2\n",
    "    print()\n",
    "j -= 4\n",
    "for i in range(3, 0, -1):\n",
    "    print(\" \" * (4-i) + \"*\", end=\"\")\n",
    "    if i > 1:\n",
    "        print(\" \" * j + \"*\", end=\"\")\n",
    "        j -= 2\n",
    "    print()"
   ]
  },
  {
   "cell_type": "code",
   "execution_count": 88,
   "id": "7ce1b53c",
   "metadata": {},
   "outputs": [
    {
     "name": "stdout",
     "output_type": "stream",
     "text": [
      "* * * * * \n",
      "*       *\n",
      "*       *\n",
      "*       *\n",
      "* * * * * \n"
     ]
    }
   ],
   "source": [
    "# * * * * *\n",
    "# *       *\n",
    "# *       *\n",
    "# *       *\n",
    "# * * * * *\n",
    "\n",
    "for i in range(5):\n",
    "    if i == 0 or i == 4:\n",
    "        print(\"* \" * 5)\n",
    "    else:\n",
    "        print(\"* \" + \" \" * 6 + \"*\")"
   ]
  },
  {
   "cell_type": "code",
   "execution_count": 103,
   "id": "aca6ebf1",
   "metadata": {},
   "outputs": [
    {
     "name": "stdout",
     "output_type": "stream",
     "text": [
      "0 1 2 3 4 5 \n",
      "0 1 2 3 4 \n",
      "0 1 2 3 \n",
      "0 1 2 \n",
      "0 1 \n",
      "0 \n"
     ]
    }
   ],
   "source": [
    "# 0 1 2 3 4 5\n",
    "# 0 1 2 3 4\n",
    "# 0 1 2 3\n",
    "# 0 1 2\n",
    "# 0 1\n",
    "# 0\n",
    "\n",
    "for i in range(6, 0, -1):\n",
    "    for j in range (i):\n",
    "        print(j, end=\" \")\n",
    "    print()"
   ]
  },
  {
   "cell_type": "code",
   "execution_count": 110,
   "id": "bccc2a0b",
   "metadata": {},
   "outputs": [
    {
     "name": "stdout",
     "output_type": "stream",
     "text": [
      "1 \n",
      "3 3 \n",
      "5 5 5 \n",
      "7 7 7 7 \n",
      "9 9 9 9 9 \n"
     ]
    }
   ],
   "source": [
    "# 1\n",
    "# 3 3\n",
    "# 5 5 5\n",
    "# 7 7 7 7\n",
    "# 9 9 9 9 9\n",
    "\n",
    "j = 1\n",
    "for i in range(1, 6):\n",
    "    print(f\"{j} \" * i)\n",
    "    j += 2"
   ]
  },
  {
   "cell_type": "code",
   "execution_count": 111,
   "id": "dda00e0a",
   "metadata": {},
   "outputs": [
    {
     "name": "stdout",
     "output_type": "stream",
     "text": [
      "1 \n",
      "2 1 \n",
      "3 2 1 \n",
      "4 3 2 1 \n",
      "5 4 3 2 1 \n"
     ]
    }
   ],
   "source": [
    "# 1\n",
    "# 2 1\n",
    "# 3 2 1\n",
    "# 4 3 2 1\n",
    "# 5 4 3 2 1\n",
    "\n",
    "for i in range (1,6):\n",
    "    for j in range(i,0,-1):\n",
    "        print(j,end=\" \")\n",
    "    print()"
   ]
  },
  {
   "cell_type": "code",
   "execution_count": 122,
   "id": "ff18dc63",
   "metadata": {},
   "outputs": [
    {
     "name": "stdout",
     "output_type": "stream",
     "text": [
      "1 \n",
      "2 4 \n",
      "3 6 9 \n",
      "4 8 12 16 \n",
      "5 10 15 20 25 \n"
     ]
    }
   ],
   "source": [
    "# 1\n",
    "# 2 4\n",
    "# 3 6 9\n",
    "# 4 8 12 16\n",
    "# 5 10 15 20 25\n",
    "\n",
    "for i in range(1, 6):\n",
    "    for j in range(i):\n",
    "        print(i*(j+1), end=\" \")\n",
    "    print()"
   ]
  },
  {
   "cell_type": "code",
   "execution_count": 131,
   "id": "9a1a0a02",
   "metadata": {},
   "outputs": [
    {
     "name": "stdout",
     "output_type": "stream",
     "text": [
      "A \n",
      "B C \n",
      "D E F \n",
      "G H I J \n",
      "K L M N O \n",
      "P Q R S T U \n",
      "V W X Y Z [ \\ \n"
     ]
    }
   ],
   "source": [
    "# A\n",
    "# B C\n",
    "# D E F\n",
    "# G H I J\n",
    "# K L M N O\n",
    "# P Q R S T U\n",
    "# V W X Y Z [ \\\n",
    "\n",
    "a = 65\n",
    "for i in range (1,8):\n",
    "    for j in range(i):\n",
    "        print(chr(a), end=\" \")\n",
    "        a += 1\n",
    "    print()"
   ]
  },
  {
   "cell_type": "code",
   "execution_count": 144,
   "id": "77e94074",
   "metadata": {},
   "outputs": [
    {
     "name": "stdout",
     "output_type": "stream",
     "text": [
      "        1 \n",
      "      2 1 2 \n",
      "    3 2 1 2 3 \n",
      "  4 3 2 1 2 3 4 \n",
      "5 4 3 2 1 2 3 4 5 \n"
     ]
    }
   ],
   "source": [
    "#         1\n",
    "#       2 1 2\n",
    "#     3 2 1 2 3\n",
    "#   4 3 2 1 2 3 4\n",
    "# 5 4 3 2 1 2 3 4 5\n",
    "\n",
    "for i in range(1, 6):\n",
    "    print(\"  \" * (5-i), end=\"\")\n",
    "    for j in range(i,0,-1):\n",
    "        print(j, end=\" \")\n",
    "    for j in range(2,i+1):\n",
    "        print(j, end=\" \")\n",
    "    print()"
   ]
  }
 ],
 "metadata": {
  "kernelspec": {
   "display_name": "Python 3",
   "language": "python",
   "name": "python3"
  },
  "language_info": {
   "codemirror_mode": {
    "name": "ipython",
    "version": 3
   },
   "file_extension": ".py",
   "mimetype": "text/x-python",
   "name": "python",
   "nbconvert_exporter": "python",
   "pygments_lexer": "ipython3",
   "version": "3.12.5"
  }
 },
 "nbformat": 4,
 "nbformat_minor": 5
}
