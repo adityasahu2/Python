{
 "cells": [
  {
   "cell_type": "code",
   "execution_count": 6,
   "id": "533e94ef",
   "metadata": {},
   "outputs": [
    {
     "name": "stdout",
     "output_type": "stream",
     "text": [
      "Carry an umbrella\n"
     ]
    }
   ],
   "source": [
    "# Q1. Write a program such that Python will ask you if it is raining or not. If your answer is ”yes”, Python will say ”Carry an umbrella”. If you type anything else, Python will say ”Bye”.\n",
    "rain = input(\"Is it raining? (yes or no): \").lower()\n",
    "if rain == \"yes\":\n",
    "    print(\"Carry an umbrella\")\n",
    "else:\n",
    "    print(\"Bye\")"
   ]
  },
  {
   "cell_type": "code",
   "execution_count": 7,
   "id": "5f62f5bf",
   "metadata": {},
   "outputs": [
    {
     "name": "stdout",
     "output_type": "stream",
     "text": [
      "No need to carry an umbrella\n"
     ]
    }
   ],
   "source": [
    "# Q2. Write a program such that Python will ask you if it is raining or not. If your answer is ”yes”, Python will say ”Carry an umbrella”. If you say ”no”, Python will say ”No need to carry an umbrella”. If you type anything else, Python will say ”Bye”.\n",
    "rain = input(\"Is it raining? (yes or no): \").lower()\n",
    "if rain == \"yes\":\n",
    "    print(\"Carry an umbrella\")\n",
    "elif rain == \"no\":\n",
    "    print(\"No need to carry an umbrella\")\n",
    "else:\n",
    "    print(\"Bye\")"
   ]
  },
  {
   "cell_type": "code",
   "execution_count": 8,
   "id": "40925209",
   "metadata": {},
   "outputs": [
    {
     "name": "stdout",
     "output_type": "stream",
     "text": [
      "Grade: D\n",
      "Comment: Needs Improvement\n"
     ]
    }
   ],
   "source": [
    "# Q3. Write a Python program to calculate a student’s letter grade based on their numeric score using the fol- lowing scale: A (90–100), B (80–89), C (70–79), D (60–69), and F (below 60). Additionally, provide a comment for each grade: ”Excellent” for A, ”Good” for B, ”Average” for C, ”Needs Improvement” for D, and ”Failing” for F.\n",
    "score = int(input(\"Enter the student's score (0-100): \"))\n",
    "if 90 <= score <= 100:\n",
    "    grade = 'A'\n",
    "    comment = 'Excellent'\n",
    "elif 80 <= score < 90:\n",
    "    grade = 'B'\n",
    "    comment = 'Good'\n",
    "elif 70 <= score < 80:\n",
    "    grade = 'C'\n",
    "    comment = 'Average'\n",
    "elif 60 <= score < 70:\n",
    "    grade = 'D'\n",
    "    comment = 'Needs Improvement'\n",
    "elif 0 <= score < 60:\n",
    "    grade = 'F'\n",
    "    comment = 'Failing'\n",
    "else:\n",
    "    grade = None\n",
    "    comment = \"Invalid score entered\"\n",
    "if grade:\n",
    "    print(f\"Grade: {grade}\")\n",
    "    print(f\"Comment: {comment}\")\n",
    "else:\n",
    "    print(comment)"
   ]
  },
  {
   "cell_type": "code",
   "execution_count": 9,
   "id": "39bd0f80",
   "metadata": {},
   "outputs": [
    {
     "name": "stdout",
     "output_type": "stream",
     "text": [
      "5 is an odd number.\n"
     ]
    }
   ],
   "source": [
    "# Q4. Write a program that takes an integer input from the user and tells the user whether the number is even or odd.\n",
    "num = int(input(\"Enter an integer: \"))\n",
    "if num % 2 == 0:\n",
    "    print(f\"{num} is an even number.\")\n",
    "else:\n",
    "    print(f\"{num} is an odd number.\")"
   ]
  },
  {
   "cell_type": "code",
   "execution_count": 10,
   "id": "1df70f22",
   "metadata": {},
   "outputs": [
    {
     "name": "stdout",
     "output_type": "stream",
     "text": [
      "2024 is a leap year.\n"
     ]
    }
   ],
   "source": [
    "# Q5. Write a program that takes a year as input and determines whether it is a leap year or not.\n",
    "year = int(input(\"Enter a year: \"))\n",
    "if (year % 4 == 0 and year % 100 != 0) or (year % 400 == 0):\n",
    "    print(f\"{year} is a leap year.\")\n",
    "else:\n",
    "    print(f\"{year} is not a leap year.\")"
   ]
  },
  {
   "cell_type": "code",
   "execution_count": 11,
   "id": "89030deb",
   "metadata": {},
   "outputs": [
    {
     "name": "stdout",
     "output_type": "stream",
     "text": [
      "5 is a prime number.\n"
     ]
    }
   ],
   "source": [
    "# Q6. Write a program that takes an integer input from the user and prints whether it is prime or not.\n",
    "num = int(input(\"Enter an integer: \"))\n",
    "if num > 1:\n",
    "    for i in range(2, int(num ** 0.5) + 1):\n",
    "        if num % i == 0:\n",
    "            print(f\"{num} is not a prime number.\")\n",
    "            break\n",
    "    else:\n",
    "        print(f\"{num} is a prime number.\")\n",
    "else:\n",
    "    print(f\"{num} is not a prime number.\")"
   ]
  },
  {
   "cell_type": "code",
   "execution_count": 12,
   "id": "c85d7676",
   "metadata": {},
   "outputs": [
    {
     "name": "stdout",
     "output_type": "stream",
     "text": [
      "Sum of all prime numbers less than 20 is 77.\n"
     ]
    }
   ],
   "source": [
    "# Q7. In line with the previous question, write a program to compute the sum of all prime numbers below a user input number, e.g., Sum of all prime numbers less than 20 is 77.\n",
    "num = int(input(\"Enter an integer: \"))\n",
    "sum = 0\n",
    "for i in range(2,num+1):\n",
    "    if i > 1:\n",
    "        for j in range(2, int(i ** 0.5) + 1):\n",
    "            if i % j == 0:\n",
    "                break\n",
    "        else:\n",
    "            sum += i\n",
    "print(f\"Sum of all prime numbers less than {num} is {sum}.\")"
   ]
  },
  {
   "cell_type": "code",
   "execution_count": 16,
   "id": "187baf34",
   "metadata": {},
   "outputs": [
    {
     "name": "stdout",
     "output_type": "stream",
     "text": [
      "Result : 20\n"
     ]
    }
   ],
   "source": [
    "# Q8. Write a program that takes an integer input from the user. Use a while loop to continuously prompt for input until the user enters a positive number. If the final number is even, multiply it by 2 and if it is odd, square it. Display the results at the end.\n",
    "num = int(input(\"Enter an integer: \"))\n",
    "while(num < 0):\n",
    "    num = int(input(\"Enter an integer: \"))\n",
    "if num % 2 == 0: \n",
    "    num *= 2\n",
    "else: \n",
    "    num *= num\n",
    "print(f\"Result : {num}\")"
   ]
  },
  {
   "cell_type": "code",
   "execution_count": 18,
   "id": "1228c973",
   "metadata": {},
   "outputs": [
    {
     "name": "stdout",
     "output_type": "stream",
     "text": [
      "Invalid input\n"
     ]
    }
   ],
   "source": [
    "# Q9. Write a program to find the remainder when a user input number is divided by 5 using match case. If the user inputs a non-integer, Python should say ”Invalid input” and stop.\n",
    "try:\n",
    "    num = int(input(\"Enter an integer: \"))\n",
    "    remainder = num % 5\n",
    "    match remainder:\n",
    "        case 0:\n",
    "            print(f\"The remainder when {num} is divided by 5 is 0.\")\n",
    "        case 1:\n",
    "            print(f\"The remainder when {num} is divided by 5 is 1.\")\n",
    "        case 2:\n",
    "            print(f\"The remainder when {num} is divided by 5 is 2.\")\n",
    "        case 3:\n",
    "            print(f\"The remainder when {num} is divided by 5 is 3.\")\n",
    "        case 4:\n",
    "            print(f\"The remainder when {num} is divided by 5 is 4.\")\n",
    "except ValueError:\n",
    "    print(\"Invalid input\")"
   ]
  },
  {
   "cell_type": "code",
   "execution_count": 20,
   "id": "3226aca2",
   "metadata": {},
   "outputs": [
    {
     "name": "stdout",
     "output_type": "stream",
     "text": [
      "a\n",
      "ab\n",
      "abc\n",
      "b\n",
      "bc\n",
      "c\n"
     ]
    }
   ],
   "source": [
    "# Q10. Write a program that takes a string as input and prints out all possible sub-strings of the string using loops, e.g., if the input is ”abc”, the output should be ”a”, ”ab”, ”abc”, ”b”, ”bc”, ”c”.\n",
    "string = input(\"Enter a string: \")\n",
    "for i in range(len(string)):\n",
    "    substring = \"\"\n",
    "    for j in range(i, len(string)):\n",
    "        substring += string[j]\n",
    "        print(substring)"
   ]
  },
  {
   "cell_type": "code",
   "execution_count": 21,
   "id": "a6f20ffb",
   "metadata": {},
   "outputs": [
    {
     "name": "stdout",
     "output_type": "stream",
     "text": [
      "Result: 10.0 + 20.0 = 30.0\n",
      "Exiting\n"
     ]
    }
   ],
   "source": [
    "# Q11. Write a program that functions as a simple calculator. It should continuously accept a pair of numbers and an operator (+, -, *, /) from the user and print the result. If the user types ”exit,” the program quits. Otherwise the program continues asking for a pair of input numbers.\n",
    "while True:\n",
    "    operator = input(\"Enter an operator (+, -, *, /) or type 'exit' to quit: \")\n",
    "    if operator == \"exit\":\n",
    "        print(\"Exiting\")\n",
    "        break\n",
    "    if operator not in ['+', '-', '*', '/']:\n",
    "        print(\"Invalid operator\")\n",
    "        continue\n",
    "    num1 = float(input(\"Enter the first number: \"))\n",
    "    num2 = float(input(\"Enter the second number: \"))\n",
    "    if operator == '+':\n",
    "        result = num1 + num2\n",
    "    elif operator == '-':\n",
    "        result = num1 - num2\n",
    "    elif operator == '*':\n",
    "        result = num1 * num2\n",
    "    elif operator == '/':\n",
    "        if num2 != 0:\n",
    "            result = num1 / num2\n",
    "        else:\n",
    "            print(\"Division by zero is not allowed.\")\n",
    "            continue\n",
    "    print(f\"Result: {num1} {operator} {num2} = {result}\")"
   ]
  },
  {
   "cell_type": "code",
   "execution_count": 2,
   "id": "f7369db3",
   "metadata": {},
   "outputs": [
    {
     "name": "stdout",
     "output_type": "stream",
     "text": [
      "Mean: 3.5833333333333335\n",
      "Median: 4.0\n",
      "Mode: 4\n"
     ]
    }
   ],
   "source": [
    "# Q12. Write a program to find out the mean, median, and mode of 1, 2, 3, 2, 3, 4, 4, 4, 5, 4, 5, 6.\n",
    "data = [1, 2, 3, 2, 3, 4, 4, 4, 5, 4, 5, 6]\n",
    "\n",
    "total = 0\n",
    "for num in data:\n",
    "    total += num\n",
    "mean = total / len(data)\n",
    "\n",
    "for i in range(len(data)):\n",
    "    for j in range(1, len(data) - i - 1):\n",
    "        if data[j-1] > data[j]:\n",
    "            data[j-1]+= data[j]\n",
    "            data[j] = data[j-1] - data[j]\n",
    "            data[j] = data[j-1] - data[j]\n",
    "\n",
    "n = len(data)\n",
    "if n % 2 == 0:\n",
    "    median = (data[n//2 - 1] + data[n//2]) / 2\n",
    "else:\n",
    "    median = data[n//2]\n",
    "\n",
    "max_count = 0\n",
    "mode = data[0]\n",
    "for num in data:\n",
    "    count = 0\n",
    "    for i in data:\n",
    "        if i == num:\n",
    "            count += 1\n",
    "    if count > max_count:\n",
    "        max_count = count\n",
    "        mode = num\n",
    "\n",
    "print(f\"Mean: {mean}\")\n",
    "print(f\"Median: {median}\")\n",
    "print(f\"Mode: {mode}\")"
   ]
  },
  {
   "cell_type": "code",
   "execution_count": 15,
   "id": "7aacc832",
   "metadata": {},
   "outputs": [
    {
     "name": "stdout",
     "output_type": "stream",
     "text": [
      "Black\n"
     ]
    }
   ],
   "source": [
    "# Q13. Positions on a chess board are identified by a letter and a number. The letter identifies the column, while the number identifies the row, as shown below in Figure 1: Write a program that reads a position from the user and identify the proper color of the respective box.\n",
    "\n",
    "box = input(\"Enter row and column : \")\n",
    "column = box[0]\n",
    "row = int(box[1])\n",
    "if (0 < row < 9 and 'a' >= column.lower() <= 'h'):\n",
    "    if ((row%2 == 0 and column.lower() in ['a', 'c', 'e', 'g']) or (row%2 == 0 and column.lower() in ['b', 'd', 'f', 'h'])):\n",
    "        print(\"White\")\n",
    "    else:\n",
    "        print(\"Black\")\n",
    "else:\n",
    "    print(\"Invalid input\")"
   ]
  },
  {
   "cell_type": "code",
   "execution_count": 18,
   "id": "993c5fcf",
   "metadata": {},
   "outputs": [
    {
     "name": "stdout",
     "output_type": "stream",
     "text": [
      "Bill : $363.375\n"
     ]
    }
   ],
   "source": [
    "# Q14. Write a Python program that calculates the final cost of a hotel booking based on :- \n",
    "# the room type (Standard: $100/night, Deluxe: $150/night, Suite: $250/night), \n",
    "# the length of stay (10% discount for >3 nights, 20% discount for >7 nights), \n",
    "# the season (20% increase during peak season, 15% decrease during the off-season), \n",
    "# and whether the customer is a loyalty member (5% additional discount). \n",
    "# The program should output the final booking cost after applying all relevant discounts and adjustments.\n",
    "\n",
    "room = input(\"Enter room type (Standard/Deluxe/Suite) : \")\n",
    "if room.lower() in ['standard','deluxe','suite']:\n",
    "    night = int(input(\"Enter number of nights stayed : \"))\n",
    "    if night > 0:\n",
    "        if room.lower() == \"standard\":\n",
    "            bill = night*100\n",
    "        elif room.lower() == \"deluxe\":\n",
    "            bill = night*150\n",
    "        elif room.lower() == \"suite\":\n",
    "            bill = night*250\n",
    "\n",
    "        if night > 7:\n",
    "            bill *= 0.8\n",
    "        if night > 3:\n",
    "            bill *= 0.9\n",
    "        \n",
    "        season = input(\"Enter season (Peak/Off) : \")\n",
    "        if season.lower() in ['peak','off'] :\n",
    "            if season.lower() == \"peak\":\n",
    "                bill *= 1.2\n",
    "            elif season.lower() == \"off\":\n",
    "                bill *= 0.85\n",
    "            \n",
    "            member = input(\"Are you a loyalty member (Yes/No) : \")\n",
    "            if member.lower() in ['yes','no'] :\n",
    "                if member.lower() == \"yes\":\n",
    "                    bill *= 0.95\n",
    "                elif member.lower() == \"no\":\n",
    "                    pass\n",
    "                print(f\"Bill : ${bill}\")\n",
    "            else: print(\"Invalid member\")\n",
    "        else: print(\"Invalid season\")\n",
    "    else: print(\"Invalid length of stay\")\n",
    "else: print(\"Invalid room type\")"
   ]
  }
 ],
 "metadata": {
  "kernelspec": {
   "display_name": "Python 3",
   "language": "python",
   "name": "python3"
  },
  "language_info": {
   "codemirror_mode": {
    "name": "ipython",
    "version": 3
   },
   "file_extension": ".py",
   "mimetype": "text/x-python",
   "name": "python",
   "nbconvert_exporter": "python",
   "pygments_lexer": "ipython3",
   "version": "3.12.5"
  }
 },
 "nbformat": 4,
 "nbformat_minor": 5
}
