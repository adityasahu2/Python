{
 "cells": [
  {
   "cell_type": "code",
   "execution_count": 1,
   "id": "533e94ef",
   "metadata": {},
   "outputs": [
    {
     "name": "stdout",
     "output_type": "stream",
     "text": [
      "Is it raining? (yes or no): yes\n",
      "Carry an umbrella\n"
     ]
    }
   ],
   "source": [
    "# Q1\n",
    "rain = input(\"Is it raining? (yes or no): \").lower()\n",
    "if rain == \"yes\":\n",
    "    print(\"Carry an umbrella\")\n",
    "else:\n",
    "    print(\"Bye\")"
   ]
  },
  {
   "cell_type": "code",
   "execution_count": 2,
   "id": "5f62f5bf",
   "metadata": {},
   "outputs": [
    {
     "name": "stdout",
     "output_type": "stream",
     "text": [
      "Is it raining? (yes or no): no\n",
      "No need to carry an umbrella\n"
     ]
    }
   ],
   "source": [
    "# Q2\n",
    "rain = input(\"Is it raining? (yes or no): \").lower()\n",
    "if rain == \"yes\":\n",
    "    print(\"Carry an umbrella\")\n",
    "elif rain == \"no\":\n",
    "    print(\"No need to carry an umbrella\")\n",
    "else:\n",
    "    print(\"Bye\")"
   ]
  },
  {
   "cell_type": "code",
   "execution_count": 3,
   "id": "40925209",
   "metadata": {},
   "outputs": [
    {
     "name": "stdout",
     "output_type": "stream",
     "text": [
      "Enter the student's score (0-100): 65\n",
      "Grade: D\n",
      "Comment: Needs Improvement\n"
     ]
    }
   ],
   "source": [
    "# Q3\n",
    "score = int(input(\"Enter the student's score (0-100): \"))\n",
    "if 90 <= score <= 100:\n",
    "    grade = 'A'\n",
    "    comment = 'Excellent'\n",
    "elif 80 <= score < 90:\n",
    "    grade = 'B'\n",
    "    comment = 'Good'\n",
    "elif 70 <= score < 80:\n",
    "    grade = 'C'\n",
    "    comment = 'Average'\n",
    "elif 60 <= score < 70:\n",
    "    grade = 'D'\n",
    "    comment = 'Needs Improvement'\n",
    "elif 0 <= score < 60:\n",
    "    grade = 'F'\n",
    "    comment = 'Failing'\n",
    "else:\n",
    "    grade = None\n",
    "    comment = \"Invalid score entered\"\n",
    "if grade:\n",
    "    print(f\"Grade: {grade}\")\n",
    "    print(f\"Comment: {comment}\")\n",
    "else:\n",
    "    print(comment)"
   ]
  },
  {
   "cell_type": "code",
   "execution_count": 4,
   "id": "39bd0f80",
   "metadata": {},
   "outputs": [
    {
     "name": "stdout",
     "output_type": "stream",
     "text": [
      "Enter an integer: 0\n",
      "0 is an even number.\n"
     ]
    }
   ],
   "source": [
    "# Q4\n",
    "num = int(input(\"Enter an integer: \"))\n",
    "if num % 2 == 0:\n",
    "    print(f\"{num} is an even number.\")\n",
    "else:\n",
    "    print(f\"{num} is an odd number.\")"
   ]
  },
  {
   "cell_type": "code",
   "execution_count": 5,
   "id": "1df70f22",
   "metadata": {},
   "outputs": [
    {
     "name": "stdout",
     "output_type": "stream",
     "text": [
      "Enter a year: 2024\n",
      "2024 is a leap year.\n"
     ]
    }
   ],
   "source": [
    "# Q5\n",
    "year = int(input(\"Enter a year: \"))\n",
    "if (year % 4 == 0 and year % 100 != 0) or (year % 400 == 0):\n",
    "    print(f\"{year} is a leap year.\")\n",
    "else:\n",
    "    print(f\"{year} is not a leap year.\")"
   ]
  },
  {
   "cell_type": "code",
   "execution_count": 6,
   "id": "89030deb",
   "metadata": {},
   "outputs": [
    {
     "name": "stdout",
     "output_type": "stream",
     "text": [
      "Enter an integer: 3\n",
      "3 is a prime number.\n"
     ]
    }
   ],
   "source": [
    "# Q6\n",
    "num = int(input(\"Enter an integer: \"))\n",
    "if num > 1:\n",
    "    for i in range(2, int(num ** 0.5) + 1):\n",
    "        if num % i == 0:\n",
    "            print(f\"{num} is not a prime number.\")\n",
    "            break\n",
    "    else:\n",
    "        print(f\"{num} is a prime number.\")\n",
    "else:\n",
    "    print(f\"{num} is not a prime number.\")"
   ]
  },
  {
   "cell_type": "code",
   "execution_count": null,
   "id": "c85d7676",
   "metadata": {},
   "outputs": [],
   "source": [
    "# Q7"
   ]
  }
 ],
 "metadata": {
  "kernelspec": {
   "display_name": "Python 3 (ipykernel)",
   "language": "python",
   "name": "python3"
  },
  "language_info": {
   "codemirror_mode": {
    "name": "ipython",
    "version": 3
   },
   "file_extension": ".py",
   "mimetype": "text/x-python",
   "name": "python",
   "nbconvert_exporter": "python",
   "pygments_lexer": "ipython3",
   "version": "3.11.4"
  }
 },
 "nbformat": 4,
 "nbformat_minor": 5
}
