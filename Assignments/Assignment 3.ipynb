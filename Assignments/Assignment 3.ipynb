{
 "cells": [
  {
   "cell_type": "code",
   "execution_count": null,
   "metadata": {},
   "outputs": [
    {
     "name": "stdout",
     "output_type": "stream",
     "text": [
      "9, 8, 7\n"
     ]
    }
   ],
   "source": [
    "# Q1 Write a Python function to find the first, second and third greatest digit in a number.\n",
    "# Sample Number: 6328\n",
    "# Expected Output: 8, 6, 3\n",
    "\n",
    "def greatest(num):\n",
    "    first = second = third = 0\n",
    "    while num > 0:\n",
    "        digit = num % 10\n",
    "        if digit > first:\n",
    "            third = second\n",
    "            second = first\n",
    "            first = digit\n",
    "        elif digit > second and digit != first:\n",
    "            third = second\n",
    "            second = digit\n",
    "        elif digit > third and digit != first and digit != second:\n",
    "            third = digit\n",
    "        num //= 10\n",
    "    return first, second, third\n",
    "\n",
    "num = int(input(\"Enter a number: \"))\n",
    "first, second, third = greatest(num)\n",
    "print(first, second, third, sep=\", \")"
   ]
  },
  {
   "cell_type": "code",
   "execution_count": 1,
   "metadata": {},
   "outputs": [
    {
     "name": "stdout",
     "output_type": "stream",
     "text": [
      "105\n",
      "120\n",
      "135\n",
      "150\n",
      "165\n",
      "180\n",
      "195\n",
      "210\n",
      "225\n",
      "240\n",
      "255\n",
      "270\n",
      "285\n",
      "300\n",
      "315\n",
      "330\n",
      "345\n",
      "360\n",
      "375\n",
      "390\n",
      "405\n",
      "420\n",
      "435\n",
      "450\n",
      "465\n",
      "480\n",
      "495\n"
     ]
    }
   ],
   "source": [
    "# Q2 Find the numbers between 100 and 500, which are divisible by 3 and multiples of 5 using function in Python\n",
    "\n",
    "def numbers():\n",
    "    for num in range(100, 501):\n",
    "        if num % 3 == 0 and num % 5 == 0:\n",
    "            print(num)\n",
    "\n",
    "numbers()"
   ]
  },
  {
   "cell_type": "code",
   "execution_count": 2,
   "metadata": {},
   "outputs": [
    {
     "name": "stdout",
     "output_type": "stream",
     "text": [
      "22100\n"
     ]
    }
   ],
   "source": [
    "# Q3 Write a Python function to add the squares of the even numbers between 1 and 50 (both included).\n",
    "\n",
    "def sum():\n",
    "    sum = 0\n",
    "    for num in range(1, 51):\n",
    "        if num % 2 == 0:\n",
    "            sum += num ** 2\n",
    "    return sum\n",
    "\n",
    "print(sum())"
   ]
  },
  {
   "cell_type": "code",
   "execution_count": 3,
   "metadata": {},
   "outputs": [
    {
     "name": "stdout",
     "output_type": "stream",
     "text": [
      "Reversed string: aytida\n"
     ]
    }
   ],
   "source": [
    "# Q4 Write a function that takes a string as input and returns the reversed string.\n",
    "\n",
    "def string(str):\n",
    "    return str[::-1]\n",
    "\n",
    "str = input(\"Enter a string: \")\n",
    "rev = string(str)\n",
    "print(\"Reversed string:\", rev)"
   ]
  },
  {
   "cell_type": "code",
   "execution_count": null,
   "metadata": {},
   "outputs": [
    {
     "name": "stdout",
     "output_type": "stream",
     "text": [
      "Number of digits: 9\n"
     ]
    }
   ],
   "source": [
    "# Q5 Write a function that takes a positive integer and returns the number of digits.\n",
    "\n",
    "def digits(num):\n",
    "    return len(str(num))\n",
    "\n",
    "num = int(input(\"Enter a positive integer: \"))\n",
    "print(\"Number of digits:\", digits(num))"
   ]
  },
  {
   "cell_type": "code",
   "execution_count": null,
   "metadata": {},
   "outputs": [
    {
     "name": "stdout",
     "output_type": "stream",
     "text": [
      "The string is a palindrome.\n"
     ]
    }
   ],
   "source": [
    "# Q6 Define a function to check if a given string is a palindrome. Example: madam ⟲ madam, racecar ⟲ racecar.\n",
    "\n",
    "def isPalindrome(str):\n",
    "    return str == str[::-1]\n",
    "\n",
    "str = input(\"Enter a string: \")\n",
    "if isPalindrome(str):\n",
    "    print(\"The string is a palindrome.\")\n",
    "else:\n",
    "    print(\"The string is not a palindrome.\")"
   ]
  },
  {
   "cell_type": "code",
   "execution_count": 7,
   "metadata": {},
   "outputs": [
    {
     "name": "stdout",
     "output_type": "stream",
     "text": [
      "A is a vowel.\n"
     ]
    }
   ],
   "source": [
    "# Q7 Write a Python function to check whether an alphabet is a vowel or consonant.\n",
    "\n",
    "def isVowel(char):\n",
    "    vowels = ['a', 'e', 'i', 'o', 'u']\n",
    "    return char.lower() in vowels\n",
    "\n",
    "char = input(\"Enter an alphabet: \")\n",
    "if isVowel(char):\n",
    "    print(char, \"is a vowel.\")\n",
    "else:\n",
    "    print(char, \"is a consonant.\")"
   ]
  },
  {
   "cell_type": "code",
   "execution_count": 9,
   "metadata": {},
   "outputs": [
    {
     "name": "stdout",
     "output_type": "stream",
     "text": [
      "No. of days: 28/29 days\n"
     ]
    }
   ],
   "source": [
    "# Q8 Write a Python program that takes the name of a month as input and returns the number of days in that month.\n",
    "# Input: The name of the Month: February\n",
    "# Output: No. of days: 28/29 days\n",
    "\n",
    "def days(month):\n",
    "    months = [\"january\", \"february\", \"march\", \"april\", \"may\", \"june\", \"july\", \"august\", \"september\", \"october\", \"november\", \"december\"]\n",
    "    days = [31, 28, 31, 30, 31, 30, 31, 31, 30, 31, 30, 31]\n",
    "    if month.lower() == \"february\":\n",
    "        return \"No. of days: 28/29 days\"\n",
    "    else:\n",
    "        return f\"No. of days: {days[months.index(month.lower())]} days\"\n",
    "\n",
    "month = input(\"Enter the name of the month: \")\n",
    "print(days(month))"
   ]
  },
  {
   "cell_type": "code",
   "execution_count": 1,
   "metadata": {},
   "outputs": [
    {
     "name": "stdout",
     "output_type": "stream",
     "text": [
      "Decimal equivalent: 42\n",
      "Binary equivalent: 101010\n"
     ]
    }
   ],
   "source": [
    "# Q9 Write two functions, one of which converts a binary number to decimal and the other one does the reverse.\n",
    "\n",
    "def toDecimal(binary):\n",
    "    decimal = 0\n",
    "    for digit in binary:\n",
    "        decimal = decimal * 2 + int(digit)\n",
    "    return decimal\n",
    "\n",
    "def toBinary(decimal):\n",
    "    binary = \"\"\n",
    "    while decimal > 0:\n",
    "        binary = str(decimal % 2) + binary\n",
    "        decimal //= 2\n",
    "    return binary\n",
    "\n",
    "binary = input(\"Enter a binary number: \")\n",
    "decimal = toDecimal(binary)\n",
    "print(\"Decimal equivalent:\", decimal)\n",
    "\n",
    "decimal = int(input(\"Enter a decimal number: \"))\n",
    "binary = toBinary(decimal)\n",
    "print(\"Binary equivalent:\", binary)"
   ]
  },
  {
   "cell_type": "code",
   "execution_count": 4,
   "metadata": {},
   "outputs": [
    {
     "name": "stdout",
     "output_type": "stream",
     "text": [
      "Unique permutations: ['adi', 'aid', 'dai', 'dia', 'iad', 'ida']\n"
     ]
    }
   ],
   "source": [
    "# Q10 Create a function that returns all the unique permutations of a given string.\n",
    "\n",
    "def unique_permutations_manual(s):\n",
    "    if len(s) <= 1:\n",
    "        return [s]\n",
    "    perms = []\n",
    "    \n",
    "    for i in range(len(s)):\n",
    "        char = s[i]\n",
    "        if char in s[:i]:\n",
    "            continue\n",
    "        remaining = s[:i] + s[i+1:]\n",
    "        for p in unique_permutations_manual(remaining):\n",
    "            perms.append(char + p)\n",
    "    return perms\n",
    "\n",
    "string = input(\"Enter a string: \")\n",
    "print(\"Unique permutations:\", unique_permutations_manual(string))\n",
    "\n",
    "\n",
    "# def uniquePermutations(string):\n",
    "#     permutations = set()\n",
    "#     if len(string) == 1:\n",
    "#         return [string]\n",
    "#     for i in range(len(string)):\n",
    "#         char = string[i]\n",
    "#         remaining = string[:i] + string[i+1:]\n",
    "#         for perm in uniquePermutations(remaining):\n",
    "#             permutations.add(char + perm)\n",
    "#     return list(permutations)\n",
    "\n",
    "# string = input(\"Enter a string: \")\n",
    "# permutations = uniquePermutations(string)\n",
    "# print(\"Unique permutations:\")\n",
    "# for perm in permutations:\n",
    "#     print(perm)"
   ]
  },
  {
   "cell_type": "code",
   "execution_count": 9,
   "metadata": {},
   "outputs": [
    {
     "name": "stdout",
     "output_type": "stream",
     "text": [
      "The string can be rearranged to form a palindrome.\n"
     ]
    }
   ],
   "source": [
    "# Q11 Create a function that determines whether a string can be rearranged to form a palindrome\n",
    "\n",
    "def canFormPalindrome(string):\n",
    "    count = {}\n",
    "    for char in string:\n",
    "        count[char] = count.get(char, 0) + 1\n",
    "    oddCount = 0\n",
    "    for cnt in count.values():\n",
    "        if cnt % 2 == 1:\n",
    "            oddCount += 1\n",
    "        if oddCount > 1:\n",
    "            return False    \n",
    "    return True\n",
    "\n",
    "string = input(\"Enter a string: \")\n",
    "if canFormPalindrome(string):\n",
    "    print(\"The string can be rearranged to form a palindrome.\")\n",
    "else: \n",
    "    print(\"The string cannot be rearranged to form a palindrome.\")\n",
    "\n"
   ]
  },
  {
   "cell_type": "code",
   "execution_count": null,
   "metadata": {},
   "outputs": [
    {
     "name": "stdout",
     "output_type": "stream",
     "text": [
      "New date: 2004-07-11\n",
      "New day: Sunday\n"
     ]
    }
   ],
   "source": [
    "# Q12 Write a Python program using functions that prompt the user to enter today’s date (in the format YYYY-MM-DD) and the current day of the week. Then, ask the user to input a number of days. The program should calculate and display the new date and the day of the week after the specified number of days have passed.\n",
    "# Input:\n",
    "# Today’s date: 2024-08-27\n",
    "# Today’s day: Tuesday\n",
    "# Number of days: 5\n",
    "# Output:\n",
    "# New date: 2024-09-01\n",
    "# New day: Sunday\n",
    "\n",
    "from datetime import datetime, timedelta\n",
    "\n",
    "def date_and_day(date, add):\n",
    "    date_obj = datetime.strptime(date, \"%Y-%m-%d\")\n",
    "    new_date_obj = date_obj + timedelta(days=add)\n",
    "    new_date_str = new_date_obj.strftime(\"%Y-%m-%d\")\n",
    "    new_day_of_week = new_date_obj.strftime(\"%A\")\n",
    "    return new_date_str, new_day_of_week\n",
    "\n",
    "date = input(\"Enter today's date (YYYY-MM-DD): \")\n",
    "today_day = input(\"Enter today's day of the week: \")\n",
    "add = int(input(\"Enter the number of days to add: \"))\n",
    "\n",
    "new_date, new_day = date_and_day(date, add)\n",
    "\n",
    "print(\"New date:\", new_date)\n",
    "print(\"New day:\", new_day)\n",
    "\n",
    "# DAYS_IN_MONTH = [31, 28, 31, 30, 31, 30, 31, 31, 30, 31, 30, 31]\n",
    "# DAYS_IN_MONTH_LEAP = [31, 29, 31, 30, 31, 30, 31, 31, 30, 31, 30, 31]\n",
    "# DAYS_OF_WEEK = [\"Sunday\", \"Monday\", \"Tuesday\", \"Wednesday\", \"Thursday\", \"Friday\", \"Saturday\"]\n",
    "\n",
    "# def is_leap_year(year):\n",
    "#     return (year % 4 == 0 and year % 100 != 0) or (year % 400 == 0)\n",
    "\n",
    "# def get_day_index(day):\n",
    "#     return DAYS_OF_WEEK.index(day)\n",
    "\n",
    "# def calculate_new_date(year, month, day, days_to_add):\n",
    "#     days_in_month = DAYS_IN_MONTH_LEAP if is_leap_year(year) else DAYS_IN_MONTH\n",
    "#     day += days_to_add\n",
    "#     while day > days_in_month[month - 1]:\n",
    "#         day -= days_in_month[month - 1]\n",
    "#         month += 1\n",
    "#         if month > 12:\n",
    "#             month = 1\n",
    "#             year += 1\n",
    "#             days_in_month = DAYS_IN_MONTH_LEAP if is_leap_year(year) else DAYS_IN_MONTH\n",
    "\n",
    "#     return year, month, day\n",
    "\n",
    "# def calculate_new_day_of_week(start_day, days_to_add):\n",
    "#     start_day_index = get_day_index(start_day)\n",
    "#     new_day_index = (start_day_index + days_to_add) % 7\n",
    "#     return DAYS_OF_WEEK[new_day_index]\n",
    "\n",
    "# today_date = input(\"Enter today's date (YYYY-MM-DD): \")\n",
    "# today_day = input(\"Enter today's day of the week: \")\n",
    "# days_to_add = int(input(\"Enter the number of days to add: \"))\n",
    "\n",
    "# year, month, day = map(int, today_date.split('-'))\n",
    "\n",
    "# new_year, new_month, new_day = calculate_new_date(year, month, day, days_to_add)\n",
    "# new_day_of_week = calculate_new_day_of_week(today_day, days_to_add)\n",
    "\n",
    "# print(f\"New date: {new_year:04d}-{new_month:02d}-{new_day:02d}\")\n",
    "# print(\"New day:\", new_day_of_week)\n",
    "\n",
    "\n",
    "\n"
   ]
  },
  {
   "cell_type": "code",
   "execution_count": 18,
   "metadata": {},
   "outputs": [
    {
     "name": "stdout",
     "output_type": "stream",
     "text": [
      "Integer equivalent: 9\n"
     ]
    }
   ],
   "source": [
    "# Q13 Write a program that converts a Roman numeral to its integer equivalent\n",
    "\n",
    "def toInt(roman):\n",
    "    rom = {'I': 1, 'V': 5, 'X': 10, 'L': 50, 'C': 100, 'D': 500, 'M': 1000}\n",
    "    val = 0\n",
    "    roman = roman.upper()\n",
    "    for i in range(len(roman)):\n",
    "        if i > 0 and rom[roman[i]] > rom[roman[i-1]]:\n",
    "            val += rom[roman[i]] - 2 * rom[roman[i-1]]\n",
    "        else:\n",
    "            val += rom[roman[i]]\n",
    "    return val\n",
    "\n",
    "roman = input(\"Enter a Roman numeral: \")\n",
    "print(\"Integer equivalent:\", toInt(roman))"
   ]
  },
  {
   "cell_type": "code",
   "execution_count": 20,
   "metadata": {},
   "outputs": [
    {
     "name": "stdout",
     "output_type": "stream",
     "text": [
      "456 is not an Armstrong number.\n"
     ]
    }
   ],
   "source": [
    "# Q14 Write a function to determine if a given number is an Armstrong number. (An Armstrong number is a number that is equal to the sum of its digits, each raised to the power of the number of digits, e.g.,153 = 13 + 53 + 33, 1634 = 14 + 64 + 34 + 44).\n",
    "\n",
    "def isArmstrong(num):\n",
    "    n = len(str(num))\n",
    "    sum = 0\n",
    "    temp = num\n",
    "    while temp > 0:\n",
    "        digit = temp % 10\n",
    "        sum += digit ** n\n",
    "        temp //= 10\n",
    "    return num == sum\n",
    "\n",
    "num = int(input(\"Enter a number: \"))\n",
    "if isArmstrong(num):\n",
    "    print(num, \"is an Armstrong number.\")\n",
    "else:\n",
    "    print(num, \"is not an Armstrong number.\")"
   ]
  },
  {
   "cell_type": "code",
   "execution_count": 22,
   "metadata": {},
   "outputs": [
    {
     "name": "stdout",
     "output_type": "stream",
     "text": [
      "The 5th number in the Fibonacci sequence is 3.\n"
     ]
    }
   ],
   "source": [
    "# Q15 Create a function that returns the nth number in the Fibonacci sequence.\n",
    "\n",
    "def fibonacci(n):\n",
    "    if n <= 0:\n",
    "        print(\"Invalid input. Please enter a positive integer.\")\n",
    "        return -1\n",
    "    elif n == 1:\n",
    "        return 0\n",
    "    elif n == 2:\n",
    "        return 1\n",
    "    else:\n",
    "        a, b = 0, 1\n",
    "        for _ in range(2, n):\n",
    "            a, b = b, a + b\n",
    "        return b\n",
    "\n",
    "n = int(input(\"Enter a positive integer: \"))\n",
    "result = fibonacci(n)\n",
    "if result != -1:\n",
    "    print(f\"The {n}th number in the Fibonacci sequence is {result}.\")"
   ]
  },
  {
   "cell_type": "code",
   "execution_count": 24,
   "metadata": {},
   "outputs": [
    {
     "name": "stdout",
     "output_type": "stream",
     "text": [
      "10.0 + 20.0 = 30.0\n"
     ]
    }
   ],
   "source": [
    "# Q16 Write a function to implement a basic calculator that can add, subtract, multiply, and divide two numbers based on user input.\n",
    "\n",
    "def calculator(num1, num2,operator):\n",
    "    if operator == \"+\":\n",
    "        result = num1 + num2\n",
    "        print(f\"{num1} + {num2} = {result}\")\n",
    "    elif operator == \"-\":\n",
    "        result = num1 - num2\n",
    "        print(f\"{num1} - {num2} = {result}\")\n",
    "    elif operator == \"*\":\n",
    "        result = num1 * num2\n",
    "        print(f\"{num1} * {num2} = {result}\")\n",
    "    elif operator == \"/\":\n",
    "        if num2 == 0:\n",
    "            print(\"Error: Division by zero is not allowed.\")\n",
    "        else:\n",
    "            result = num1 / num2\n",
    "            print(f\"{num1} / {num2} = {result}\")\n",
    "    else: \n",
    "        print(\"Error: Invalid operation. Please enter a valid operation (+, -, *, /).\")\n",
    "\n",
    "\n",
    "num1 = float(input(\"Enter the first number: \"))\n",
    "operator = input(\"Enter the operation (+, -, *, /): \")\n",
    "num2 = float(input(\"Enter the second number: \"))\n",
    "calculator(num1, num2, operator)"
   ]
  },
  {
   "cell_type": "code",
   "execution_count": 25,
   "metadata": {},
   "outputs": [
    {
     "name": "stdout",
     "output_type": "stream",
     "text": [
      "String without vowels: dty\n"
     ]
    }
   ],
   "source": [
    "# Q17  Create a function that takes a string and returns a new string where all the vowels are removed.\n",
    "\n",
    "def remove_vowels(string):\n",
    "    vowels = \"aeiouAEIOU\"\n",
    "    return \"\".join([char for char in string if char not in vowels])\n",
    "\n",
    "string = input(\"Enter a string: \")\n",
    "result = remove_vowels(string)\n",
    "print(\"String without vowels:\", result)"
   ]
  },
  {
   "cell_type": "code",
   "execution_count": 28,
   "metadata": {},
   "outputs": [
    {
     "name": "stdout",
     "output_type": "stream",
     "text": [
      "The strings are anagrams.\n"
     ]
    }
   ],
   "source": [
    "# Q18 Write a function to check if a string is an Anagram of another string. (An anagram is a word or phrase formed by rearranging the letters of a different word or phrase, typically using all the original letters exactly once, e.g. tom marvolo riddle ⇝ i am lord voldemort)\n",
    "\n",
    "def isAnagram(str1, str2):\n",
    "    str1 = str1.replace(\" \", \"\").lower()\n",
    "    str2 = str2.replace(\" \", \"\").lower()\n",
    "    return sorted(str1.lower()) == sorted(str2.lower())\n",
    "\n",
    "str1 = input(\"Enter the first string: \")\n",
    "str2 = input(\"Enter the second string: \")\n",
    "if isAnagram(str1, str2):\n",
    "    print(\"The strings are anagrams.\")\n",
    "else: \n",
    "    print(\"The strings are not anagrams.\")\n"
   ]
  },
  {
   "cell_type": "code",
   "execution_count": 29,
   "metadata": {},
   "outputs": [
    {
     "name": "stdout",
     "output_type": "stream",
     "text": [
      "The greatest common divisor of 10 and 20 is 10\n"
     ]
    }
   ],
   "source": [
    "# Q19 Create a function to find the greatest common divisor (GCD) of two numbers using a while loop.\n",
    "\n",
    "def gcd(a, b):\n",
    "    while b != 0:\n",
    "        a, b = b, a % b\n",
    "    return a\n",
    "\n",
    "num1 = int(input(\"Enter the first number: \"))  \n",
    "num2 = int(input(\"Enter the second number: \"))\n",
    "result = gcd(num1, num2)\n",
    "print(\"The greatest common divisor of\", num1, \"and\", num2, \"is\", result)"
   ]
  },
  {
   "cell_type": "code",
   "execution_count": 32,
   "metadata": {},
   "outputs": [
    {
     "name": "stdout",
     "output_type": "stream",
     "text": [
      "2\n",
      "3\n",
      "5\n",
      "7\n",
      "11\n",
      "13\n",
      "17\n",
      "19\n",
      "23\n",
      "29\n",
      "31\n",
      "37\n",
      "41\n",
      "43\n",
      "47\n",
      "53\n",
      "59\n",
      "61\n",
      "67\n",
      "71\n",
      "73\n",
      "79\n",
      "83\n",
      "89\n",
      "97\n"
     ]
    }
   ],
   "source": [
    "# Q20 Write a function to print all prime numbers between 1 and 100.\n",
    "\n",
    "def prime():\n",
    "    for num in range(1, 101):\n",
    "        if num > 1:\n",
    "            for i in range(2, num):\n",
    "                if (num % i) == 0:\n",
    "                    break\n",
    "            else:\n",
    "                print(num)\n",
    "\n",
    "prime()"
   ]
  },
  {
   "cell_type": "code",
   "execution_count": 34,
   "metadata": {},
   "outputs": [
    {
     "name": "stdout",
     "output_type": "stream",
     "text": [
      "The factorial of 5 is 120\n"
     ]
    }
   ],
   "source": [
    "# Q21 Write a function to calculate the factorial of a number using a loop.\n",
    "\n",
    "def factorial(n):\n",
    "    result = 1\n",
    "    for i in range(1, n + 1):\n",
    "        result *= i\n",
    "    return result\n",
    "\n",
    "num = int(input(\"Enter a number: \"))\n",
    "result = factorial(num)\n",
    "print(\"The factorial of\", num, \"is\", result)"
   ]
  },
  {
   "cell_type": "code",
   "execution_count": 35,
   "metadata": {},
   "outputs": [
    {
     "name": "stdout",
     "output_type": "stream",
     "text": [
      "10 15 20 25 30 35 40 45 50 55 \n"
     ]
    }
   ],
   "source": [
    "# Q22 Create a function that prints the first 10 terms of an arithmetic progression\n",
    "\n",
    "def arithmetic_progression(a, d, n):\n",
    "    for i in range(n):\n",
    "        print(a + i * d, end=\" \")\n",
    "    print()\n",
    "\n",
    "a = int(input(\"Enter the first term: \"))\n",
    "d = int(input(\"Enter the common difference: \"))\n",
    "n = 10\n",
    "arithmetic_progression(a, d, n)"
   ]
  },
  {
   "cell_type": "code",
   "execution_count": null,
   "metadata": {},
   "outputs": [
    {
     "name": "stdout",
     "output_type": "stream",
     "text": [
      "Indices of vowels: [0, 2, 5]\n"
     ]
    }
   ],
   "source": [
    "# Q23 Write a function that returns the index of each vowel in a string using a for loop.\n",
    "\n",
    "def vowel(s):\n",
    "    vowels = \"aeiouAEIOU\"\n",
    "    index = []\n",
    "    for i in range(len(s)):\n",
    "        if s[i] in vowels:\n",
    "            index.append(i)\n",
    "    return index\n",
    "\n",
    "string = input(\"Enter a string: \")\n",
    "print(\"Index of vowels:\", vowel(string))\n"
   ]
  },
  {
   "cell_type": "code",
   "execution_count": null,
   "metadata": {},
   "outputs": [
    {
     "name": "stdout",
     "output_type": "stream",
     "text": [
      "String without punctuation: adsasdaada4\n"
     ]
    }
   ],
   "source": [
    "# Q24 Write a function that removes all punctuation from a string.\n",
    "\n",
    "# import string\n",
    "\n",
    "# def remove_punctuation(s):\n",
    "#     translator = str.maketrans('', '', string.punctuation)\n",
    "#     return s.translate(translator)\n",
    "\n",
    "# text = input(\"Enter a string: \")\n",
    "# print(\"String without punctuation:\", remove_punctuation(text))\n",
    "\n",
    "\n",
    "# or\n",
    "def remove_punctuation(s):\n",
    "    punctuation = {'!', '\"', '#', '$', '%', '&', \"'\", '(', ')', '*', '+', ',', '-', '.', '/', ':', ';', '<', '=', '>', '?', '@', '[', '\\\\', ']', '^', '_', '`', '{', '|', '}', '~'}\n",
    "    result = ''.join([char for char in s if char not in punctuation])\n",
    "    return result\n",
    "\n",
    "text = input(\"Enter a string: \")\n",
    "print(\"String without punctuation:\", remove_punctuation(text))"
   ]
  },
  {
   "cell_type": "code",
   "execution_count": 1,
   "metadata": {},
   "outputs": [
    {
     "name": "stdout",
     "output_type": "stream",
     "text": [
      "10 and 3 are coprime.\n"
     ]
    }
   ],
   "source": [
    "# Q25 Write a function to check if two numbers are coprime.\n",
    "\n",
    "def coprime(a, b):\n",
    "    if a == 0 or b == 0:\n",
    "        return False\n",
    "    for i in range(2, min(a, b) + 1):\n",
    "        if (a % i == 0) and (b % i == 0):\n",
    "            return False\n",
    "        return True\n",
    "    \n",
    "num1 = int(input(\"Enter the first number: \"))\n",
    "num2 = int(input(\"Enter the second number: \"))\n",
    "if coprime(num1, num2):\n",
    "    print(num1, \"and\", num2, \"are coprime.\")\n",
    "else:\n",
    "    print(num1, \"and\", num2, \"are not coprime.\")"
   ]
  },
  {
   "cell_type": "code",
   "execution_count": 39,
   "metadata": {},
   "outputs": [
    {
     "name": "stdout",
     "output_type": "stream",
     "text": [
      "String with replaced vowels: *d*ty*\n"
     ]
    }
   ],
   "source": [
    "# Q26 Write a function that replaces all vowels in a string with the character \"*\".\n",
    "\n",
    "def replace_vowels(s):\n",
    "    vowels = \"aeiouAEIOU\"\n",
    "    result = \"\"\n",
    "    for char in s:\n",
    "        if char in vowels:\n",
    "            result += \"*\"\n",
    "            continue\n",
    "        result += char\n",
    "    return result\n",
    "\n",
    "string = input(\"Enter a string: \")\n",
    "print(\"String with replaced vowels:\", replace_vowels(string))"
   ]
  },
  {
   "cell_type": "code",
   "execution_count": 4,
   "metadata": {},
   "outputs": [
    {
     "name": "stdout",
     "output_type": "stream",
     "text": [
      "Number in words: five eight\n"
     ]
    }
   ],
   "source": [
    "# Q27 Write a function that takes a positive number as an input and converts the respective digits into corresponding text. Example: 85 7→ eight five, 123 7→ one two three. \n",
    "\n",
    "def words(number):\n",
    "    word = ['zero', 'one', 'two', 'three', 'four', 'five', 'six', 'seven', 'eight', 'nine']\n",
    "    words = [word[int(digit)] for digit in number]\n",
    "    return ' '.join(words)\n",
    "\n",
    "number = input(\"Enter a positive number: \")\n",
    "print(\"Number in words:\", words(number))"
   ]
  },
  {
   "cell_type": "code",
   "execution_count": 42,
   "metadata": {},
   "outputs": [
    {
     "name": "stdout",
     "output_type": "stream",
     "text": [
      "Shifted string: qzuipo\n"
     ]
    }
   ],
   "source": [
    "# Q28 Write a function that takes a string of lowercase alphabets as inputs and gives an output by shifting them by one letter ahead. Note that if the string has ’z’, then it will be treated as ’a’. Example: python 7→ qzuipo, pythonzabc 7→ qzuipobbcd.\n",
    "\n",
    "def shift_letters(s):\n",
    "    result = \"\"\n",
    "    for char in s:\n",
    "        if char.isalpha():\n",
    "            ascii_offset = ord('a') if char.islower() else ord('A')\n",
    "            shifted_ascii = (ord(char) - ascii_offset + 1) % 26 + ascii_offset\n",
    "            result += chr(shifted_ascii)\n",
    "            continue\n",
    "        result += char\n",
    "    return result\n",
    "\n",
    "string = input(\"Enter a string of lowercase alphabets: \")\n",
    "print(\"Shifted string:\", shift_letters(string))"
   ]
  },
  {
   "cell_type": "code",
   "execution_count": 44,
   "metadata": {},
   "outputs": [
    {
     "name": "stdout",
     "output_type": "stream",
     "text": [
      "28 is a perfect number.\n"
     ]
    }
   ],
   "source": [
    "# Q29 Write a function to check if a given number is a perfect number. (A number is called a perfect number if it is equal to the sum of its real divisors, e.g., 6=1+2+3, 28=1+2+4+7+14).\n",
    "\n",
    "def is_perfect_number(n):\n",
    "    if n < 2:\n",
    "        return False\n",
    "    divisor_sum = sum(i for i in range(1, n) if n % i == 0)\n",
    "    return divisor_sum == n\n",
    "\n",
    "number = int(input(\"Enter a number: \"))\n",
    "if is_perfect_number(number):\n",
    "    print(f\"{number} is a perfect number.\")\n",
    "else:\n",
    "    print(f\"{number} is not a perfect number.\")"
   ]
  },
  {
   "cell_type": "code",
   "execution_count": 2,
   "metadata": {},
   "outputs": [
    {
     "name": "stdout",
     "output_type": "stream",
     "text": [
      "Product of digits: 24\n"
     ]
    }
   ],
   "source": [
    "# Q30 Write a function that inputs a number and returns the product of digits of that number.\n",
    "\n",
    "def product_of_digits(n):\n",
    "    n = abs(n)\n",
    "    product = 1\n",
    "    for digit in str(n):\n",
    "        product *= int(digit)\n",
    "    return product\n",
    "\n",
    "number = int(input(\"Enter a number: \"))\n",
    "print(\"Product of digits:\", product_of_digits(number))\n"
   ]
  },
  {
   "cell_type": "code",
   "execution_count": null,
   "metadata": {},
   "outputs": [],
   "source": []
  }
 ],
 "metadata": {
  "kernelspec": {
   "display_name": "Python 3",
   "language": "python",
   "name": "python3"
  },
  "language_info": {
   "codemirror_mode": {
    "name": "ipython",
    "version": 3
   },
   "file_extension": ".py",
   "mimetype": "text/x-python",
   "name": "python",
   "nbconvert_exporter": "python",
   "pygments_lexer": "ipython3",
   "version": "3.12.5"
  }
 },
 "nbformat": 4,
 "nbformat_minor": 2
}
