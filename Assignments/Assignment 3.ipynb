{
 "cells": [
  {
   "cell_type": "code",
   "execution_count": 1,
   "metadata": {},
   "outputs": [
    {
     "name": "stdout",
     "output_type": "stream",
     "text": [
      "9, 8, 7\n"
     ]
    }
   ],
   "source": [
    "# Q1 Write a Python function to find the first, second and third greatest digit in a number.\n",
    "# Sample Number: 6328\n",
    "# Expected Output: 8, 6, 3\n",
    "\n",
    "def greatest(num):\n",
    "    first = second = third = 0\n",
    "    while num > 0:\n",
    "        digit = num % 10\n",
    "        if digit > first:\n",
    "            third = second\n",
    "            second = first\n",
    "            first = digit\n",
    "        elif digit > second and digit != first:\n",
    "            third = second\n",
    "            second = digit\n",
    "        elif digit > third and digit != first and digit != second:\n",
    "            third = digit\n",
    "        num //= 10\n",
    "    return first, second, third\n",
    "\n",
    "num = int(input(\"Enter a number: \"))\n",
    "first, second, third = greatest(num)\n",
    "print(first, second, third, sep=\", \")"
   ]
  },
  {
   "cell_type": "code",
   "execution_count": null,
   "metadata": {},
   "outputs": [],
   "source": [
    "Q2 "
   ]
  }
 ],
 "metadata": {
  "kernelspec": {
   "display_name": "Python 3",
   "language": "python",
   "name": "python3"
  },
  "language_info": {
   "codemirror_mode": {
    "name": "ipython",
    "version": 3
   },
   "file_extension": ".py",
   "mimetype": "text/x-python",
   "name": "python",
   "nbconvert_exporter": "python",
   "pygments_lexer": "ipython3",
   "version": "3.12.5"
  }
 },
 "nbformat": 4,
 "nbformat_minor": 2
}
