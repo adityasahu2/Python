{
 "cells": [
  {
   "cell_type": "code",
   "execution_count": 1,
   "metadata": {},
   "outputs": [
    {
     "name": "stdout",
     "output_type": "stream",
     "text": [
      "Generated List: [63, 50, 58, 91, 36]\n",
      "Sum: 298\n",
      "Average: 59.6\n"
     ]
    }
   ],
   "source": [
    "# 1. Write a Python program to create a list of size N and store the random values in it and find the sum and average\n",
    "import random\n",
    "\n",
    "def create_list_and_calculate(n):\n",
    "    random_list = [random.randint(1, 100) for _ in range(n)]\n",
    "    total_sum = sum(random_list)\n",
    "    average = total_sum / n if n > 0 else 0\n",
    "    print(\"Generated List:\", random_list)\n",
    "    print(\"Sum:\", total_sum)\n",
    "    print(\"Average:\", average)\n",
    "\n",
    "N = int(input(\"Enter the size of the list (N): \"))\n",
    "create_list_and_calculate(N)"
   ]
  },
  {
   "cell_type": "code",
   "execution_count": 2,
   "metadata": {},
   "outputs": [
    {
     "name": "stdout",
     "output_type": "stream",
     "text": [
      "After first rotation: a=1984, b=Doug, c=22\n",
      "After second rotation: a=22, b=1984, c=Doug\n",
      "After third rotation: a=Doug, b=22, c=1984\n"
     ]
    }
   ],
   "source": [
    "# 2. Define a function rotate that receives three arguments and returns a tuple in which the first argument is at index 1, the second argument is at index 2 and the third argument is at index 0. Define variables a, b and c containing ’Doug’, 22 and 1984. Then call the function three times. For each call, unpack its result into a, b and c, then display their values.\n",
    "def rotate(arg1, arg2, arg3):\n",
    "    return (arg3, arg1, arg2)\n",
    "\n",
    "a, b, c = 'Doug', 22, 1984\n",
    "\n",
    "a, b, c = rotate(a, b, c)\n",
    "print(f\"After first rotation: a={a}, b={b}, c={c}\")\n",
    "\n",
    "a, b, c = rotate(a, b, c)\n",
    "print(f\"After second rotation: a={a}, b={b}, c={c}\")\n",
    "\n",
    "a, b, c = rotate(a, b, c)\n",
    "print(f\"After third rotation: a={a}, b={b}, c={c}\")\n"
   ]
  },
  {
   "cell_type": "code",
   "execution_count": null,
   "metadata": {},
   "outputs": [
    {
     "name": "stdout",
     "output_type": "stream",
     "text": [
      "\n",
      "Menu:\n",
      "1. Create a list of N integers\n",
      "2. Display the list elements\n",
      "3. Insert an element at a specific position\n",
      "4. Delete an element at a given position\n",
      "5. Exit\n",
      "\n",
      "Menu:\n",
      "1. Create a list of N integers\n",
      "2. Display the list elements\n",
      "3. Insert an element at a specific position\n",
      "4. Delete an element at a given position\n",
      "5. Exit\n",
      "List elements: [1, 5, 3, 9, 7]\n",
      "\n",
      "Menu:\n",
      "1. Create a list of N integers\n",
      "2. Display the list elements\n",
      "3. Insert an element at a specific position\n",
      "4. Delete an element at a given position\n",
      "5. Exit\n",
      "Exiting the program.\n"
     ]
    }
   ],
   "source": [
    "# 3. Design and develop a menu-driven Python program for the following list operations.\n",
    "# a. Create a list of N integers\n",
    "# b. Display the list elements\n",
    "# c. Insert an element at a specific position\n",
    "# d. Delete an element at a given position\n",
    "# e. Exit\n",
    "\n",
    "lst = []\n",
    "while True:\n",
    "    print(\"\\nMenu:\")\n",
    "    print(\"1. Create a list of N integers\")\n",
    "    print(\"2. Display the list elements\")\n",
    "    print(\"3. Insert an element at a specific position\")\n",
    "    print(\"4. Delete an element at a given position\")\n",
    "    print(\"5. Exit\")\n",
    "    choice = int(input(\"Enter your choice: \"))\n",
    "    \n",
    "    if choice == 1:\n",
    "        N = int(input(\"Enter the size of the list (N): \"))\n",
    "        lst = [int(input(f\"Enter element {i+1}: \")) for i in range(N)]\n",
    "    \n",
    "    elif choice == 2:\n",
    "        print(\"List elements:\", lst)\n",
    "    \n",
    "    elif choice == 3:\n",
    "        elem = int(input(\"Enter the element to insert: \"))\n",
    "        pos = int(input(\"Enter the position (0-based index): \"))\n",
    "        if 0 <= pos <= len(lst):\n",
    "            lst.insert(pos, elem)\n",
    "        else:\n",
    "            print(\"Invalid position!\")\n",
    "    \n",
    "    elif choice == 4:\n",
    "        pos = int(input(\"Enter the position (0-based index) to delete: \"))\n",
    "        if 0 <= pos < len(lst):\n",
    "            lst.pop(pos)\n",
    "        else:\n",
    "            print(\"Invalid position!\")\n",
    "    \n",
    "    elif choice == 5:\n",
    "        print(\"Exiting the program.\")\n",
    "        break\n",
    "    \n",
    "    else:\n",
    "        print(\"Invalid choice! Please try again.\")"
   ]
  },
  {
   "cell_type": "code",
   "execution_count": null,
   "metadata": {},
   "outputs": [
    {
     "name": "stdout",
     "output_type": "stream",
     "text": [
      "Updated List: [4, 6, 7, 8]\n"
     ]
    }
   ],
   "source": [
    "# 4. Write a Python program that removes all occurrences of a specific element from a list.\n",
    "def remove_occurrences(lst, elem):\n",
    "    return [x for x in lst if x != elem]\n",
    "\n",
    "lst = list(map(int, input(\"Enter the list elements separated by spaces: \").split()))\n",
    "elem = int(input(\"Enter the element to remove: \"))\n",
    "\n",
    "updated_list = remove_occurrences(lst, elem)\n",
    "print(\"Updated List:\", updated_list)"
   ]
  },
  {
   "cell_type": "code",
   "execution_count": null,
   "metadata": {},
   "outputs": [],
   "source": [
    "# 5. Are there any mistakes in these codes? State the outputs:\n",
    "# a)  day, high temperature = (’Monday’, 87, 65)\n",
    "# Error: Too many values to unpack. A tuple with 3 elements cannot be unpacked into 2 variables.\n",
    "\n",
    "# b)  numbers = [1, 2, 3, 4, 5]\n",
    "#     numbers[10]\n",
    "# Error: IndexError. The list has no element at index 10 (list indices are from 0 to 4).\n",
    "\n",
    "# c)  name = ’amanda’\n",
    "#     name[0] = ’A’\n",
    "# Error: TypeError. Strings are immutable, so their elements cannot be modified directly.\n",
    "\n",
    "# d)  numbers = [1, 2, 3, 4, 5]\n",
    "#     numbers[3.4]\n",
    "# Error: TypeError. List indices must be integers or slices, not floats.\n",
    "\n",
    "# e)  student tuple = (’Amanda’, ’Blue’, [98, 75, 87])\n",
    "#     student tuple[0] = ’Ariana’\n",
    "# Error: TypeError. Tuples are immutable, so their elements cannot be modified.\n",
    "\n",
    "# f)  (’Monday’, 87, 65) + ’Tuesday’\n",
    "# Error: TypeError. Tuples can only be concatenated with other tuples, not strings.\n",
    "\n",
    "# g)  ’A’ += (’B’, ’C’)\n",
    "# Error: SyntaxError. Strings cannot be incremented or concatenated using += with a tuple.\n",
    "\n",
    "# h)  x = 7\n",
    "#     del x\n",
    "#     print(x)\n",
    "# Error: NameError. After deleting x, it no longer exists in the namespace.\n",
    "\n",
    "# i)  numbers = [1, 2, 3, 4, 5]\n",
    "#     numbers.index(10)\n",
    "# Error: ValueError. The value 10 is not present in the list.\n",
    "\n",
    "# j)  numbers = [1, 2, 3, 4, 5]\n",
    "#     numbers.extend(6, 7, 8)\n",
    "# Error: TypeError. The extend() method expects a single iterable argument, not separate values.\n",
    "\n",
    "# k)  numbers = [1, 2, 3, 4, 5]\n",
    "#     numbers.remove(10)\n",
    "# Error: ValueError. The value 10 is not in the list.\n",
    "\n",
    "# l)  values = []\n",
    "#     values.pop()\n",
    "# Error: IndexError. Cannot pop from an empty list."
   ]
  },
  {
   "cell_type": "code",
   "execution_count": 8,
   "metadata": {},
   "outputs": [
    {
     "name": "stdout",
     "output_type": "stream",
     "text": [
      "The number 55 is present 2 time(s) in the list.\n"
     ]
    }
   ],
   "source": [
    "# 6. Input 10 integers from the keyboard into a list. The number to be searched is entered through the keyboard by the user. Write a Python program to find if the number to be searched is present in the list and if it is present, display the number of times it appears in the list.\n",
    "def search_and_count(lst, num):\n",
    "    count = lst.count(num)\n",
    "    if count > 0:\n",
    "        print(f\"The number {num} is present {count} time(s) in the list.\")\n",
    "    else:\n",
    "        print(f\"The number {num} is not present in the list.\")\n",
    "\n",
    "lst = [int(input(f\"Enter number {i+1}: \")) for i in range(10)]\n",
    "num = int(input(\"Enter the number to search for: \"))\n",
    "\n",
    "search_and_count(lst, num)"
   ]
  },
  {
   "cell_type": "code",
   "execution_count": 9,
   "metadata": {},
   "outputs": [
    {
     "name": "stdout",
     "output_type": "stream",
     "text": [
      "Cumulative List: [5, 7, 10, 16, 20]\n"
     ]
    }
   ],
   "source": [
    "# 7. Write a function that takes a list of numbers as input from the user and produces the corresponding cumulative list where each element in the list at index i is the sum of elements at index j ≤ i.\n",
    "def cumulative_sum(lst):\n",
    "    cumulative = []\n",
    "    current_sum = 0\n",
    "    for num in lst:\n",
    "        current_sum += num\n",
    "        cumulative.append(current_sum)\n",
    "    return cumulative\n",
    "\n",
    "lst = list(map(int, input(\"Enter the list of numbers separated by spaces: \").split()))\n",
    "cumulative_list = cumulative_sum(lst)\n",
    "print(\"Cumulative List:\", cumulative_list)"
   ]
  },
  {
   "cell_type": "code",
   "execution_count": 3,
   "metadata": {},
   "outputs": [
    {
     "name": "stdout",
     "output_type": "stream",
     "text": [
      "[[1, 2, 3, 4, 5], [2, 4, 6, 8, 10], [3, 6, 9, 12, 15], [4, 8, 12, 16, 20], [5, 10, 15, 20, 25]]\n"
     ]
    }
   ],
   "source": [
    "# 8. Write a function that takes n as an input and creates a list of n lists such that ith list contains the first five multiples of i.\n",
    "def generate_multiples(n):\n",
    "    result = []\n",
    "    for i in range(1, n+1):\n",
    "        multiples = [i * j for j in range(1, 6)]  # Generate the first five multiples of i\n",
    "        result.append(multiples)\n",
    "    return result\n",
    "\n",
    "# Example usage:\n",
    "n = 5\n",
    "print(generate_multiples(n))\n"
   ]
  },
  {
   "cell_type": "code",
   "execution_count": null,
   "metadata": {},
   "outputs": [],
   "source": [
    "# 9. Given the following inputs, indicate in each case (1) to (16), whether the statements will execute successfully. If, so, give what will be the outcome of execution? Also give the output of print statements (where applicable):\n",
    "# address = 'B-6, Lodhi road, Delhi'\n",
    "# list1 = [1, 2, 3]\n",
    "# list2 = ['a', 1, 'z', 26, 'd', 4]\n",
    "# tuple1 = ('a', 'e', 'i', 'o', 'u')\n",
    "# tuple2 = ([2,4,6,8], [3,6,9], [4,8], 5)\n",
    "\n",
    "# 1. list1[3] = 4\n",
    "# Error: IndexError as list1 has only three elements (index 0 to 2).\n",
    "\n",
    "# 2. print(list1 * 2)\n",
    "# Output: [1, 2, 3, 1, 2, 3]\n",
    "\n",
    "# 3. print(min(list2))\n",
    "# Error: TypeError as elements in list2 are of mixed types and cannot be compared.\n",
    "\n",
    "# 4. print(max(list1))\n",
    "# Output: 3\n",
    "\n",
    "# 5. print(list(address))\n",
    "# Output: ['B', '-', '6', ',', ' ', 'L', 'o', 'd', 'h', 'i', ' ', 'r', 'o', 'a', 'd', ',', ' ', 'D', 'e', 'l', 'h', 'i']\n",
    "\n",
    "# 6. list2.extend(['e', 5])\n",
    "# print(list2)\n",
    "# Output: ['a', 1, 'z', 26, 'd', 4, 'e', 5]\n",
    "\n",
    "# 7. list2.append(['e', 5])\n",
    "# print(list2)\n",
    "# Output: ['a', 1, 'z', 26, 'd', 4, ['e', 5]]\n",
    "\n",
    "# 8. names = ['rohan', 'mohan', 'gita']\n",
    "# names.sort(key= len)\n",
    "# print(names)\n",
    "# Output: ['gita', 'rohan', 'mohan']\n",
    "\n",
    "# 9. list3 = [(x * 2) for x in range(1, 11)]\n",
    "# print(list3)\n",
    "# Output: [2, 4, 6, 8, 10, 12, 14, 16, 18, 20]\n",
    "\n",
    "# 10. del list3[1:]\n",
    "# print(list3)\n",
    "# Output: [2]\n",
    "\n",
    "# 11. list4 = [ x+y for x in range(1,5) for y in range(1,5)]\n",
    "# print(list4)\n",
    "# Output: [2, 3, 4, 5, 3, 4, 5, 6, 4, 5, 6, 7, 5, 6, 7, 8]\n",
    "\n",
    "# 12. tuple2[3] = 6\n",
    "# Error: TypeError as tuples are immutable.\n",
    "\n",
    "# 13. tuple2.append(5)\n",
    "# Error: AttributeError as tuples do not support `append`.\n",
    "\n",
    "# 14. t1 = tuple2 +(5)\n",
    "# Output: ([2, 4, 6, 8], [3, 6, 9], [4, 8], 5, 5)\n",
    "\n",
    "# 15. ' , ' .join(tuple1)\n",
    "# Output: 'a , e , i , o , u'\n",
    "\n",
    "# 16. list(zip(['apple', 'orange'], ('red','orange')))\n",
    "# Output: [('apple', 'red'), ('orange', 'orange')]"
   ]
  },
  {
   "cell_type": "code",
   "execution_count": 4,
   "metadata": {},
   "outputs": [
    {
     "name": "stdout",
     "output_type": "stream",
     "text": [
      "Sum of all numeric elements: 34.5\n"
     ]
    }
   ],
   "source": [
    "# 10. Write a Python function that takes a tuple of tuples and prints the sum of all numeric elements in the inner tuples\n",
    "def sum_numeric_elements(tuple_of_tuples):\n",
    "    total_sum = 0\n",
    "    for inner_tuple in tuple_of_tuples:\n",
    "        for element in inner_tuple:\n",
    "            if type(element) == int or (type(element) == float and element == element):\n",
    "                total_sum += element\n",
    "            elif isinstance(element, str):\n",
    "                if element.isdigit():\n",
    "                    total_sum += int(element)\n",
    "    print(\"Sum of all numeric elements:\", total_sum)\n",
    "\n",
    "tuple_data = ((1, 2, 3), (4, 5, '6'), (6, 'b', 7.5))\n",
    "sum_numeric_elements(tuple_data)"
   ]
  },
  {
   "cell_type": "code",
   "execution_count": 17,
   "metadata": {},
   "outputs": [
    {
     "name": "stdout",
     "output_type": "stream",
     "text": [
      "The matrix in tabular format:\n",
      "1 2 3 4\n",
      "5 6 7 8\n",
      "9 10 11 12\n"
     ]
    }
   ],
   "source": [
    "# 11. Write a Python program to print M-by-N list in the tabular format.\n",
    "def print_tabular(matrix):\n",
    "    for row in matrix:\n",
    "        print(\" \".join(str(element) for element in row))\n",
    "\n",
    "M = 3  \n",
    "N = 4  \n",
    "matrix = [\n",
    "    [1, 2, 3, 4],\n",
    "    [5, 6, 7, 8],\n",
    "    [9, 10, 11, 12]\n",
    "]\n",
    "\n",
    "print(\"The matrix in tabular format:\")\n",
    "print_tabular(matrix)"
   ]
  },
  {
   "cell_type": "code",
   "execution_count": 20,
   "metadata": {},
   "outputs": [
    {
     "name": "stdout",
     "output_type": "stream",
     "text": [
      "Enter a 3-by-4 matrix row by row:\n",
      "\n",
      "Column sums:\n",
      "Sum of column 0: 9.0\n",
      "Sum of column 1: 6.0\n",
      "Sum of column 2: 7.0\n",
      "Sum of column 3: 11.0\n"
     ]
    }
   ],
   "source": [
    "# 12. Define a function that returns the sum of all the elements in a specified column in a matrix. Write a Python program that reads a 3-by-4 matrix and displays the sum of each column. Here is a sample\n",
    "# run:\n",
    "# Enter a 3-by-4 matrix row by row:\n",
    "# 1.5 2 3 4\n",
    "# 5.5 6 7 8\n",
    "# 9.5 1 3 1\n",
    "\n",
    "def sum_column(matrix, column_index):\n",
    "    return sum(row[column_index] for row in matrix)\n",
    "\n",
    "def display_column_sums(matrix):\n",
    "    num_columns = len(matrix[0])\n",
    "    for col in range(num_columns):\n",
    "        column_sum = sum_column(matrix, col)\n",
    "        print(f\"Sum of column {col}: {column_sum}\")\n",
    "\n",
    "matrix = []\n",
    "print(\"Enter a 3-by-4 matrix row by row:\")\n",
    "for _ in range(3):\n",
    "    row = list(map(float, input().split()))\n",
    "    matrix.append(row)\n",
    "\n",
    "print(\"\\nColumn sums:\")\n",
    "display_column_sums(matrix)"
   ]
  },
  {
   "cell_type": "code",
   "execution_count": 21,
   "metadata": {},
   "outputs": [
    {
     "name": "stdout",
     "output_type": "stream",
     "text": [
      "Sorted list of tuples by the second element:\n",
      "[(5, 0), (4, 1), (2, 2), (1, 3)]\n"
     ]
    }
   ],
   "source": [
    "# 13. Write a Python function that sorts a list of tuples based on the second element of each tuple.\n",
    "def sort_by_second_element(tuple_list):\n",
    "    return sorted(tuple_list, key=lambda x: x[1])\n",
    "\n",
    "tuples_list = [(1, 3), (4, 1), (2, 2), (5, 0)]\n",
    "sorted_list = sort_by_second_element(tuples_list)\n",
    "\n",
    "print(\"Sorted list of tuples by the second element:\")\n",
    "print(sorted_list)"
   ]
  },
  {
   "cell_type": "code",
   "execution_count": 22,
   "metadata": {},
   "outputs": [
    {
     "name": "stdout",
     "output_type": "stream",
     "text": [
      "Tuple of squares from 1 to 10:\n",
      "(1, 4, 9, 16, 25, 36, 49, 64, 81, 100)\n"
     ]
    }
   ],
   "source": [
    "# 14. Write a Python program that generates a tuple where each element is the square of an integer from 1 to 10.\n",
    "def generate_squares_tuple():\n",
    "    return tuple(i ** 2 for i in range(1, 11))\n",
    "\n",
    "squares_tuple = generate_squares_tuple()\n",
    "print(\"Tuple of squares from 1 to 10:\")\n",
    "print(squares_tuple)"
   ]
  },
  {
   "cell_type": "code",
   "execution_count": 10,
   "metadata": {},
   "outputs": [
    {
     "name": "stdout",
     "output_type": "stream",
     "text": [
      "1101\n",
      "0010\n",
      "0011\n",
      "1100\n",
      "The largest row index: 0\n",
      "The largest column index: 0\n"
     ]
    }
   ],
   "source": [
    "# 15. Write a Python program that randomly fills in 0s and 1s into a 4-by-4 matrix, prints the matrix, and finds the first row and column with the most 1s. Here is a sample run of the program:\n",
    "# 0011\n",
    "# 0011\n",
    "# 1101\n",
    "# 1010\n",
    "# The largest row index: 2\n",
    "# The largest column index: 2\n",
    "import random\n",
    "\n",
    "def generate_matrix():\n",
    "    return [[random.choice([0, 1]) for _ in range(4)] for _ in range(4)]\n",
    "\n",
    "def find_largest_row_and_column(matrix):\n",
    "    row_counts = [sum(row) for row in matrix]\n",
    "    column_counts = [sum(matrix[i][j] for i in range(4)) for j in range(4)]\n",
    "    \n",
    "    largest_row_index = row_counts.index(max(row_counts))\n",
    "    largest_column_index = column_counts.index(max(column_counts))\n",
    "    \n",
    "    print(\"The largest row index:\", largest_row_index)\n",
    "    print(\"The largest column index:\", largest_column_index)\n",
    "\n",
    "matrix = generate_matrix()\n",
    "for row in matrix:\n",
    "    print(\"\".join(map(str, row)))\n",
    "find_largest_row_and_column(matrix)"
   ]
  },
  {
   "cell_type": "code",
   "execution_count": 50,
   "metadata": {},
   "outputs": [
    {
     "name": "stdout",
     "output_type": "stream",
     "text": [
      "The list is not sorted\n"
     ]
    }
   ],
   "source": [
    "# 16. Write a Python program that prompts the user to enter a list and displays whether the list is sorted or not. Here is a sample run. Note that the first number in the input indicates the number of elements in the list. This number is not part of the list. Here is the sample run:\n",
    "# Enter list: 8 10 1 5 16 61 9 11 1\n",
    "# The list is not sorted\n",
    "# Enter list: 10 1 1 3 4 4 5 7 9 11 21\n",
    "# The list is already sorted\n",
    "# Function to check if the list is sorted\n",
    "def is_sorted(lst):\n",
    "    return lst == sorted(lst)\n",
    "\n",
    "user_input = input(\"Enter list: \").split()\n",
    "num_elements = int(user_input[0])  \n",
    "elements = list(map(int, user_input[1:num_elements+1]))\n",
    "\n",
    "if is_sorted(elements):\n",
    "    print(\"The list is already sorted\")\n",
    "else:\n",
    "    print(\"The list is not sorted\")"
   ]
  },
  {
   "cell_type": "code",
   "execution_count": 51,
   "metadata": {},
   "outputs": [
    {
     "name": "stdout",
     "output_type": "stream",
     "text": [
      "The mean is 4.60\n",
      "The standard deviation is 2.87518\n"
     ]
    }
   ],
   "source": [
    "# 17. You can compute the standard deviation with the following formula; you have to store the individual numbers using a list so that they can be used after the mean is obtained.\n",
    "# Write a Python program that prompts the user to enter ten numbers and displays the mean and standard deviation, as shown in the following sample run:\n",
    "# Enter ten numbers: 1.9 2.5 3.7 2 1 6 3 4 5 2\n",
    "# The mean is 3.11\n",
    "# The standard deviation is 1.55738.\n",
    "import math\n",
    "\n",
    "def calculate_mean(numbers):\n",
    "    return sum(numbers) / len(numbers)\n",
    "\n",
    "def calculate_std_deviation(numbers, mean):\n",
    "    variance = sum((x - mean) ** 2 for x in numbers) / (len(numbers) - 1)\n",
    "    return math.sqrt(variance)\n",
    "\n",
    "numbers = list(map(float, input(\"Enter ten numbers: \").split()))\n",
    "mean = calculate_mean(numbers)\n",
    "std_deviation = calculate_std_deviation(numbers, mean)\n",
    "\n",
    "print(f\"The mean is {mean:.2f}\")\n",
    "print(f\"The standard deviation is {std_deviation:.5f}\")"
   ]
  },
  {
   "cell_type": "code",
   "execution_count": 52,
   "metadata": {},
   "outputs": [
    {
     "name": "stdout",
     "output_type": "stream",
     "text": [
      "The list of squares: [25, 16, 36, 64, 49, 81]\n"
     ]
    }
   ],
   "source": [
    "# 18. Write a Python program to create a new list that contains the square of every element in a given list using list comprehension.\n",
    "numbers = list(map(int, input(\"Enter numbers separated by spaces: \").split()))\n",
    "\n",
    "squared_numbers = [x**2 for x in numbers]\n",
    "print(\"The list of squares:\", squared_numbers)"
   ]
  },
  {
   "cell_type": "code",
   "execution_count": 53,
   "metadata": {},
   "outputs": [
    {
     "name": "stdout",
     "output_type": "stream",
     "text": [
      "Original List: [[1, 2, 3], ['Deep', 5, 6]]\n",
      "Shallow Copy: [[1, 2, 3], ['Deep', 5, 6]]\n",
      "Deep Copy: [['Shallow', 2, 3], [4, 5, 6]]\n"
     ]
    }
   ],
   "source": [
    "# 19. Write a Python function to demonstrate the difference between shallow and deep copy of lists. \n",
    "# For Example:-\n",
    "# Original List: [['Shallow', 2, 3], [4, 5, 6]]\n",
    "# Shallow Copy: [['Shallow', 2, 3], [4, 5, 6]]\n",
    "# Deep Copy: [[1, 2, 3], ['Deep', 5, 6]]\n",
    "import copy\n",
    "def demonstrate_copy():\n",
    "    original_list = [['Shallow', 2, 3], [4, 5, 6]]\n",
    "    shallow_copy = copy.copy(original_list)\n",
    "    deep_copy = copy.deepcopy(original_list)\n",
    "    original_list[0][0] = 1\n",
    "    original_list[1][0] = 'Deep'\n",
    "    \n",
    "    print(\"Original List:\", original_list)\n",
    "    print(\"Shallow Copy:\", shallow_copy)\n",
    "    print(\"Deep Copy:\", deep_copy)\n",
    "\n",
    "demonstrate_copy()"
   ]
  },
  {
   "cell_type": "code",
   "execution_count": null,
   "metadata": {},
   "outputs": [
    {
     "name": "stdout",
     "output_type": "stream",
     "text": [
      "Frequency of each rating:\n",
      "Rating 1: 3\n",
      "Rating 2: 4\n",
      "Rating 3: 8\n",
      "Rating 4: 2\n",
      "Rating 5: 3\n",
      "\n",
      "Response Statistics:\n",
      "Minimum: 1\n",
      "Maximum: 5\n",
      "Range: 4\n",
      "Mean: 2.90\n",
      "Median: 3.0\n",
      "Mode: 3\n",
      "Variance: 1.57\n",
      "Standard Deviation: 1.25\n"
     ]
    }
   ],
   "source": [
    "# 20. Twenty students were asked to rate on a scale of 1 to 5 the quality of the food in the student cafeteria, with 1 being “awful” and 5 being “excellent.” Place the 20 responses in a list.\n",
    "# 1, 2, 5, 4, 3, 5, 2, 1, 3, 3, 1, 4, 3, 3, 3, 2, 3, 3, 2, 5\n",
    "# Determine and display the frequency of each rating. Use the built-in (or user-defined) functions and statistics module functions to display the following response statistics: minimum, maximum, range, mean, median, mode, variance and standard deviation.\n",
    "import statistics\n",
    "responses = [1, 2, 5, 4, 3, 5, 2, 1, 3, 3, 1, 4, 3, 3, 3, 2, 3, 3, 2, 5]\n",
    "\n",
    "frequency = {rating: responses.count(rating) for rating in range(1, 6)}\n",
    "\n",
    "print(\"Frequency of each rating:\")\n",
    "for rating, count in frequency.items():\n",
    "    print(f\"Rating {rating}: {count}\")\n",
    "\n",
    "minimum = min(responses)\n",
    "maximum = max(responses)\n",
    "range_value = maximum - minimum\n",
    "mean = statistics.mean(responses)\n",
    "median = statistics.median(responses)\n",
    "mode = statistics.mode(responses)\n",
    "variance = statistics.variance(responses)\n",
    "std_deviation = statistics.stdev(responses)\n",
    "\n",
    "print(\"\\nResponse Statistics:\")\n",
    "print(f\"Minimum: {minimum}\")\n",
    "print(f\"Maximum: {maximum}\")\n",
    "print(f\"Range: {range_value}\")\n",
    "print(f\"Mean: {mean:.2f}\")\n",
    "print(f\"Median: {median}\")\n",
    "print(f\"Mode: {mode}\")\n",
    "print(f\"Variance: {variance:.2f}\")\n",
    "print(f\"Standard Deviation: {std_deviation:.2f}\")"
   ]
  },
  {
   "cell_type": "code",
   "execution_count": null,
   "metadata": {},
   "outputs": [
    {
     "data": {
      "text/plain": [
       "[9, 49, 1, 81, 25]"
      ]
     },
     "execution_count": 56,
     "metadata": {},
     "output_type": "execute_result"
    }
   ],
   "source": [
    "# 21. With regard to the following code:\n",
    "# numbers = [10, 3, 7, 1, 9, 4, 2, 8, 5, 6]\n",
    "# list(map(lambda x: x ** 2, filter(lambda x: x % 2 != 0, numbers)))\n",
    "# a) How many times does the filter operation call its lambda argument?\n",
    "# b) How many times does the map operation call its lambda argument?\n",
    "# c) If you reverse the filter and map operations, how many times does the map operation call its lambda argument?\n",
    "\n",
    "# Answer:\n",
    "# (a) The filter operation calls its lambda argument 10 times (once for each element in the list numbers).\n",
    "# (b) The map operation calls its lambda argument 5 times (once for each element that passed the filter condition, which are the odd numbers: 3, 7, 1, 9, 5).\n",
    "# (c) If you reverse the filter and map operations, the map operation calls its lambda argument 10 times (once for each element in the list numbers), but the subsequent filter would only consider the squared results, which would change the behavior of the filtering logic.\n"
   ]
  },
  {
   "cell_type": "code",
   "execution_count": null,
   "metadata": {},
   "outputs": [
    {
     "name": "stdout",
     "output_type": "stream",
     "text": [
      "[20, 6, 14, 2, 18, 8, 4, 16, 10, 12]\n"
     ]
    }
   ],
   "source": [
    "# 22. When combining filter and map operations, the order in which they’re performed matters. Consider a\n",
    "# list numbers containing 10, 3, 7, 1, 9, 4, 2, 8, 5, 6 and the following code:\n",
    "# In [1]: numbers = [10, 3, 7, 1, 9, 4, 2, 8, 5, 6]\n",
    "# In [2]: list(map(lambda x: x * 2,\n",
    "# ...: filter(lambda x: x % 2 == 0, numbers)))\n",
    "# ...:\n",
    "# Out[3]: [20, 8, 4, 16, 12]\n",
    "# Reorder this code to call map first and filter second. What happens and why?\n",
    "\n",
    "numbers = [10, 3, 7, 1, 9, 4, 2, 8, 5, 6]\n",
    "result = list(filter(lambda x: x % 2 == 0, map(lambda x: x * 2, numbers)))\n",
    "print (result)\n",
    "\n",
    "# Answer:\n",
    "# The map operation will first multiply each number in numbers by 2: [20, 6, 14, 2, 18, 8, 4, 16, 10, 12].\n",
    "# The filter operation will then check which of these results are even, and all of them will be even, so no elements will be filtered out.\n",
    "# The final result will be: [20, 6, 14, 2, 18, 8, 4, 16, 10, 12]."
   ]
  },
  {
   "cell_type": "code",
   "execution_count": 61,
   "metadata": {},
   "outputs": [],
   "source": [
    "# 23. Using the list given below 1, 2, 5, 4, 3, 5, 2, 1, 3, 3, 1, 4, 3, 3, 3, 2, 3, 3, 2, 5 Display a bar chart showing the response frequencies and their percentages of the total responses.\n",
    "\n",
    "# matplotlib not taught in class"
   ]
  },
  {
   "cell_type": "code",
   "execution_count": 12,
   "metadata": {},
   "outputs": [
    {
     "name": "stdout",
     "output_type": "stream",
     "text": [
      "Filtered list: [('apple', 'banana'), ('cat',), (4, 5)]\n"
     ]
    }
   ],
   "source": [
    "# 24. Given a list of tuples, remove all the tuples with length K, where K is user-defined.\n",
    "def remove_tuples_with_length(lst, K):\n",
    "    return [tup for tup in lst if len(tup) != K]\n",
    "\n",
    "tuples_list = [(\"apple\", \"banana\"), (1, 2, 3), (\"cat\",), (\"dog\", \"fish\", \"bird\"), (4, 5)]\n",
    "K = int(input(\"Enter the length of tuples to remove: \")) \n",
    "result = remove_tuples_with_length(tuples_list, K)\n",
    "print(\"Filtered list:\", result)"
   ]
  }
 ],
 "metadata": {
  "kernelspec": {
   "display_name": "Python 3",
   "language": "python",
   "name": "python3"
  },
  "language_info": {
   "codemirror_mode": {
    "name": "ipython",
    "version": 3
   },
   "file_extension": ".py",
   "mimetype": "text/x-python",
   "name": "python",
   "nbconvert_exporter": "python",
   "pygments_lexer": "ipython3",
   "version": "3.12.5"
  }
 },
 "nbformat": 4,
 "nbformat_minor": 2
}
