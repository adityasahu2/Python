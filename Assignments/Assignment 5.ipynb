{
 "cells": [
  {
   "cell_type": "code",
   "execution_count": 1,
   "metadata": {},
   "outputs": [
    {
     "ename": "ValueError",
     "evalue": "invalid literal for int() with base 10: ''",
     "output_type": "error",
     "traceback": [
      "\u001b[1;31m---------------------------------------------------------------------------\u001b[0m",
      "\u001b[1;31mValueError\u001b[0m                                Traceback (most recent call last)",
      "Cell \u001b[1;32mIn[1], line 4\u001b[0m\n\u001b[0;32m      1\u001b[0m \u001b[38;5;66;03m# 1. Write a program to accept student name and marks from the user and create a dictionary. Also, display student marks by taking student name as input.\u001b[39;00m\n\u001b[0;32m      2\u001b[0m students \u001b[38;5;241m=\u001b[39m {}\n\u001b[1;32m----> 4\u001b[0m n \u001b[38;5;241m=\u001b[39m \u001b[38;5;28;43mint\u001b[39;49m\u001b[43m(\u001b[49m\u001b[38;5;28;43minput\u001b[39;49m\u001b[43m(\u001b[49m\u001b[38;5;124;43m\"\u001b[39;49m\u001b[38;5;124;43mEnter the number of students: \u001b[39;49m\u001b[38;5;124;43m\"\u001b[39;49m\u001b[43m)\u001b[49m\u001b[43m)\u001b[49m\n\u001b[0;32m      5\u001b[0m \u001b[38;5;28;01mfor\u001b[39;00m i \u001b[38;5;129;01min\u001b[39;00m \u001b[38;5;28mrange\u001b[39m(n):\n\u001b[0;32m      6\u001b[0m     name \u001b[38;5;241m=\u001b[39m \u001b[38;5;28minput\u001b[39m(\u001b[38;5;124m\"\u001b[39m\u001b[38;5;124mEnter the student\u001b[39m\u001b[38;5;124m'\u001b[39m\u001b[38;5;124ms name : \u001b[39m\u001b[38;5;124m\"\u001b[39m)\n",
      "\u001b[1;31mValueError\u001b[0m: invalid literal for int() with base 10: ''"
     ]
    }
   ],
   "source": [
    "# 1. Write a program to accept student name and marks from the user and create a dictionary. Also, display student marks by taking student name as input.\n",
    "students = {}\n",
    "\n",
    "n = int(input(\"Enter the number of students: \"))\n",
    "for i in range(n):\n",
    "    name = input(\"Enter the student's name : \")\n",
    "    students[name] = float(input(f\"Enter the marks for {name}: \"))\n",
    "\n",
    "name = input(\"Enter the student's name to view their marks: \")\n",
    "if name in students:\n",
    "    print(f\"{name}'s marks: {students[name]}\")\n",
    "else:\n",
    "    print(f\"No record found for student: {name}\")"
   ]
  },
  {
   "cell_type": "code",
   "execution_count": 2,
   "metadata": {},
   "outputs": [
    {
     "ename": "ValueError",
     "evalue": "invalid literal for int() with base 10: ''",
     "output_type": "error",
     "traceback": [
      "\u001b[1;31m---------------------------------------------------------------------------\u001b[0m",
      "\u001b[1;31mValueError\u001b[0m                                Traceback (most recent call last)",
      "Cell \u001b[1;32mIn[2], line 3\u001b[0m\n\u001b[0;32m      1\u001b[0m \u001b[38;5;66;03m# 2. Write a program to enter names and percentage of marks in a dictionary and display the information on the screen.\u001b[39;00m\n\u001b[0;32m      2\u001b[0m students \u001b[38;5;241m=\u001b[39m {}\n\u001b[1;32m----> 3\u001b[0m n \u001b[38;5;241m=\u001b[39m \u001b[38;5;28;43mint\u001b[39;49m\u001b[43m(\u001b[49m\u001b[38;5;28;43minput\u001b[39;49m\u001b[43m(\u001b[49m\u001b[38;5;124;43m\"\u001b[39;49m\u001b[38;5;124;43mEnter the number of students: \u001b[39;49m\u001b[38;5;124;43m\"\u001b[39;49m\u001b[43m)\u001b[49m\u001b[43m)\u001b[49m\n\u001b[0;32m      4\u001b[0m \u001b[38;5;28;01mfor\u001b[39;00m _ \u001b[38;5;129;01min\u001b[39;00m \u001b[38;5;28mrange\u001b[39m(n):\n\u001b[0;32m      5\u001b[0m     name \u001b[38;5;241m=\u001b[39m \u001b[38;5;28minput\u001b[39m(\u001b[38;5;124m\"\u001b[39m\u001b[38;5;124mEnter student name: \u001b[39m\u001b[38;5;124m\"\u001b[39m)\n",
      "\u001b[1;31mValueError\u001b[0m: invalid literal for int() with base 10: ''"
     ]
    }
   ],
   "source": [
    "# 2. Write a program to enter names and percentage of marks in a dictionary and display the information on the screen.\n",
    "students = {}\n",
    "n = int(input(\"Enter the number of students: \"))\n",
    "for _ in range(n):\n",
    "    name = input(\"Enter student name: \")\n",
    "    marks = float(input(f\"Enter percentage of marks for {name}: \"))\n",
    "    students[name] = marks\n",
    "\n",
    "print(\"Student Information:\")\n",
    "for name, marks in students.items():\n",
    "    print(f\"{name}: {marks}%\")"
   ]
  },
  {
   "cell_type": "code",
   "execution_count": 3,
   "metadata": {},
   "outputs": [
    {
     "ename": "ValueError",
     "evalue": "invalid literal for int() with base 10: ''",
     "output_type": "error",
     "traceback": [
      "\u001b[1;31m---------------------------------------------------------------------------\u001b[0m",
      "\u001b[1;31mValueError\u001b[0m                                Traceback (most recent call last)",
      "Cell \u001b[1;32mIn[3], line 3\u001b[0m\n\u001b[0;32m      1\u001b[0m \u001b[38;5;66;03m# 3. Write a program to take a user-input dictionary and print the sum of the values\u001b[39;00m\n\u001b[0;32m      2\u001b[0m \u001b[38;5;28mdict\u001b[39m \u001b[38;5;241m=\u001b[39m {}\n\u001b[1;32m----> 3\u001b[0m n \u001b[38;5;241m=\u001b[39m \u001b[38;5;28;43mint\u001b[39;49m\u001b[43m(\u001b[49m\u001b[38;5;28;43minput\u001b[39;49m\u001b[43m(\u001b[49m\u001b[38;5;124;43m\"\u001b[39;49m\u001b[38;5;124;43mEnter the number of items in the dictionary: \u001b[39;49m\u001b[38;5;124;43m\"\u001b[39;49m\u001b[43m)\u001b[49m\u001b[43m)\u001b[49m\n\u001b[0;32m      5\u001b[0m \u001b[38;5;28;01mfor\u001b[39;00m _ \u001b[38;5;129;01min\u001b[39;00m \u001b[38;5;28mrange\u001b[39m(n):\n\u001b[0;32m      6\u001b[0m     key \u001b[38;5;241m=\u001b[39m \u001b[38;5;28minput\u001b[39m(\u001b[38;5;124m\"\u001b[39m\u001b[38;5;124mEnter key: \u001b[39m\u001b[38;5;124m\"\u001b[39m)\n",
      "\u001b[1;31mValueError\u001b[0m: invalid literal for int() with base 10: ''"
     ]
    }
   ],
   "source": [
    "# 3. Write a program to take a user-input dictionary and print the sum of the values\n",
    "dict = {}\n",
    "n = int(input(\"Enter the number of items in the dictionary: \"))\n",
    "\n",
    "for _ in range(n):\n",
    "    key = input(\"Enter key: \")\n",
    "    value = float(input(f\"Enter value for {key}: \"))\n",
    "    dict[key] = value\n",
    "sum = sum(dict.values())\n",
    "\n",
    "print(\"\\nThe sum of the values in the dictionary is:\", sum)\n"
   ]
  },
  {
   "cell_type": "code",
   "execution_count": 4,
   "metadata": {},
   "outputs": [
    {
     "name": "stdout",
     "output_type": "stream",
     "text": [
      "English-French Dictionary:\n",
      "dog: chien\n",
      "cat: chat\n",
      "walrus: morse\n"
     ]
    }
   ],
   "source": [
    "# 4. Make an English-to-French dictionary called e2f and print it. Here are your starter words: dog is chien, cat is chat, and walrus is morse\n",
    "e2f = {'dog': 'chien', 'cat': 'chat', 'walrus': 'morse'}\n",
    "print(\"English-French Dictionary:\")\n",
    "for english, french in e2f.items():\n",
    "    print(f\"{english}: {french}\")"
   ]
  },
  {
   "cell_type": "code",
   "execution_count": null,
   "metadata": {},
   "outputs": [
    {
     "name": "stdout",
     "output_type": "stream",
     "text": [
      "The dictionary contains the key ‘Canada’: True\n",
      "The dictionary contains the key ‘France’: False\n",
      "Canada: ca\n",
      "United States: us\n",
      "Mexico: mx\n",
      "{'ca': 'Canada', 'us': 'United States', 'mx': 'Mexico', 'se': 'Sweden'}\n"
     ]
    }
   ],
   "source": [
    "# 5. A dictionary which maps country names to Internet top-level domains (TLDs) is given as follows:\n",
    "# tlds = {‘Canada’: ‘ca’, ‘United States’: ‘us’, ‘Mexico’: ‘mx’}\n",
    "# Perform the following tasks and display the results:\n",
    "# a) Check whether the dictionary contains the key ‘Canada’.\n",
    "# b) Check whether the dictionary contains the key ‘France’.\n",
    "# c) Iterate through the key-value pairs and display them in a two-column format.\n",
    "# d) Add the key–value pair ‘Sweden’ and ‘sw’ (incorrect TLD).\n",
    "# e) Update the value for the key ‘Sweden’ to ‘se’ (correct TLD).\n",
    "# f) Use dictionary comprehension to reverse the keys and values.\n",
    "\n",
    "tlds = {'Canada': 'ca', 'United States': 'us', 'Mexico': 'mx'}\n",
    "print(f\"The dictionary contains the key ‘Canada’: {'Canada' in tlds}\")\n",
    "print(f\"The dictionary contains the key ‘France’: {'France' in tlds}\")\n",
    "for key, value in tlds.items():\n",
    "    print(f\"{key}: {value}\")\n",
    "tlds['Sweden'] = 'sw'\n",
    "tlds['Sweden'] = 'se'\n",
    "reversed = {value: key for key, value in tlds.items()}\n",
    "print(reversed)\n"
   ]
  },
  {
   "cell_type": "code",
   "execution_count": null,
   "metadata": {},
   "outputs": [
    {
     "name": "stdout",
     "output_type": "stream",
     "text": [
      "Keys: ['I', 'II', 'III', 'V']\n",
      "Values: [1, 2, 3, 5]\n",
      "Items: [('I', 1), ('II', 2), ('III', 3), ('V', 5)]\n"
     ]
    }
   ],
   "source": [
    "# 6. For the following dictionary, create lists of its keys, values, and items, and show those lists. roman_numerals = {‘I’: 1, ‘II’: 2, ‘III’: 3, ‘V’: 5}\n",
    "roman_numerals = {'I': 1, 'II': 2, 'III': 3, 'V': 5}\n",
    "keys = list(roman_numerals.keys())\n",
    "values = list(roman_numerals.values())\n",
    "items = list(roman_numerals.items())\n",
    "print(\"Keys:\", keys)\n",
    "print(\"Values:\", values)\n",
    "print(\"Items:\", items)"
   ]
  },
  {
   "cell_type": "code",
   "execution_count": null,
   "metadata": {},
   "outputs": [
    {
     "name": "stdout",
     "output_type": "stream",
     "text": [
      "{1: 1, 2: 8, 3: 27, 4: 64, 5: 125}\n"
     ]
    }
   ],
   "source": [
    "# 7. Use dictionary comprehension to create a dictionary of the numbers 1–5 mapped to their cubes.\n",
    "cubes = {x: x**3 for x in range(1, 6)}\n",
    "print(cubes)"
   ]
  },
  {
   "cell_type": "code",
   "execution_count": null,
   "metadata": {},
   "outputs": [
    {
     "name": "stdout",
     "output_type": "stream",
     "text": [
      "{'animals': {'cats': ['Henri', 'Grumpy', 'Lucy'], 'octopi': [], 'emus': []}, 'plants': {}, 'other': {}}\n"
     ]
    }
   ],
   "source": [
    "# 8. Make a multilevel dictionary called life. Use these strings for the topmost keys: ‘animals’, ‘plants’, and ‘other’. Make the ‘animals’ key refer to another dictionary with the keys ‘cats’, ‘octopi’, and ‘emus’. Make the ‘cats’ key refer to a list of strings with the values ‘Henri’, ‘Grumpy’, and ‘Lucy’. Make all the other keys refer to empty dictionaries.\n",
    "\n",
    "life = {\n",
    "    'animals': {\n",
    "        'cats': ['Henri', 'Grumpy', 'Lucy'],\n",
    "        'octopi': [],\n",
    "        'emus': []\n",
    "    },\n",
    "    'plants': {},\n",
    "    'other': {}\n",
    "}\n",
    "print(life)"
   ]
  },
  {
   "cell_type": "code",
   "execution_count": null,
   "metadata": {},
   "outputs": [
    {
     "name": "stdout",
     "output_type": "stream",
     "text": [
      "{'m': 1, 'i': 4, 's': 4, 'p': 2}\n"
     ]
    }
   ],
   "source": [
    "# 9. Write a program to find the number of occurrences of each letter present in a given string., e.g., str=‘mississippi’ ⇒ {‘m’: 1, ‘i’: 4, ‘s’: 4, ‘p’: 2}\n",
    "\n",
    "string = 'mississippi'\n",
    "char_count = {}\n",
    "\n",
    "for char in string:\n",
    "    if char in char_count:\n",
    "        char_count[char] += 1\n",
    "    else:\n",
    "        char_count[char] = 1\n",
    "\n",
    "print(char_count)\n"
   ]
  },
  {
   "cell_type": "code",
   "execution_count": null,
   "metadata": {},
   "outputs": [
    {
     "name": "stdout",
     "output_type": "stream",
     "text": [
      "Vowel counts: {'a': 2, 'i': 1}\n"
     ]
    }
   ],
   "source": [
    "# 10. Write a program to find the number of occurrences of each vowel present in a given string, and also print the vowels.\n",
    "\n",
    "string = input(\"Enter a string: \").lower()\n",
    "vowels = \"aeiou\"\n",
    "vowel_count = {vowel: string.count(vowel) for vowel in vowels if vowel in string}\n",
    "print(\"Vowel counts:\", vowel_count)"
   ]
  },
  {
   "cell_type": "code",
   "execution_count": 5,
   "metadata": {},
   "outputs": [
    {
     "name": "stdout",
     "output_type": "stream",
     "text": [
      "One Two Three\n"
     ]
    }
   ],
   "source": [
    "# 11. Write a function that takes a number as an input parameter and returns the corresponding text in words, e.g., on input 452, the function should return ‘Four Five Two’. Use a dictionary for mapping digits to their string representation.\n",
    "num_dict = {\n",
    "    0: 'Zero', 1: 'One', 2: 'Two', 3: 'Three', 4: 'Four',\n",
    "    5: 'Five', 6: 'Six', 7: 'Seven', 8: 'Eight', 9: 'Nine'\n",
    "}\n",
    "\n",
    "number = int(input(\"Enter a number: \"))\n",
    "word_representation = ' '.join(num_dict[int(digit)] for digit in str(number))\n",
    "print(word_representation)"
   ]
  },
  {
   "cell_type": "code",
   "execution_count": null,
   "metadata": {},
   "outputs": [],
   "source": []
  }
 ],
 "metadata": {
  "kernelspec": {
   "display_name": "Python 3",
   "language": "python",
   "name": "python3"
  },
  "language_info": {
   "codemirror_mode": {
    "name": "ipython",
    "version": 3
   },
   "file_extension": ".py",
   "mimetype": "text/x-python",
   "name": "python",
   "nbconvert_exporter": "python",
   "pygments_lexer": "ipython3",
   "version": "3.12.5"
  }
 },
 "nbformat": 4,
 "nbformat_minor": 2
}
