{
 "cells": [
  {
   "cell_type": "code",
   "execution_count": 1,
   "metadata": {},
   "outputs": [
    {
     "name": "stdout",
     "output_type": "stream",
     "text": [
      "Mohibur's marks: 25.0\n"
     ]
    }
   ],
   "source": [
    "# 1. Write a program to accept student name and marks from the user and create a dictionary. Also, display student marks by taking student name as input.\n",
    "students = {}\n",
    "\n",
    "n = int(input(\"Enter the number of students: \"))\n",
    "for i in range(n):\n",
    "    name = input(\"Enter the student's name : \")\n",
    "    students[name] = float(input(f\"Enter the marks for {name}: \"))\n",
    "\n",
    "name = input(\"Enter the student's name to view their marks: \")\n",
    "if name in students:\n",
    "    print(f\"{name}'s marks: {students[name]}\")\n",
    "else:\n",
    "    print(f\"No record found for student: {name}\")"
   ]
  },
  {
   "cell_type": "code",
   "execution_count": 2,
   "metadata": {},
   "outputs": [
    {
     "name": "stdout",
     "output_type": "stream",
     "text": [
      "Student Information:\n",
      "Aditya: 25.0%\n",
      "Mohibur: 25.0%\n",
      "Suprit: 22.0%\n"
     ]
    }
   ],
   "source": [
    "# 2. Write a program to enter names and percentage of marks in a dictionary and display the information on the screen.\n",
    "students = {}\n",
    "n = int(input(\"Enter the number of students: \"))\n",
    "for _ in range(n):\n",
    "    name = input(\"Enter student name: \")\n",
    "    marks = float(input(f\"Enter percentage of marks for {name}: \"))\n",
    "    students[name] = marks\n",
    "\n",
    "print(\"Student Information:\")\n",
    "for name, marks in students.items():\n",
    "    print(f\"{name}: {marks}%\")"
   ]
  },
  {
   "cell_type": "code",
   "execution_count": null,
   "metadata": {},
   "outputs": [
    {
     "name": "stdout",
     "output_type": "stream",
     "text": [
      "\n",
      "The sum of the values in the dictionary is: 100.0\n"
     ]
    },
    {
     "ename": "",
     "evalue": "",
     "output_type": "error",
     "traceback": [
      "\u001b[1;31mThe Kernel crashed while executing code in the current cell or a previous cell. \n",
      "\u001b[1;31mPlease review the code in the cell(s) to identify a possible cause of the failure. \n",
      "\u001b[1;31mClick <a href='https://aka.ms/vscodeJupyterKernelCrash'>here</a> for more info. \n",
      "\u001b[1;31mView Jupyter <a href='command:jupyter.viewOutput'>log</a> for further details."
     ]
    }
   ],
   "source": [
    "# 3. Write a program to take a user-input dictionary and print the sum of the values\n",
    "dict = {}\n",
    "n = int(input(\"Enter the number of items in the dictionary: \"))\n",
    "\n",
    "for _ in range(n):\n",
    "    key = input(\"Enter key: \")\n",
    "    value = float(input(f\"Enter value for {key}: \"))\n",
    "    dict[key] = value\n",
    "sum = sum(dict.values())\n",
    "\n",
    "print(\"\\nThe sum of the values in the dictionary is:\", sum)\n"
   ]
  },
  {
   "cell_type": "code",
   "execution_count": 4,
   "metadata": {},
   "outputs": [
    {
     "name": "stdout",
     "output_type": "stream",
     "text": [
      "English-French Dictionary:\n",
      "dog: chien\n",
      "cat: chat\n",
      "walrus: morse\n"
     ]
    }
   ],
   "source": [
    "# 4. Make an English-to-French dictionary called e2f and print it. Here are your starter words: dog is chien, cat is chat, and walrus is morse\n",
    "e2f = {'dog': 'chien', 'cat': 'chat', 'walrus': 'morse'}\n",
    "print(\"English-French Dictionary:\")\n",
    "for english, french in e2f.items():\n",
    "    print(f\"{english}: {french}\")"
   ]
  },
  {
   "cell_type": "code",
   "execution_count": null,
   "metadata": {},
   "outputs": [
    {
     "name": "stdout",
     "output_type": "stream",
     "text": [
      "The dictionary contains the key ‘Canada’: True\n",
      "The dictionary contains the key ‘France’: False\n",
      "Canada: ca\n",
      "United States: us\n",
      "Mexico: mx\n",
      "{'ca': 'Canada', 'us': 'United States', 'mx': 'Mexico', 'se': 'Sweden'}\n"
     ]
    }
   ],
   "source": [
    "# 5. A dictionary which maps country names to Internet top-level domains (TLDs) is given as follows:\n",
    "# tlds = {‘Canada’: ‘ca’, ‘United States’: ‘us’, ‘Mexico’: ‘mx’}\n",
    "# Perform the following tasks and display the results:\n",
    "# a) Check whether the dictionary contains the key ‘Canada’.\n",
    "# b) Check whether the dictionary contains the key ‘France’.\n",
    "# c) Iterate through the key-value pairs and display them in a two-column format.\n",
    "# d) Add the key–value pair ‘Sweden’ and ‘sw’ (incorrect TLD).\n",
    "# e) Update the value for the key ‘Sweden’ to ‘se’ (correct TLD).\n",
    "# f) Use dictionary comprehension to reverse the keys and values.\n",
    "\n",
    "tlds = {'Canada': 'ca', 'United States': 'us', 'Mexico': 'mx'}\n",
    "print(f\"The dictionary contains the key ‘Canada’: {'Canada' in tlds}\")\n",
    "print(f\"The dictionary contains the key ‘France’: {'France' in tlds}\")\n",
    "for key, value in tlds.items():\n",
    "    print(f\"{key}: {value}\")\n",
    "tlds['Sweden'] = 'sw'\n",
    "tlds['Sweden'] = 'se'\n",
    "reversed = {value: key for key, value in tlds.items()}\n",
    "print(reversed)\n"
   ]
  },
  {
   "cell_type": "code",
   "execution_count": null,
   "metadata": {},
   "outputs": [
    {
     "name": "stdout",
     "output_type": "stream",
     "text": [
      "Keys: ['I', 'II', 'III', 'V']\n",
      "Values: [1, 2, 3, 5]\n",
      "Items: [('I', 1), ('II', 2), ('III', 3), ('V', 5)]\n"
     ]
    }
   ],
   "source": [
    "# 6. For the following dictionary, create lists of its keys, values, and items, and show those lists. roman_numerals = {‘I’: 1, ‘II’: 2, ‘III’: 3, ‘V’: 5}\n",
    "roman_numerals = {'I': 1, 'II': 2, 'III': 3, 'V': 5}\n",
    "keys = list(roman_numerals.keys())\n",
    "values = list(roman_numerals.values())\n",
    "items = list(roman_numerals.items())\n",
    "print(\"Keys:\", keys)\n",
    "print(\"Values:\", values)\n",
    "print(\"Items:\", items)"
   ]
  },
  {
   "cell_type": "code",
   "execution_count": null,
   "metadata": {},
   "outputs": [
    {
     "name": "stdout",
     "output_type": "stream",
     "text": [
      "{1: 1, 2: 8, 3: 27, 4: 64, 5: 125}\n"
     ]
    }
   ],
   "source": [
    "# 7. Use dictionary comprehension to create a dictionary of the numbers 1–5 mapped to their cubes.\n",
    "cubes = {x: x**3 for x in range(1, 6)}\n",
    "print(cubes)"
   ]
  },
  {
   "cell_type": "code",
   "execution_count": null,
   "metadata": {},
   "outputs": [
    {
     "name": "stdout",
     "output_type": "stream",
     "text": [
      "{'animals': {'cats': ['Henri', 'Grumpy', 'Lucy'], 'octopi': [], 'emus': []}, 'plants': {}, 'other': {}}\n"
     ]
    }
   ],
   "source": [
    "# 8. Make a multilevel dictionary called life. Use these strings for the topmost keys: ‘animals’, ‘plants’, and ‘other’. Make the ‘animals’ key refer to another dictionary with the keys ‘cats’, ‘octopi’, and ‘emus’. Make the ‘cats’ key refer to a list of strings with the values ‘Henri’, ‘Grumpy’, and ‘Lucy’. Make all the other keys refer to empty dictionaries.\n",
    "\n",
    "life = {\n",
    "    'animals': {\n",
    "        'cats': ['Henri', 'Grumpy', 'Lucy'],\n",
    "        'octopi': [],\n",
    "        'emus': []\n",
    "    },\n",
    "    'plants': {},\n",
    "    'other': {}\n",
    "}\n",
    "print(life)"
   ]
  },
  {
   "cell_type": "code",
   "execution_count": null,
   "metadata": {},
   "outputs": [
    {
     "name": "stdout",
     "output_type": "stream",
     "text": [
      "{'m': 1, 'i': 4, 's': 4, 'p': 2}\n"
     ]
    }
   ],
   "source": [
    "# 9. Write a program to find the number of occurrences of each letter present in a given string., e.g., str=‘mississippi’ ⇒ {‘m’: 1, ‘i’: 4, ‘s’: 4, ‘p’: 2}\n",
    "\n",
    "string = 'mississippi'\n",
    "char_count = {}\n",
    "\n",
    "for char in string:\n",
    "    if char in char_count:\n",
    "        char_count[char] += 1\n",
    "    else:\n",
    "        char_count[char] = 1\n",
    "\n",
    "print(char_count)\n"
   ]
  },
  {
   "cell_type": "code",
   "execution_count": null,
   "metadata": {},
   "outputs": [
    {
     "name": "stdout",
     "output_type": "stream",
     "text": [
      "Vowel counts: {'a': 2, 'i': 1}\n"
     ]
    }
   ],
   "source": [
    "# 10. Write a program to find the number of occurrences of each vowel present in a given string, and also print the vowels.\n",
    "\n",
    "string = input(\"Enter a string: \").lower()\n",
    "vowels = \"aeiou\"\n",
    "vowel_count = {vowel: string.count(vowel) for vowel in vowels if vowel in string}\n",
    "print(\"Vowel counts:\", vowel_count)"
   ]
  },
  {
   "cell_type": "code",
   "execution_count": 5,
   "metadata": {},
   "outputs": [
    {
     "name": "stdout",
     "output_type": "stream",
     "text": [
      "One Two Three\n"
     ]
    }
   ],
   "source": [
    "# 11. Write a function that takes a number as an input parameter and returns the corresponding text in words, e.g., on input 452, the function should return ‘Four Five Two’. Use a dictionary for mapping digits to their string representation.\n",
    "num_dict = {\n",
    "    0: 'Zero', 1: 'One', 2: 'Two', 3: 'Three', 4: 'Four',\n",
    "    5: 'Five', 6: 'Six', 7: 'Seven', 8: 'Eight', 9: 'Nine'\n",
    "}\n",
    "\n",
    "number = int(input(\"Enter a number: \"))\n",
    "word_representation = ' '.join(num_dict[int(digit)] for digit in str(number))\n",
    "print(word_representation)"
   ]
  },
  {
   "cell_type": "code",
   "execution_count": null,
   "metadata": {},
   "outputs": [
    {
     "name": "stdout",
     "output_type": "stream",
     "text": [
      "Duplicate words and their counts:\n",
      "this: 2\n",
      "is: 2\n",
      "a: 2\n",
      "test: 2\n"
     ]
    }
   ],
   "source": [
    "# 12. Write a program that uses a dictionary to determine and print the number of duplicate words in a sentence. Treat uppercase and lowercase letters the same and assume there is no punctuation in the sentence\n",
    "sentence = input(\"Enter a sentence: \").lower()\n",
    "words = sentence.split()\n",
    "word_count = {}\n",
    "\n",
    "for word in words:\n",
    "    word_count[word] = word_count.get(word, 0) + 1\n",
    "\n",
    "print(\"Duplicate words and their counts:\")\n",
    "for word, count in word_count.items():\n",
    "    if count > 1:\n",
    "        print(f\"{word}: {count}\")\n",
    "# This is a test this is only a test"
   ]
  },
  {
   "cell_type": "code",
   "execution_count": 4,
   "metadata": {},
   "outputs": [
    {
     "name": "stdout",
     "output_type": "stream",
     "text": [
      "Unique words in alphabetical order:\n",
      "a\n",
      "is\n",
      "only\n",
      "test\n",
      "this\n"
     ]
    }
   ],
   "source": [
    "# 13. Write a function that receives a list of words, then determines and displays in alphabetical order only the unique words. Treat uppercase and lowercase letters as the same. The function should use a set to get the unique words in the list. Test your function with several sentences.\n",
    "def unique_words_in_order(sentence):\n",
    "    words = sentence.lower().split()\n",
    "    unique_words = sorted(set(words))\n",
    "    return unique_words\n",
    "\n",
    "sentence = input(\"Enter a sentence: \")\n",
    "unique_words = unique_words_in_order(sentence)\n",
    "\n",
    "print(\"Unique words in alphabetical order:\")\n",
    "for word in unique_words:\n",
    "    print(word)"
   ]
  },
  {
   "cell_type": "code",
   "execution_count": 6,
   "metadata": {},
   "outputs": [
    {
     "name": "stdout",
     "output_type": "stream",
     "text": [
      "Number of unique characters: 10\n"
     ]
    }
   ],
   "source": [
    "# 14. Create a program that determines and displays the number of unique characters in a string entered by the user, e.g., Hello, World! has 10 unique characters, while zzz has only one unique character. Use a dictionary or set to solve this problem.\n",
    "\n",
    "def count_unique_characters(input_string):\n",
    "    unique_chars = set(input_string)\n",
    "    return len(unique_chars)\n",
    "\n",
    "string = input(\"Enter a string: \")\n",
    "\n",
    "unique_count = count_unique_characters(string)\n",
    "print(f\"Number of unique characters: {unique_count}\")"
   ]
  },
  {
   "cell_type": "code",
   "execution_count": 17,
   "metadata": {},
   "outputs": [
    {
     "name": "stdout",
     "output_type": "stream",
     "text": [
      "Percentage of wins: 49.26%\n",
      "Percentage of losses: 50.74%\n",
      "Rolls | % Resolved on this roll | Cumulative % of games resolved\n",
      "------------------------------------------------------------\n",
      "    1 |                 33.31% |                        33.31%\n",
      "    2 |                 18.85% |                        52.15%\n",
      "    3 |                 13.54% |                        65.69%\n",
      "    4 |                  9.62% |                        75.31%\n",
      "    5 |                  6.94% |                        82.25%\n",
      "    6 |                  4.99% |                        87.24%\n",
      "    7 |                  3.55% |                        90.80%\n",
      "    8 |                  2.55% |                        93.35%\n",
      "    9 |                  1.86% |                        95.21%\n",
      "   10 |                  1.33% |                        96.55%\n",
      "   11 |                  0.95% |                        97.50%\n",
      "   12 |                  0.69% |                        98.19%\n",
      "   13 |                  0.50% |                        98.69%\n",
      "   14 |                  0.37% |                        99.06%\n",
      "   15 |                  0.26% |                        99.31%\n",
      "   16 |                  0.19% |                        99.50%\n",
      "   17 |                  0.14% |                        99.64%\n",
      "   18 |                  0.10% |                        99.74%\n",
      "   19 |                  0.07% |                        99.81%\n",
      "   20 |                  0.05% |                        99.86%\n",
      "   21 |                  0.04% |                        99.90%\n",
      "   22 |                  0.03% |                        99.93%\n",
      "   23 |                  0.02% |                        99.95%\n",
      "   24 |                  0.01% |                        99.96%\n",
      "   25 |                  0.01% |                        99.97%\n",
      "   26 |                  0.01% |                        99.98%\n",
      "   27 |                  0.01% |                        99.98%\n",
      "   28 |                  0.00% |                        99.98%\n",
      "   29 |                  0.00% |                        99.99%\n",
      "   30 |                  0.00% |                        99.99%\n",
      "   31 |                  0.00% |                       100.00%\n",
      "   32 |                  0.00% |                       100.00%\n",
      "   33 |                  0.00% |                       100.00%\n",
      "   34 |                  0.00% |                       100.00%\n",
      "   35 |                  0.00% |                       100.00%\n",
      "   36 |                  0.00% |                       100.00%\n",
      "   37 |                  0.00% |                       100.00%\n",
      "   38 |                  0.00% |                       100.00%\n",
      "   39 |                  0.00% |                       100.00%\n",
      "   41 |                  0.00% |                       100.00%\n"
     ]
    }
   ],
   "source": [
    "# 15. Modify a script to play 1,000,000 games of craps. Use two dictionaries, wins and losses, to track the number of games won and lost for each roll number. Update these dictionaries as the simulation progresses. For example, a key–value pair 4: 50217 in the wins dictionary would mean that 50,217 games were won on the 4th roll. At the end of the simulation, display:\n",
    "# (i) The percentage of games won.\n",
    "# (ii) The percentage of games lost.\n",
    "# (iii) The percentage of games resolved on each roll.\n",
    "# (iv) The cumulative percentage of games resolved up to each roll.\n",
    "import random\n",
    "\n",
    "def roll_dice():\n",
    "    return random.randint(1, 6) + random.randint(1, 6)\n",
    "\n",
    "def simulate_craps(games=1000000):\n",
    "    wins = {}\n",
    "    losses = {}\n",
    "    total_games = games\n",
    "\n",
    "    for _ in range(games):\n",
    "        roll = roll_dice()\n",
    "        roll_count = 1\n",
    "\n",
    "        while True:\n",
    "            if roll_count == 1:  # First roll\n",
    "                if roll in {7, 11}:\n",
    "                    wins[roll_count] = wins.get(roll_count, 0) + 1\n",
    "                    break\n",
    "                elif roll in {2, 3, 12}:\n",
    "                    losses[roll_count] = losses.get(roll_count, 0) + 1\n",
    "                    break\n",
    "                else:\n",
    "                    point = roll\n",
    "            else:  # Subsequent rolls\n",
    "                roll = roll_dice()\n",
    "                if roll == point:\n",
    "                    wins[roll_count] = wins.get(roll_count, 0) + 1\n",
    "                    break\n",
    "                elif roll == 7:\n",
    "                    losses[roll_count] = losses.get(roll_count, 0) + 1\n",
    "                    break\n",
    "            roll_count += 1\n",
    "\n",
    "    # Calculate percentages\n",
    "    total_wins = sum(wins.values())\n",
    "    total_losses = sum(losses.values())\n",
    "    percentage_wins = (total_wins / total_games) * 100\n",
    "    percentage_losses = (total_losses / total_games) * 100\n",
    "\n",
    "    print(f\"Percentage of wins: {percentage_wins:.2f}%\")\n",
    "    print(f\"Percentage of losses: {percentage_losses:.2f}%\")\n",
    "    print(\"Rolls | % Resolved on this roll | Cumulative % of games resolved\")\n",
    "    print(\"-\" * 60)\n",
    "\n",
    "    cumulative_percentage = 0\n",
    "    for roll in sorted(set(wins.keys()).union(losses.keys())):\n",
    "        resolved_on_this_roll = wins.get(roll, 0) + losses.get(roll, 0)\n",
    "        percentage_resolved = (resolved_on_this_roll / total_games) * 100\n",
    "        cumulative_percentage += percentage_resolved\n",
    "        print(f\"{roll:5} | {percentage_resolved:21.2f}% | {cumulative_percentage:28.2f}%\")\n",
    "\n",
    "# Run the simulation\n",
    "simulate_craps()\n"
   ]
  },
  {
   "cell_type": "code",
   "execution_count": 18,
   "metadata": {},
   "outputs": [
    {
     "name": "stdout",
     "output_type": "stream",
     "text": [
      "a) {30}: {30}\n",
      "b) {5, 15, 30}: {5, 30, 15}\n",
      "c) {5, 10, 15, 20, 30}: {20, 5, 10, 30, 15}\n",
      "d) {10, 20}: {10, 20}\n"
     ]
    }
   ],
   "source": [
    "# 16. Given the sets {10, 20, 30} and {5, 10, 15, 20}, use the mathematical set operators to produce the following sets: a) {30}, b) {5, 15, 30} c) {5, 10, 15, 20, 30} d) {10, 20}\n",
    "# Define the sets\n",
    "set1 = {10, 20, 30}\n",
    "set2 = {5, 10, 15, 20}\n",
    "\n",
    "# Perform the operations\n",
    "set_a = set1 - set2  # Difference: elements in set1 but not in set2\n",
    "set_b = set2 - set1  # Difference: elements in set2 but not in set1\n",
    "set_c = set1 | set2  # Union: elements in either set\n",
    "set_d = set1 & set2  # Intersection: elements common to both sets\n",
    "\n",
    "# Display the results\n",
    "print(\"a) {30}:\", set_a)\n",
    "print(\"b) {5, 15, 30}:\", set_a | set_b)\n",
    "print(\"c) {5, 10, 15, 20, 30}:\", set_c)\n",
    "print(\"d) {10, 20}:\", set_d)\n"
   ]
  },
  {
   "cell_type": "code",
   "execution_count": 19,
   "metadata": {},
   "outputs": [
    {
     "name": "stdout",
     "output_type": "stream",
     "text": [
      "a) Comparison Operators:\n",
      "set1 is a subset of set2: True\n",
      "set2 is a subset of set1: False\n",
      "set1 is equal to set2: False\n",
      "\n",
      "b) Mathematical Set Operators:\n",
      "Union of set1 and set2: {'blue', 'cyan', 'green', 'magenta', 'red'}\n",
      "Intersection of set1 and set2: {'red', 'blue', 'green'}\n",
      "Difference (set1 - set2): set()\n",
      "Difference (set2 - set1): {'magenta', 'cyan'}\n",
      "Symmetric Difference (elements in either set, but not both): {'magenta', 'cyan'}\n"
     ]
    }
   ],
   "source": [
    "# 17. Using the sets {‘red’, ‘green’, ‘blue’}, and {‘cyan’, ‘green’, ‘blue’, ‘magenta’, ‘red’}, display the results of:\n",
    "# a) comparing the sets using each of the comparison operators.\n",
    "# b) combining the sets using each of the mathematical set operators.\n",
    "# Define the sets\n",
    "set1 = {'red', 'green', 'blue'}\n",
    "set2 = {'cyan', 'green', 'blue', 'magenta', 'red'}\n",
    "\n",
    "# 1. Comparison Operators\n",
    "print(\"a) Comparison Operators:\")\n",
    "print(\"set1 is a subset of set2:\", set1.issubset(set2))\n",
    "print(\"set2 is a subset of set1:\", set2.issubset(set1))\n",
    "print(\"set1 is equal to set2:\", set1 == set2)\n",
    "\n",
    "# 2. Mathematical Set Operators\n",
    "print(\"\\nb) Mathematical Set Operators:\")\n",
    "print(\"Union of set1 and set2:\", set1 | set2)\n",
    "print(\"Intersection of set1 and set2:\", set1 & set2)\n",
    "print(\"Difference (set1 - set2):\", set1 - set2)\n",
    "print(\"Difference (set2 - set1):\", set2 - set1)\n",
    "print(\"Symmetric Difference (elements in either set, but not both):\", set1 ^ set2)"
   ]
  },
  {
   "cell_type": "code",
   "execution_count": 20,
   "metadata": {},
   "outputs": [
    {
     "name": "stdout",
     "output_type": "stream",
     "text": [
      "Modified sorted elements: [4, 6, 8, 12, 12, 16]\n"
     ]
    }
   ],
   "source": [
    "# 18. You are given two lists of integers: list1 and list2. Write a Python function analyze sets(list1, list2) that performs the following tasks:\n",
    "# • Creates two sets, set1 and set2, from list1 and list2.\n",
    "# • Finds the symmetric difference of set1 and set2 (elements that are in either set, but not both).\n",
    "# • For each element in the symmetric difference:\n",
    "# – If the element is even, multiply it by 2.\n",
    "# – If the element is odd, add 5 to it.\n",
    "# • Return a sorted list of the modified elements.\n",
    "\n",
    "def analyze_sets(list1, list2):\n",
    "    # Convert lists to sets\n",
    "    set1 = set(list1)\n",
    "    set2 = set(list2)\n",
    "    \n",
    "    # Find the symmetric difference\n",
    "    sym_diff = set1.symmetric_difference(set2)\n",
    "    \n",
    "    # Process each element in the symmetric difference\n",
    "    modified_elements = []\n",
    "    for element in sym_diff:\n",
    "        if element % 2 == 0:  # Even numbers\n",
    "            modified_elements.append(element * 2)\n",
    "        else:  # Odd numbers\n",
    "            modified_elements.append(element + 5)\n",
    "    \n",
    "    # Return the sorted list of modified elements\n",
    "    return sorted(modified_elements)\n",
    "\n",
    "# Example usage\n",
    "list1 = [1, 2, 3, 4, 5]\n",
    "list2 = [4, 5, 6, 7, 8]\n",
    "result = analyze_sets(list1, list2)\n",
    "print(\"Modified sorted elements:\", result)\n"
   ]
  },
  {
   "cell_type": "code",
   "execution_count": 21,
   "metadata": {},
   "outputs": [
    {
     "name": "stdout",
     "output_type": "stream",
     "text": [
      "Unique pairs with no common letters: {('fish', 'zebra'), ('lion', 'zebra'), ('dogs', 'zebra'), ('apple', 'bird'), ('apple', 'fish'), ('apple', 'dogs')}\n"
     ]
    }
   ],
   "source": [
    "# 19. Given a long list of words, write a Python function unique pairs(words) to find all unique pairs of words that:\n",
    "# • Have no common letters (e.g., \"cat\" and \"dogs\" have no letters in common).\n",
    "# • Each word in the pair should have at least 4 letters.\n",
    "# • Each unique pair should be stored in a set as a tuple in lexicographical order.\n",
    "# The function should return a set of all such unique pairs. Example:\n",
    "# words = [\"apple\", \"dogs\", \"cat\", \"bird\", \"fish\", \"zebra\", \"lion\"]\n",
    "# print(unique_pairs(words))\n",
    "# Expected Output (Order may vary due to set properties):\n",
    "# {(\"apple\", \"dogs\"), (\"apple\", \"bird\"), (\"apple\", \"fish\"),\n",
    "# (\"bird\", \"dogs\"), (\"dogs\", \"fish\"), (\"dogs\", \"zebra\"),\n",
    "# (\"dogs\", \"lion\"), (\"fish\", \"zebra\"), (\"lion\", \"zebra\")}\n",
    "def unique_pairs(words):\n",
    "    # Filter words with at least 4 letters\n",
    "    filtered_words = [word for word in words if len(word) >= 4]\n",
    "    \n",
    "    # Initialize a set to store unique pairs\n",
    "    unique_pairs_set = set()\n",
    "    \n",
    "    # Check each pair of words\n",
    "    for i in range(len(filtered_words)):\n",
    "        for j in range(i + 1, len(filtered_words)):\n",
    "            word1, word2 = filtered_words[i], filtered_words[j]\n",
    "            \n",
    "            # Check if the words have no common letters\n",
    "            if set(word1).isdisjoint(set(word2)):\n",
    "                # Add the pair to the set in lexicographical order\n",
    "                unique_pairs_set.add(tuple(sorted((word1, word2))))\n",
    "    \n",
    "    return unique_pairs_set\n",
    "\n",
    "# Example usage\n",
    "words = [\"apple\", \"dogs\", \"cat\", \"bird\", \"fish\", \"zebra\", \"lion\"]\n",
    "result = unique_pairs(words)\n",
    "print(\"Unique pairs with no common letters:\", result)\n"
   ]
  },
  {
   "cell_type": "code",
   "execution_count": null,
   "metadata": {},
   "outputs": [
    {
     "name": "stdout",
     "output_type": "stream",
     "text": [
      "Updated Dictionary: {'person1': {'name': 'Bezos', 'net worth': 21880}, 'person2': {'name': 'Elon', 'net worth': 31570}, 'person3': {'name': 'Mukesh', 'net worth': 9650}}\n"
     ]
    },
    {
     "ename": "",
     "evalue": "",
     "output_type": "error",
     "traceback": [
      "\u001b[1;31mThe Kernel crashed while executing code in the current cell or a previous cell. \n",
      "\u001b[1;31mPlease review the code in the cell(s) to identify a possible cause of the failure. \n",
      "\u001b[1;31mClick <a href='https://aka.ms/vscodeJupyterKernelCrash'>here</a> for more info. \n",
      "\u001b[1;31mView Jupyter <a href='command:jupyter.viewOutput'>log</a> for further details."
     ]
    }
   ],
   "source": [
    "# 20. Write a Python program to change Mukesh’s net worth to 9650 in the following dictionary:\n",
    "# sample_dict = {\n",
    "# ‘person1’: {‘name’: ‘Bezos’, ‘net worth’: 21,880},\n",
    "# ‘person2’: {‘name’: ‘Elon’, ‘net worth’: 31,570},\n",
    "# ‘person3’: {‘name’: ‘Mukesh’, ‘net worth’: 965}\n",
    "# }\n",
    "# Sample dictionary\n",
    "sample_dict = {\n",
    "    'person1': {'name': 'Bezos', 'net worth': 21880},\n",
    "    'person2': {'name': 'Elon', 'net worth': 31570},\n",
    "    'person3': {'name': 'Mukesh', 'net worth': 965}\n",
    "}\n",
    "\n",
    "# Modify Mukesh's net worth\n",
    "sample_dict['person3']['net worth'] = 9650\n",
    "\n",
    "# Display the updated dictionary\n",
    "print(\"Updated Dictionary:\", sample_dict)\n"
   ]
  }
 ],
 "metadata": {
  "kernelspec": {
   "display_name": "Python 3",
   "language": "python",
   "name": "python3"
  },
  "language_info": {
   "codemirror_mode": {
    "name": "ipython",
    "version": 3
   },
   "file_extension": ".py",
   "mimetype": "text/x-python",
   "name": "python",
   "nbconvert_exporter": "python",
   "pygments_lexer": "ipython3",
   "version": "3.12.5"
  }
 },
 "nbformat": 4,
 "nbformat_minor": 2
}
