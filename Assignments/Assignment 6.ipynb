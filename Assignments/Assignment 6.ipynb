{
 "cells": [
  {
   "cell_type": "code",
   "execution_count": 1,
   "metadata": {},
   "outputs": [
    {
     "name": "stdout",
     "output_type": "stream",
     "text": [
      "2-by-3 array with ones:\n",
      "[[1. 1. 1.]\n",
      " [1. 1. 1.]]\n",
      "\n",
      "3-by-3 array with zeros:\n",
      "[[0. 0. 0.]\n",
      " [0. 0. 0.]\n",
      " [0. 0. 0.]]\n",
      "\n",
      "2-by-5 array with sevens:\n",
      "[[7 7 7 7 7]\n",
      " [7 7 7 7 7]]\n"
     ]
    }
   ],
   "source": [
    "# Q1\n",
    "import numpy as np\n",
    "array_ones = np.ones((2, 3))\n",
    "array_zeros = np.zeros((3, 3))\n",
    "array_sevens = np.full((2, 5), 7)\n",
    "print(\"2-by-3 array with ones:\")\n",
    "print(array_ones)\n",
    "\n",
    "print(\"\\n3-by-3 array with zeros:\")\n",
    "print(array_zeros)\n",
    "\n",
    "print(\"\\n2-by-5 array with sevens:\")\n",
    "print(array_sevens)"
   ]
  },
  {
   "cell_type": "code",
   "execution_count": 2,
   "metadata": {},
   "outputs": [
    {
     "name": "stdout",
     "output_type": "stream",
     "text": [
      "[[ 0  1]\n",
      " [ 8 27]]\n",
      "[[ 7  8]\n",
      " [ 9 10]]\n",
      "[[0 2]\n",
      " [4 6]]\n"
     ]
    }
   ],
   "source": [
    "#2\n",
    "import numpy as np\n",
    "\n",
    "array = np.arange(4).reshape(2, 2)\n",
    "\n",
    "cubed_array = array ** 3\n",
    "added_array = array + 7\n",
    "multiplied_array = array * 2\n",
    "\n",
    "print(cubed_array)\n",
    "print(added_array)\n",
    "print(multiplied_array)\n"
   ]
  },
  {
   "cell_type": "code",
   "execution_count": 3,
   "metadata": {},
   "outputs": [
    {
     "name": "stdout",
     "output_type": "stream",
     "text": [
      "[[18 32 42]\n",
      " [48 50 48]\n",
      " [42 32 18]]\n"
     ]
    }
   ],
   "source": [
    "import numpy as np\n",
    "\n",
    "array1 = np.arange(2, 19, 2).reshape(3, 3)\n",
    "array2 = np.arange(9, 0, -1).reshape(3, 3)\n",
    "result = array1 * array2\n",
    "\n",
    "print(result)\n"
   ]
  },
  {
   "cell_type": "code",
   "execution_count": 4,
   "metadata": {},
   "outputs": [
    {
     "name": "stdout",
     "output_type": "stream",
     "text": [
      "[[ 6  7  4  5]\n",
      " [ 2  3  0  1]\n",
      " [10 11  8  9]]\n"
     ]
    }
   ],
   "source": [
    "import numpy as np\n",
    "\n",
    "array = np.arange(12).reshape(3, 4)\n",
    "swapped_array = array[[1, 0, 2], :][:, [2, 3, 0, 1]]\n",
    "\n",
    "print(swapped_array)\n"
   ]
  },
  {
   "cell_type": "code",
   "execution_count": 5,
   "metadata": {},
   "outputs": [
    {
     "name": "stdout",
     "output_type": "stream",
     "text": [
      "[[ 2  3  5  7 11]\n",
      " [13 17 19 23 29]]\n"
     ]
    }
   ],
   "source": [
    "import numpy as np\n",
    "\n",
    "array = np.array([[2, 3, 5, 7, 11], [13, 17, 19, 23, 29]])\n",
    "\n",
    "print(array)\n"
   ]
  },
  {
   "cell_type": "code",
   "execution_count": 6,
   "metadata": {},
   "outputs": [
    {
     "name": "stdout",
     "output_type": "stream",
     "text": [
      "Flattened array: [ 1  2  4  8 16 32]\n",
      "Raveled array: [ 1  2  4  8 16 32]\n",
      "Original array after flatten and ravel: [[ 1  2  4]\n",
      " [ 8 16 32]]\n"
     ]
    }
   ],
   "source": [
    "import numpy as np\n",
    "arr = np.array([2**i for i in range(6)]).reshape(2, 3)\n",
    "flattened = arr.flatten()\n",
    "print(\"Flattened array:\", flattened)\n",
    "raveled = arr.ravel()\n",
    "print(\"Raveled array:\", raveled)\n",
    "print(\"Original array after flatten and ravel:\", arr)\n"
   ]
  },
  {
   "cell_type": "code",
   "execution_count": 7,
   "metadata": {},
   "outputs": [
    {
     "name": "stdout",
     "output_type": "stream",
     "text": [
      "Most frequent values: [(5, 7), (7, 6), (9, 5), (6, 4), (1, 4), (0, 4), (2, 3), (8, 2), (3, 2), (10, 1), (4, 1)]\n"
     ]
    }
   ],
   "source": [
    "from collections import Counter\n",
    "import numpy as np\n",
    "\n",
    "arr = [6, 9, 5, 1, 7, 5, 10, 1, 5, 5, 0, 8, 9, 0, 7, 0, 7, 6, 5, 1, 1, 9, 5, 3, 8, 7, 9, 6, 3, 4, 5, 9, 7, 2, 7, 0, 2, 2, 6]\n",
    "counts = Counter(arr)\n",
    "most_frequent = counts.most_common()\n",
    "print(\"Most frequent values:\", most_frequent)\n"
   ]
  },
  {
   "cell_type": "code",
   "execution_count": 8,
   "metadata": {},
   "outputs": [
    {
     "name": "stdout",
     "output_type": "stream",
     "text": [
      "[[1 2 3]\n",
      " [4 5 6]]\n"
     ]
    }
   ],
   "source": [
    "import numpy as np\n",
    "\n",
    "arr = np.linspace(1.1, 6.6, 6).reshape(2, 3)\n",
    "arr = arr.astype(int)\n",
    "print(arr)\n"
   ]
  },
  {
   "cell_type": "code",
   "execution_count": 9,
   "metadata": {},
   "outputs": [
    {
     "name": "stdout",
     "output_type": "stream",
     "text": [
      "   1   23  456\n",
      "7890   12    3\n"
     ]
    }
   ],
   "source": [
    "def format_2d_array(arr):\n",
    "    max_width = max(len(str(num)) for row in arr for num in row)\n",
    "    return '\\n'.join(' '.join(f\"{num:>{max_width}}\" for num in row) for row in arr)\n",
    "\n",
    "arr = [[1, 23, 456], [7890, 12, 3]]\n",
    "print(format_2d_array(arr))\n"
   ]
  },
  {
   "cell_type": "code",
   "execution_count": 10,
   "metadata": {},
   "outputs": [
    {
     "name": "stdout",
     "output_type": "stream",
     "text": [
      "Row 2: [ 6  7  8  9 10]\n",
      "Column 5: [ 5 10 15]\n",
      "Rows 0 and 1: [[ 1  2  3  4  5]\n",
      " [ 6  7  8  9 10]]\n",
      "Columns 2–4: [[ 3  4  5]\n",
      " [ 8  9 10]\n",
      " [13 14 15]]\n",
      "Element at row 1 and column 4: 9\n",
      "Elements from rows 1 and 2 in columns 0, 2, and 4: [[ 6  8 10]\n",
      " [11 13 15]]\n"
     ]
    }
   ],
   "source": [
    "import numpy as np\n",
    "\n",
    "arr = np.arange(1, 16).reshape(3, 5)\n",
    "\n",
    "print(\"Row 2:\", arr[1])\n",
    "print(\"Column 5:\", arr[:, 4])\n",
    "print(\"Rows 0 and 1:\", arr[0:2])\n",
    "print(\"Columns 2–4:\", arr[:, 2:5])\n",
    "print(\"Element at row 1 and column 4:\", arr[1, 3])\n",
    "print(\"Elements from rows 1 and 2 in columns 0, 2, and 4:\", arr[1:3][:, [0, 2, 4]])\n"
   ]
  },
  {
   "cell_type": "code",
   "execution_count": 13,
   "metadata": {},
   "outputs": [
    {
     "name": "stdout",
     "output_type": "stream",
     "text": [
      "Vertical stacking (array3):\n",
      " [[0 1]\n",
      " [2 3]\n",
      " [4 5]\n",
      " [6 7]]\n",
      "Horizontal stacking (array4):\n",
      " [[0 1 4 5]\n",
      " [2 3 6 7]]\n",
      "Vertical stacking copies (array5):\n",
      " [[0 1]\n",
      " [2 3]\n",
      " [4 5]\n",
      " [6 7]\n",
      " [0 1]\n",
      " [2 3]\n",
      " [4 5]\n",
      " [6 7]]\n",
      "Horizontal stacking copies (array6):\n",
      " [[0 1 4 5 0 1 4 5]\n",
      " [2 3 6 7 2 3 6 7]]\n"
     ]
    }
   ],
   "source": [
    "import numpy as np\n",
    "\n",
    "array1 = np.array([[0, 1], [2, 3]])\n",
    "array2 = np.array([[4, 5], [6, 7]])\n",
    "\n",
    "array3 = np.vstack((array1, array2))\n",
    "print(\"Vertical stacking (array3):\\n\", array3)\n",
    "\n",
    "array4 = np.hstack((array1, array2))\n",
    "print(\"Horizontal stacking (array4):\\n\", array4)\n",
    "\n",
    "array5 = np.vstack((array3, array3))  # Stack array3 twice vertically\n",
    "print(\"Vertical stacking copies (array5):\\n\", array5)\n",
    "\n",
    "array6 = np.hstack((array4, array4))  # Stack array4 twice horizontally\n",
    "print(\"Horizontal stacking copies (array6):\\n\", array6)\n"
   ]
  },
  {
   "cell_type": "code",
   "execution_count": 16,
   "metadata": {},
   "outputs": [
    {
     "name": "stdout",
     "output_type": "stream",
     "text": [
      "Vertical stacking (array3):\n",
      " [[0 1]\n",
      " [2 3]\n",
      " [4 5]\n",
      " [6 7]]\n",
      "Horizontal stacking (array4):\n",
      " [[0 1 4 5]\n",
      " [2 3 6 7]]\n",
      "Vertical stacking copies (array5):\n",
      " [[0 1]\n",
      " [2 3]\n",
      " [4 5]\n",
      " [6 7]\n",
      " [0 1]\n",
      " [2 3]\n",
      " [4 5]\n",
      " [6 7]]\n",
      "Horizontal stacking copies (array6):\n",
      " [[0 1 4 5 0 1 4 5]\n",
      " [2 3 6 7 2 3 6 7]]\n"
     ]
    }
   ],
   "source": [
    "import numpy as np\n",
    "\n",
    "array1 = np.array([[0, 1], [2, 3]])\n",
    "array2 = np.array([[4, 5], [6, 7]])\n",
    "\n",
    "# Vertical stacking using concatenate (axis=0)\n",
    "array3 = np.concatenate((array1, array2), axis=0)\n",
    "print(\"Vertical stacking (array3):\\n\", array3)\n",
    "\n",
    "# Horizontal stacking using concatenate (axis=1)\n",
    "array4 = np.concatenate((array1, array2), axis=1)\n",
    "print(\"Horizontal stacking (array4):\\n\", array4)\n",
    "\n",
    "# Vertical stacking copies of array3\n",
    "array5 = np.concatenate((array3, array3), axis=0)\n",
    "print(\"Vertical stacking copies (array5):\\n\", array5)\n",
    "\n",
    "# Horizontal stacking copies of array4\n",
    "array6 = np.concatenate((array4, array4), axis=1)\n",
    "print(\"Horizontal stacking copies (array6):\\n\", array6)\n"
   ]
  },
  {
   "cell_type": "code",
   "execution_count": 18,
   "metadata": {},
   "outputs": [
    {
     "name": "stdout",
     "output_type": "stream",
     "text": [
      "Checkerboard pattern of dashes and asterisks:\n",
      " [['*' '-' '*' '-' '*' '-' '*' '-']\n",
      " ['-' '*' '-' '*' '-' '*' '-' '*']\n",
      " ['*' '-' '*' '-' '*' '-' '*' '-']\n",
      " ['-' '*' '-' '*' '-' '*' '-' '*']\n",
      " ['*' '-' '*' '-' '*' '-' '*' '-']\n",
      " ['-' '*' '-' '*' '-' '*' '-' '*']\n",
      " ['*' '-' '*' '-' '*' '-' '*' '-']\n",
      " ['-' '*' '-' '*' '-' '*' '-' '*']]\n"
     ]
    }
   ],
   "source": [
    "import numpy as np\n",
    "\n",
    "array = np.full((8, 8), '*', dtype=str)\n",
    "array[1::2, ::2] = '-'\n",
    "array[::2, 1::2] = '-'\n",
    "\n",
    "print(\"Checkerboard pattern of dashes and asterisks:\\n\", array)\n"
   ]
  },
  {
   "cell_type": "code",
   "execution_count": 19,
   "metadata": {},
   "outputs": [
    {
     "name": "stdout",
     "output_type": "stream",
     "text": [
      "Array:\n",
      " [[19 10 91 31 54]\n",
      " [65 93 80 54 93]\n",
      " [62 99 41  8 90]\n",
      " [90 93 59 91  9]\n",
      " [ 3 31 37 32 17]]\n",
      "Count of elements between 0 and 99: 25\n"
     ]
    }
   ],
   "source": [
    "import numpy as np\n",
    "\n",
    "array = np.random.randint(0, 100, (5, 5))\n",
    "count = np.sum((array >= 0) & (array <= 99))\n",
    "\n",
    "print(\"Array:\\n\", array)\n",
    "print(\"Count of elements between 0 and 99:\", count)\n"
   ]
  },
  {
   "cell_type": "code",
   "execution_count": 21,
   "metadata": {},
   "outputs": [
    {
     "name": "stdout",
     "output_type": "stream",
     "text": [
      "Array 1:\n",
      "[[18 14 16]\n",
      " [41 64 73]\n",
      " [41  9  2]]\n",
      "Median: 18.0, Mode: 41\n",
      "\n",
      "Array 2:\n",
      "[[49 49 26 67 86]\n",
      " [52 50 17 19 36]]\n",
      "Median: 49.0, Mode: 49\n",
      "\n",
      "Array 3:\n",
      "[[14 37 37 98]\n",
      " [94 59 81 58]\n",
      " [ 1 80 53 79]\n",
      " [93 64 42 47]]\n",
      "Median: 58.5, Mode: 37\n",
      "\n"
     ]
    }
   ],
   "source": [
    "import numpy as np\n",
    "from collections import Counter\n",
    "\n",
    "def median_and_mode(array):\n",
    "    median = np.median(array)\n",
    "    flat_array = array.flatten()\n",
    "    mode = Counter(flat_array).most_common(1)[0][0]\n",
    "    return median, mode\n",
    "\n",
    "array1 = np.random.randint(0, 100, (3, 3))\n",
    "array2 = np.random.randint(0, 100, (2, 5))\n",
    "array3 = np.random.randint(0, 100, (4, 4))\n",
    "\n",
    "for i, array in enumerate([array1, array2, array3], 1):\n",
    "    median, mode = median_and_mode(array)\n",
    "    print(f\"Array {i}:\\n{array}\\nMedian: {median}, Mode: {mode}\\n\")\n"
   ]
  },
  {
   "cell_type": "code",
   "execution_count": 26,
   "metadata": {},
   "outputs": [
    {
     "name": "stdout",
     "output_type": "stream",
     "text": [
      "Original 9*9*2 Array:\n",
      " [[[53 94]\n",
      "  [90 63]\n",
      "  [86 97]\n",
      "  [59  2]\n",
      "  [39 15]\n",
      "  [43 13]\n",
      "  [44 56]\n",
      "  [63  3]\n",
      "  [29 76]]\n",
      "\n",
      " [[36 74]\n",
      "  [14 95]\n",
      "  [ 8 76]\n",
      "  [82 88]\n",
      "  [91 61]\n",
      "  [10 24]\n",
      "  [30 37]\n",
      "  [ 3 44]\n",
      "  [38 41]]\n",
      "\n",
      " [[80 39]\n",
      "  [41 91]\n",
      "  [11 11]\n",
      "  [51 96]\n",
      "  [36 28]\n",
      "  [47 68]\n",
      "  [86 38]\n",
      "  [66 37]\n",
      "  [60 86]]\n",
      "\n",
      " [[87  7]\n",
      "  [82 15]\n",
      "  [60 10]\n",
      "  [50 48]\n",
      "  [81 60]\n",
      "  [14 55]\n",
      "  [ 8 86]\n",
      "  [75 98]\n",
      "  [34 72]]\n",
      "\n",
      " [[44 20]\n",
      "  [47 95]\n",
      "  [27  6]\n",
      "  [ 0 74]\n",
      "  [89 77]\n",
      "  [29 89]\n",
      "  [68 76]\n",
      "  [ 1 60]\n",
      "  [45 70]]\n",
      "\n",
      " [[21 32]\n",
      "  [28 50]\n",
      "  [93 39]\n",
      "  [40 57]\n",
      "  [29 54]\n",
      "  [64 95]\n",
      "  [79 80]\n",
      "  [ 1 16]\n",
      "  [83 32]]\n",
      "\n",
      " [[49 59]\n",
      "  [17  8]\n",
      "  [57 95]\n",
      "  [19 93]\n",
      "  [36 10]\n",
      "  [82 94]\n",
      "  [43 84]\n",
      "  [49 77]\n",
      "  [28 79]]\n",
      "\n",
      " [[83 42]\n",
      "  [64 96]\n",
      "  [77 10]\n",
      "  [42 40]\n",
      "  [66 89]\n",
      "  [79 24]\n",
      "  [56 21]\n",
      "  [96 63]\n",
      "  [85 64]]\n",
      "\n",
      " [[18  6]\n",
      "  [19 92]\n",
      "  [29 81]\n",
      "  [15 78]\n",
      "  [28  9]\n",
      "  [39 80]\n",
      "  [43  6]\n",
      "  [70 42]\n",
      "  [28 75]]]\n",
      "Extracted value at (5,5,2): 95\n"
     ]
    }
   ],
   "source": [
    "import numpy as np\n",
    "\n",
    "array = np.random.randint(0, 100, (9, 9, 2))\n",
    "extracted_array = array[5, 5, 1]\n",
    "\n",
    "print(\"Original 9*9*2 Array:\\n\", array)\n",
    "print(\"Extracted value at (5,5,2):\", extracted_array)\n"
   ]
  },
  {
   "cell_type": "code",
   "execution_count": 27,
   "metadata": {},
   "outputs": [
    {
     "name": "stdout",
     "output_type": "stream",
     "text": [
      "Original Array:\n",
      " [[0.55016714 0.59953452 0.533178   0.8393219 ]\n",
      " [0.01988329 0.18658618 0.91320407 0.92563372]\n",
      " [0.2495077  0.6205814  0.51176974 0.31148995]\n",
      " [0.43646032 0.77581264 0.37880992 0.94354993]]\n",
      "Sorted Array (by column):\n",
      " [[0.01988329 0.18658618 0.37880992 0.31148995]\n",
      " [0.2495077  0.59953452 0.51176974 0.8393219 ]\n",
      " [0.43646032 0.6205814  0.533178   0.92563372]\n",
      " [0.55016714 0.77581264 0.91320407 0.94354993]]\n"
     ]
    }
   ],
   "source": [
    "import numpy as np\n",
    "\n",
    "# Create a 4x4 array with random values\n",
    "array = np.random.rand(4, 4)\n",
    "\n",
    "# Sort each column\n",
    "array_sorted = np.sort(array, axis=0)\n",
    "\n",
    "# Display the original and sorted array\n",
    "print(\"Original Array:\\n\", array)\n",
    "print(\"Sorted Array (by column):\\n\", array_sorted)\n"
   ]
  },
  {
   "cell_type": "code",
   "execution_count": 28,
   "metadata": {},
   "outputs": [
    {
     "name": "stdout",
     "output_type": "stream",
     "text": [
      "First column as a Series:\n",
      " 0    10\n",
      "1    20\n",
      "2    30\n",
      "Name: Column1, dtype: int64\n"
     ]
    }
   ],
   "source": [
    "import pandas as pd\n",
    "\n",
    "# Example DataFrame\n",
    "data = {\n",
    "    'Column1': [10, 20, 30],\n",
    "    'Column2': [40, 50, 60]\n",
    "}\n",
    "df = pd.DataFrame(data)\n",
    "\n",
    "# Convert the first column of the DataFrame to a Series\n",
    "first_column_series = df.iloc[:, 0]\n",
    "\n",
    "# Display the resulting Series\n",
    "print(\"First column as a Series:\\n\", first_column_series)\n"
   ]
  },
  {
   "cell_type": "code",
   "execution_count": 30,
   "metadata": {},
   "outputs": [
    {
     "name": "stdout",
     "output_type": "stream",
     "text": [
      "Elements in s1 not present in s2:\n",
      " 0    1\n",
      "1    2\n",
      "4    2\n",
      "dtype: int64\n"
     ]
    }
   ],
   "source": [
    "import pandas as pd\n",
    "\n",
    "# Create two Series objects\n",
    "s1 = pd.Series([1, 2, 3, 4, 2])\n",
    "s2 = pd.Series([3, 4, 5, 6])\n",
    "\n",
    "# Find elements in s1 that are not in s2\n",
    "result = s1[~s1.isin(s2)]\n",
    "\n",
    "# Display the result\n",
    "print(\"Elements in s1 not present in s2:\\n\", result)\n"
   ]
  },
  {
   "cell_type": "code",
   "execution_count": 31,
   "metadata": {},
   "outputs": [
    {
     "name": "stdout",
     "output_type": "stream",
     "text": [
      "Index of the first occurrence of the smallest value: 11\n",
      "Index of the first occurrence of the largest value: 4\n"
     ]
    }
   ],
   "source": [
    "import pandas as pd\n",
    "\n",
    "# Input series\n",
    "s = pd.Series([1, 1, 3, 7, 88, 12, 88, 23, 3, 1, 9, 0])\n",
    "\n",
    "# Find the index of the first occurrence of the smallest and largest value\n",
    "smallest_index = s.idxmin()\n",
    "largest_index = s.idxmax()\n",
    "\n",
    "# Display the results\n",
    "print(\"Index of the first occurrence of the smallest value:\", smallest_index)\n",
    "print(\"Index of the first occurrence of the largest value:\", largest_index)\n"
   ]
  },
  {
   "cell_type": "code",
   "execution_count": 29,
   "metadata": {},
   "outputs": [
    {
     "name": "stdout",
     "output_type": "stream",
     "text": [
      "Original Series:\n",
      " 0       Cry\n",
      "1     Apple\n",
      "2    Orange\n",
      "3       Sky\n",
      "4    Banana\n",
      "dtype: object\n",
      "\n",
      "Series with elements containing a vowel:\n",
      " 1     Apple\n",
      "2    Orange\n",
      "4    Banana\n",
      "dtype: object\n",
      "\n",
      "Series with elements starting with a vowel:\n",
      " 1     Apple\n",
      "2    Orange\n",
      "dtype: object\n"
     ]
    }
   ],
   "source": [
    "import pandas as pd\n",
    "\n",
    "# Create the Series\n",
    "L = ['Cry', 'Apple', 'Orange', 'Sky', 'Banana']\n",
    "series = pd.Series(L)\n",
    "\n",
    "# Create a new series with elements that contain a vowel\n",
    "series_with_vowel = series[series.str.contains(r'[AEIOUaeiou]', regex=True)]\n",
    "\n",
    "# Create another series with elements that start with a vowel\n",
    "series_start_with_vowel = series[series.str.contains(r'^[AEIOUaeiou]', regex=True)]\n",
    "\n",
    "# Display the results\n",
    "print(\"Original Series:\\n\", series)\n",
    "print(\"\\nSeries with elements containing a vowel:\\n\", series_with_vowel)\n",
    "print(\"\\nSeries with elements starting with a vowel:\\n\", series_start_with_vowel)\n"
   ]
  },
  {
   "cell_type": "code",
   "execution_count": 32,
   "metadata": {},
   "outputs": [
    {
     "name": "stdout",
     "output_type": "stream",
     "text": [
      "(a) Series:\n",
      " 0     7\n",
      "1    11\n",
      "2    13\n",
      "3    17\n",
      "dtype: int64\n",
      "\n",
      "(b) Series:\n",
      " 0    100.0\n",
      "1    100.0\n",
      "2    100.0\n",
      "3    100.0\n",
      "4    100.0\n",
      "dtype: float64\n",
      "\n",
      "(c) Series:\n",
      " 0     79\n",
      "1     61\n",
      "2     10\n",
      "3     52\n",
      "4     55\n",
      "5     31\n",
      "6     73\n",
      "7     36\n",
      "8     38\n",
      "9     24\n",
      "10    54\n",
      "11    37\n",
      "12    11\n",
      "13    92\n",
      "14    88\n",
      "15    22\n",
      "16    13\n",
      "17    78\n",
      "18    82\n",
      "19    46\n",
      "dtype: int32\n",
      "\n",
      "Descriptive Statistics:\n",
      " count    20.000000\n",
      "mean     49.100000\n",
      "std      26.528832\n",
      "min      10.000000\n",
      "25%      29.250000\n",
      "50%      49.000000\n",
      "75%      74.250000\n",
      "max      92.000000\n",
      "dtype: float64\n",
      "\n",
      "(d) Temperatures Series:\n",
      " Julie       98.6\n",
      "Charlie     98.9\n",
      "Sam        100.2\n",
      "Andrea      97.9\n",
      "dtype: float64\n",
      "\n",
      "(e) Series initialized from dictionary:\n",
      " Julie       98.6\n",
      "Charlie     98.9\n",
      "Sam        100.2\n",
      "Andrea      97.9\n",
      "dtype: float64\n"
     ]
    }
   ],
   "source": [
    "import pandas as pd\n",
    "\n",
    "# (a) Create a Series from the list [7, 11, 13, 17]\n",
    "series_a = pd.Series([7, 11, 13, 17])\n",
    "print(\"(a) Series:\\n\", series_a)\n",
    "\n",
    "# (b) Create a Series with five elements where each element is 100.0\n",
    "series_b = pd.Series([100.0] * 5)\n",
    "print(\"\\n(b) Series:\\n\", series_b)\n",
    "\n",
    "# (c) Create a Series with 20 elements that are random numbers in the range 0 to 100\n",
    "import numpy as np\n",
    "series_c = pd.Series(np.random.randint(0, 101, 20))\n",
    "print(\"\\n(c) Series:\\n\", series_c)\n",
    "print(\"\\nDescriptive Statistics:\\n\", series_c.describe())\n",
    "\n",
    "# (d) Create a Series called `temperatures` with floating-point values and custom indices\n",
    "temperatures = pd.Series(\n",
    "    [98.6, 98.9, 100.2, 97.9],\n",
    "    index=['Julie', 'Charlie', 'Sam', 'Andrea']\n",
    ")\n",
    "print(\"\\n(d) Temperatures Series:\\n\", temperatures)\n",
    "\n",
    "# (e) Form a dictionary from names and values in Part (d), then use it to initialize a Series\n",
    "temp_dict = temperatures.to_dict()\n",
    "series_e = pd.Series(temp_dict)\n",
    "print(\"\\n(e) Series initialized from dictionary:\\n\", series_e)\n"
   ]
  },
  {
   "cell_type": "code",
   "execution_count": null,
   "metadata": {},
   "outputs": [
    {
     "name": "stdout",
     "output_type": "stream",
     "text": [
      "(a) DataFrame:\n",
      "            Maxine  James  Amanda\n",
      "Morning      98.6   97.4    99.0\n",
      "Afternoon    99.1   98.3    98.8\n",
      "Evening     100.2   99.7   100.1\n",
      "\n",
      "(b) Recreated DataFrame:\n",
      "            Maxine  James  Amanda\n",
      "Morning      98.6   97.4    99.0\n",
      "Afternoon    99.1   98.3    98.8\n",
      "Evening     100.2   99.7   100.1\n",
      "\n",
      "(c) Column of temperature readings for 'Maxine':\n",
      " Morning       98.6\n",
      "Afternoon     99.1\n",
      "Evening      100.2\n",
      "Name: Maxine, dtype: float64\n",
      "\n",
      "(d) Row of 'Morning' temperature readings:\n",
      " Maxine    98.6\n",
      "James     97.4\n",
      "Amanda    99.0\n",
      "Name: Morning, dtype: float64\n",
      "\n",
      "(e) Rows for 'Morning' and 'Evening' temperature readings:\n",
      "          Maxine  James  Amanda\n",
      "Morning    98.6   97.4    99.0\n",
      "Evening   100.2   99.7   100.1\n",
      "\n",
      "(f) Columns of temperature readings for 'Amanda' and 'Maxine':\n",
      "            Amanda  Maxine\n",
      "Morning      99.0    98.6\n",
      "Afternoon    98.8    99.1\n",
      "Evening     100.1   100.2\n",
      "\n",
      "(g) Elements for 'Amanda' and 'Maxine' in 'Morning' and 'Afternoon':\n",
      "            Amanda  Maxine\n",
      "Morning      99.0    98.6\n",
      "Afternoon    98.8    99.1\n",
      "\n",
      "(h) Descriptive Statistics:\n",
      "            Maxine      James  Amanda\n",
      "count    3.000000   3.000000    3.00\n",
      "mean    99.300000  98.466667   99.30\n",
      "std      0.818535   1.159023    0.70\n",
      "min     98.600000  97.400000   98.80\n",
      "25%     98.850000  97.850000   98.90\n",
      "50%     99.100000  98.300000   99.00\n",
      "75%     99.650000  99.000000   99.55\n",
      "max    100.200000  99.700000  100.10\n",
      "\n",
      "(i) DataFrame with columns sorted alphabetically:\n",
      "            Amanda  James  Maxine\n",
      "Morning      99.0   97.4    98.6\n",
      "Afternoon    98.8   98.3    99.1\n",
      "Evening     100.1   99.7   100.2\n"
     ]
    },
    {
     "ename": "",
     "evalue": "",
     "output_type": "error",
     "traceback": [
      "\u001b[1;31mThe Kernel crashed while executing code in the current cell or a previous cell. \n",
      "\u001b[1;31mPlease review the code in the cell(s) to identify a possible cause of the failure. \n",
      "\u001b[1;31mClick <a href='https://aka.ms/vscodeJupyterKernelCrash'>here</a> for more info. \n",
      "\u001b[1;31mView Jupyter <a href='command:jupyter.viewOutput'>log</a> for further details."
     ]
    }
   ],
   "source": [
    "import pandas as pd\n",
    "\n",
    "# (a) Create a DataFrame named `temperatures` from a dictionary\n",
    "data = {\n",
    "    'Maxine': [98.6, 99.1, 100.2],\n",
    "    'James': [97.4, 98.3, 99.7],\n",
    "    'Amanda': [99.0, 98.8, 100.1]\n",
    "}\n",
    "temperatures = pd.DataFrame(data, index=['Morning', 'Afternoon', 'Evening'])\n",
    "print(\"(a) DataFrame:\\n\", temperatures)\n",
    "\n",
    "# (b) Recreate the DataFrame `temperatures` using `index` keyword argument\n",
    "temperatures_recreated = pd.DataFrame(\n",
    "    data,\n",
    "    index=['Morning', 'Afternoon', 'Evening']\n",
    ")\n",
    "print(\"\\n(b) Recreated DataFrame:\\n\", temperatures_recreated)\n",
    "\n",
    "# (c) Select the column of temperature readings for 'Maxine'\n",
    "maxine_column = temperatures['Maxine']\n",
    "print(\"\\n(c) Column of temperature readings for 'Maxine':\\n\", maxine_column)\n",
    "\n",
    "# (d) Select the row of 'Morning' temperature readings\n",
    "morning_row = temperatures.loc['Morning']\n",
    "print(\"\\n(d) Row of 'Morning' temperature readings:\\n\", morning_row)\n",
    "\n",
    "# (e) Select the rows for 'Morning' and 'Evening' temperature readings\n",
    "morning_evening_rows = temperatures.loc[['Morning', 'Evening']]\n",
    "print(\"\\n(e) Rows for 'Morning' and 'Evening' temperature readings:\\n\", morning_evening_rows)\n",
    "\n",
    "# (f) Select the columns of temperature readings for 'Amanda' and 'Maxine'\n",
    "amanda_maxine_columns = temperatures[['Amanda', 'Maxine']]\n",
    "print(\"\\n(f) Columns of temperature readings for 'Amanda' and 'Maxine':\\n\", amanda_maxine_columns)\n",
    "\n",
    "# (g) Select the elements for 'Amanda' and 'Maxine' in the 'Morning' and 'Afternoon'\n",
    "subset = temperatures.loc[['Morning', 'Afternoon'], ['Amanda', 'Maxine']]\n",
    "print(\"\\n(g) Elements for 'Amanda' and 'Maxine' in 'Morning' and 'Afternoon':\\n\", subset)\n",
    "\n",
    "# (h) Use the `describe` method to produce the DataFrame's descriptive statistics\n",
    "descriptive_stats = temperatures.describe()\n",
    "print(\"\\n(h) Descriptive Statistics:\\n\", descriptive_stats)\n",
    "\n",
    "# (i) Sort the temperatures DataFrame so that its columns are in alphabetical order\n",
    "sorted_temperatures = temperatures.sort_index(axis=1)\n",
    "print(\"\\n(i) DataFrame with columns sorted alphabetically:\\n\", sorted_temperatures)\n"
   ]
  },
  {
   "cell_type": "code",
   "execution_count": null,
   "metadata": {},
   "outputs": [],
   "source": []
  },
  {
   "cell_type": "code",
   "execution_count": null,
   "metadata": {},
   "outputs": [],
   "source": []
  },
  {
   "cell_type": "code",
   "execution_count": null,
   "metadata": {},
   "outputs": [],
   "source": []
  },
  {
   "cell_type": "code",
   "execution_count": null,
   "metadata": {},
   "outputs": [],
   "source": []
  },
  {
   "cell_type": "code",
   "execution_count": null,
   "metadata": {},
   "outputs": [],
   "source": []
  },
  {
   "cell_type": "code",
   "execution_count": null,
   "metadata": {},
   "outputs": [],
   "source": []
  },
  {
   "cell_type": "code",
   "execution_count": null,
   "metadata": {},
   "outputs": [],
   "source": []
  },
  {
   "cell_type": "code",
   "execution_count": null,
   "metadata": {},
   "outputs": [],
   "source": []
  }
 ],
 "metadata": {
  "kernelspec": {
   "display_name": "Python 3",
   "language": "python",
   "name": "python3"
  },
  "language_info": {
   "codemirror_mode": {
    "name": "ipython",
    "version": 3
   },
   "file_extension": ".py",
   "mimetype": "text/x-python",
   "name": "python",
   "nbconvert_exporter": "python",
   "pygments_lexer": "ipython3",
   "version": "3.12.5"
  }
 },
 "nbformat": 4,
 "nbformat_minor": 2
}
