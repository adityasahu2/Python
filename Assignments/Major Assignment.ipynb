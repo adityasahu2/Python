{
 "cells": [
  {
   "cell_type": "code",
   "execution_count": 11,
   "metadata": {},
   "outputs": [],
   "source": [
    "#1. Write a Python function basic_salary that accepts two parameters: hourly_rate and hours_worked_per_week. The function should calculate the basic salary per month (assuming a month has 4 weeks). If the hours worked per week exceed 40, create another function overtime_salary, where every extra hour worked is paid at 1.5 times the normal hourly rate. Finally, create another function total_salary that returns the sum of the basic salary and overtime.\n",
    "def basic_salary(hourly_rate, hours_per_week):\n",
    "    basic_hours = min(hours_per_week, 40)\n",
    "    monthly_salary = basic_hours * hourly_rate * 4\n",
    "    return monthly_salary\n",
    "\n",
    "def overtime_salary(hourly_rate, hours_per_week):\n",
    "    overtime_hours = max(hours_per_week - 40, 0)\n",
    "    monthly_overtime = overtime_hours * (hourly_rate * 1.5) * 4\n",
    "    return monthly_overtime\n",
    "\n",
    "def total_salary(hourly_rate, hours_per_week):\n",
    "    base = basic_salary(hourly_rate, hours_per_week)\n",
    "    overtime = overtime_salary(hourly_rate, hours_per_week)\n",
    "    return base + overtime"
   ]
  },
  {
   "cell_type": "code",
   "execution_count": 12,
   "metadata": {},
   "outputs": [],
   "source": [
    "# 2.Create a function tax_amount that shows how much taxes are deducted from the basic salary. Taxes are applied as follows:\n",
    "# • If the salary is less than Rs. 60,000/-, deduct 10% as tax.\n",
    "# • If the salary is between Rs. 60,000/- and Rs. 85,000/-, deduct 15% as tax.\n",
    "# • If the salary is more than Rs. 85,000/-, deduct 20% as tax.\n",
    "def tax_amount(basic_salary):\n",
    "    if basic_salary < 60000:\n",
    "        tax = basic_salary * 0.10\n",
    "    elif 60000 <= basic_salary <= 85000:\n",
    "        tax = basic_salary * 0.15\n",
    "    else:\n",
    "        tax = basic_salary * 0.20\n",
    "    return tax"
   ]
  },
  {
   "cell_type": "code",
   "execution_count": 13,
   "metadata": {},
   "outputs": [],
   "source": [
    "# 3. Using the function basic_salary from Question 1, write another function gross_salary that calculates the gross salary of an employee. This function should accept basic_salary as input (output from Question 1), consider a fixed value of allowances (e.g., 20% of basic salary), and return the gross salary (basic salary + allowances - tax).\n",
    "def gross_salary(hourly_rate, hours_per_week):\n",
    "    base_salary = basic_salary(hourly_rate, hours_per_week)\n",
    "    allowances = base_salary * 0.20\n",
    "    tax = tax_amount(base_salary)\n",
    "    gross = base_salary + allowances - tax\n",
    "    return gross"
   ]
  },
  {
   "cell_type": "code",
   "execution_count": 14,
   "metadata": {},
   "outputs": [],
   "source": [
    "# 4. Using the gross_salary function from Question 3, write a function salary_bracket that categorizes the employee’s gross salary into one of the following brackets:\n",
    "# • ”Low income” if gross salary is below Rs. 50,000/-.\n",
    "# • ”Middle income” if gross salary is between Rs. 50,000/- and Rs. 80,000/-.\n",
    "# • ”High income” if gross salary is more than Rs. 80,000/-.\n",
    "def salary_bracket(gross_salary):\n",
    "    if gross_salary < 50000:\n",
    "        return \"Low income\"\n",
    "    elif 50000 <= gross_salary <= 80000:\n",
    "        return \"Middle income\"\n",
    "    else:\n",
    "        return \"High income\""
   ]
  },
  {
   "cell_type": "code",
   "execution_count": 17,
   "metadata": {},
   "outputs": [
    {
     "name": "stdout",
     "output_type": "stream",
     "text": [
      "Employee Name: Aditya\n",
      "Basic Salary: Rs. 80000.00\n",
      "Gross Salary: Rs. 84000.00\n",
      "Tax Amount: Rs. 12000.00\n",
      "Salary Bracket: High income\n",
      "\n",
      "Employee Name: Suprit\n",
      "Basic Salary: Rs. 120000.00\n",
      "Gross Salary: Rs. 120000.00\n",
      "Tax Amount: Rs. 24000.00\n",
      "Salary Bracket: High income\n",
      "\n",
      "Employee Name: Ratikanta\n",
      "Basic Salary: Rs. 120000.00\n",
      "Gross Salary: Rs. 120000.00\n",
      "Tax Amount: Rs. 24000.00\n",
      "Salary Bracket: High income\n",
      "\n"
     ]
    }
   ],
   "source": [
    "# 5. Take three different sets of employee names, hourly rates and hours worked per week as user input. Write a Python function employee_report that generates a formatted report of all employees’ salary details. This function should print the employee names, basic salaries, gross salaries, tax amounts, and salary brackets in a readable format.\n",
    "def employee_report():\n",
    "    names, hourly_rates, hours_worked_per_week = [],[],[]\n",
    "    for i in range(3):\n",
    "        names.append(input(f\"Enter employee name {i+1}: \"))\n",
    "        hourly_rates.append(float(input(f\"Enter hourly rate for {names[i]}: \")))\n",
    "        hours_worked_per_week.append(int(input(f\"Enter hours worked per week for {names[i]}: \")))\n",
    "\n",
    "    for i in range(3):\n",
    "        basic = basic_salary(hourly_rates[i], hours_worked_per_week[i])\n",
    "        gross = gross_salary(hourly_rates[i], hours_worked_per_week[i])\n",
    "        tax = tax_amount(basic)\n",
    "        bracket = salary_bracket(gross)\n",
    "        print(f\"Employee Name: {names[i]}\")\n",
    "        print(f\"Basic Salary: Rs. {basic:.2f}\")\n",
    "        print(f\"Gross Salary: Rs. {gross:.2f}\")\n",
    "        print(f\"Tax Amount: Rs. {tax:.2f}\")\n",
    "        print(f\"Salary Bracket: {bracket}\")\n",
    "        print()\n",
    "\n",
    "employee_report()"
   ]
  },
  {
   "cell_type": "code",
   "execution_count": null,
   "metadata": {},
   "outputs": [],
   "source": []
  }
 ],
 "metadata": {
  "kernelspec": {
   "display_name": "Python 3",
   "language": "python",
   "name": "python3"
  },
  "language_info": {
   "codemirror_mode": {
    "name": "ipython",
    "version": 3
   },
   "file_extension": ".py",
   "mimetype": "text/x-python",
   "name": "python",
   "nbconvert_exporter": "python",
   "pygments_lexer": "ipython3",
   "version": "3.12.5"
  }
 },
 "nbformat": 4,
 "nbformat_minor": 2
}
