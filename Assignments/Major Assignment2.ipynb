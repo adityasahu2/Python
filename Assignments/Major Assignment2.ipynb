{
 "cells": [
  {
   "cell_type": "code",
   "execution_count": null,
   "metadata": {},
   "outputs": [],
   "source": [
    "# Mission 1: Clearing the Field\n",
    "# Python function to remove duplicates and sort the cities alphabetically:\n",
    "def clear_field(cities):\n",
    "    return sorted(set(cities))\n",
    "\n",
    "cities = [\"Kyiv\", \"Kharkiv\", \"Odessa\", \"Kyiv\", \"Lviv\", \"Kharkiv\", \"Dnipro\"]\n",
    "cleaned_cities = clear_field(cities)\n",
    "print(cleaned_cities)"
   ]
  },
  {
   "cell_type": "code",
   "execution_count": null,
   "metadata": {},
   "outputs": [],
   "source": [
    "# Mission 2: High Alert Identification\n",
    "# Python function to perform union, symmetric difference, and intersection:\n",
    "def high_alert(cleaned_cities, previous_intel):\n",
    "    all_cities = cleaned_cities.union(previous_intel)\n",
    "    unique_cities = cleaned_cities.symmetric_difference(previous_intel)\n",
    "    high_alert_cities = cleaned_cities.intersection(previous_intel)\n",
    "    return all_cities, unique_cities, high_alert_cities\n",
    "\n",
    "cleaned_cities = {\"Dnipro\", \"Kharkiv\", \"Kyiv\", \"Lviv\", \"Odessa\"}\n",
    "previous_intel = {\"Kyiv\", \"Mariupol\", \"Lviv\", \"Donetsk\"}\n",
    "\n",
    "all_cities, unique_cities, high_alert_cities = high_alert(cleaned_cities, previous_intel)\n",
    "print(all_cities)\n",
    "print(unique_cities)\n",
    "print(high_alert_cities)"
   ]
  },
  {
   "cell_type": "code",
   "execution_count": null,
   "metadata": {},
   "outputs": [],
   "source": [
    "# Mission 3: Detailed City Intel\n",
    "# Python function to create a dictionary for high-alert cities and calculate totals:\n",
    "def city_intel(high_alert_cities, city_data):\n",
    "    high_alert_info = {city: data for city, *data in city_data if city in high_alert_cities}\n",
    "    total_population = sum(data[0] for data in high_alert_info.values())\n",
    "    total_requests = sum(data[1] for data in high_alert_info.values())\n",
    "    return high_alert_info, total_population, total_requests\n",
    "\n",
    "high_alert_cities = {\"Kyiv\", \"Lviv\"}\n",
    "city_data = [(\"Kyiv\", 2800000, 250), (\"Kharkiv\", 1431000, 180), (\"Lviv\", 721301, 90), (\"Odessa\", 1029049, 120)]\n",
    "\n",
    "high_alert_info, total_population, total_requests = city_intel(high_alert_cities, city_data)\n",
    "print(high_alert_info)\n",
    "print(total_population)\n",
    "print(total_requests)"
   ]
  },
  {
   "cell_type": "code",
   "execution_count": null,
   "metadata": {},
   "outputs": [],
   "source": [
    "# Mission 4: Tracking Supply Distribution\n",
    "# Python function to create a nested dictionary for supplies:\n",
    "def supply_distribution(supplies):\n",
    "    distribution = {}\n",
    "    for city, supply_type, quantity in supplies:\n",
    "        if city not in distribution:\n",
    "            distribution[city] = {}\n",
    "        distribution[city][supply_type] = quantity\n",
    "    return distribution\n",
    "\n",
    "supplies = [(\"Kyiv\", \"Food\", 500), (\"Moscow\", \"Medicines\", 200), (\"Lviv\", \"Water\", 300), \n",
    "            (\"Saint Petersburg\", \"Blankets\", 100), (\"Kharkiv\", \"Food\", 150)]\n",
    "\n",
    "distribution = supply_distribution(supplies)\n",
    "print(distribution)"
   ]
  }
 ],
 "metadata": {
  "language_info": {
   "name": "python"
  }
 },
 "nbformat": 4,
 "nbformat_minor": 2
}
