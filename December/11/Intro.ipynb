{
 "cells": [
  {
   "cell_type": "code",
   "execution_count": 2,
   "id": "a5cc15ca-b61b-400c-805c-f7253f49534b",
   "metadata": {
    "trusted": true
   },
   "outputs": [
    {
     "name": "stdout",
     "output_type": "stream",
     "text": [
      "[100   2   3   4]\n",
      "[100   2   3   4]\n",
      "False\n"
     ]
    }
   ],
   "source": [
    "import numpy as np\n",
    "a = np.array([1, 2, 3, 4])\n",
    "b = a.view()\n",
    "b[0] = 100\n",
    "print(a)\n",
    "print(b)\n",
    "print(a is b)"
   ]
  },
  {
   "cell_type": "code",
   "execution_count": 2,
   "id": "6158ac35-390c-4bc6-aa1a-6a352f7890ac",
   "metadata": {
    "trusted": true
   },
   "outputs": [
    {
     "name": "stdout",
     "output_type": "stream",
     "text": [
      "[[ 1  2  3  4  5  6]\n",
      " [ 7  8  9 10 11 12]]\n"
     ]
    }
   ],
   "source": [
    "# Reshape() :-\n",
    "a = np.array([[1,2,3],[4,5,6],[7,8,9],[10,11,12]])\n",
    "b = a.reshape(2,6)\n",
    "print(b)"
   ]
  },
  {
   "cell_type": "code",
   "execution_count": 3,
   "id": "cac7fe47-358d-433a-a60f-947ff66a8838",
   "metadata": {
    "trusted": true
   },
   "outputs": [
    {
     "name": "stdout",
     "output_type": "stream",
     "text": [
      "[[ 1  4  7 10]\n",
      " [ 2  5  8 11]\n",
      " [ 3  6  9 12]]\n"
     ]
    }
   ],
   "source": [
    "# Transpose :-\n",
    "print(a.T)"
   ]
  },
  {
   "cell_type": "code",
   "execution_count": 4,
   "id": "23a33b33-bd22-4826-a720-f3d61ebfc616",
   "metadata": {
    "collapsed": true,
    "jupyter": {
     "outputs_hidden": true
    },
    "trusted": true
   },
   "outputs": [
    {
     "name": "stdout",
     "output_type": "stream",
     "text": [
      "      Name  Age City\n",
      "0    Alice   10  CTC\n",
      "1      Bob   15  BBS\n",
      "2  Charlie   20  BHM\n"
     ]
    }
   ],
   "source": [
    "# pandas\n",
    "import pandas as pd\n",
    "data = {'Name' : ['Alice','Bob','Charlie'],'Age' : [10,15,20], 'City' : ['CTC','BBS','BHM']}\n",
    "df = pd.DataFrame(data)\n",
    "print(df)"
   ]
  },
  {
   "cell_type": "code",
   "execution_count": 7,
   "id": "b0b9846b-a5b2-4370-bf1a-13c6496f2a2a",
   "metadata": {
    "collapsed": true,
    "jupyter": {
     "outputs_hidden": true
    },
    "trusted": true
   },
   "outputs": [
    {
     "name": "stdout",
     "output_type": "stream",
     "text": [
      "0    10\n",
      "1    15\n",
      "2    20\n",
      "Name: Age, dtype: int64\n"
     ]
    }
   ],
   "source": [
    "# operations\n",
    "print(df['Age']) #print column age"
   ]
  },
  {
   "cell_type": "code",
   "execution_count": 8,
   "id": "9393b485-aebf-461d-834d-8c0d9306458b",
   "metadata": {
    "trusted": true
   },
   "outputs": [
    {
     "name": "stdout",
     "output_type": "stream",
     "text": [
      "<pandas.core.indexing._iLocIndexer object at 0x57bfdb0>\n"
     ]
    }
   ],
   "source": [
    "print(df.iloc(0)) #location"
   ]
  },
  {
   "cell_type": "code",
   "execution_count": 20,
   "id": "4209fb4a-31f1-4d4b-a7b6-df91b462f405",
   "metadata": {
    "trusted": true
   },
   "outputs": [
    {
     "data": {
      "text/html": [
       "<div>\n",
       "<style scoped>\n",
       "    .dataframe tbody tr th:only-of-type {\n",
       "        vertical-align: middle;\n",
       "    }\n",
       "\n",
       "    .dataframe tbody tr th {\n",
       "        vertical-align: top;\n",
       "    }\n",
       "\n",
       "    .dataframe thead th {\n",
       "        text-align: right;\n",
       "    }\n",
       "</style>\n",
       "<table border=\"1\" class=\"dataframe\">\n",
       "  <thead>\n",
       "    <tr style=\"text-align: right;\">\n",
       "      <th></th>\n",
       "      <th>Name</th>\n",
       "      <th>Age</th>\n",
       "    </tr>\n",
       "  </thead>\n",
       "  <tbody>\n",
       "    <tr>\n",
       "      <th>1</th>\n",
       "      <td>Bob</td>\n",
       "      <td>15</td>\n",
       "    </tr>\n",
       "    <tr>\n",
       "      <th>2</th>\n",
       "      <td>Charlie</td>\n",
       "      <td>20</td>\n",
       "    </tr>\n",
       "    <tr>\n",
       "      <th>3</th>\n",
       "      <td>abc</td>\n",
       "      <td>25</td>\n",
       "    </tr>\n",
       "  </tbody>\n",
       "</table>\n",
       "</div>"
      ],
      "text/plain": [
       "      Name  Age\n",
       "1      Bob   15\n",
       "2  Charlie   20\n",
       "3      abc   25"
      ]
     },
     "execution_count": 20,
     "metadata": {},
     "output_type": "execute_result"
    }
   ],
   "source": [
    "df['Mark'] = [10,20,30] #add mark\n",
    "df.loc[1:3,['Name', 'Age']] #print row 1 to 3 of column name and age"
   ]
  },
  {
   "cell_type": "code",
   "execution_count": 15,
   "id": "653eab8e-cd84-4d32-a25d-26cdb4ce8e16",
   "metadata": {
    "trusted": true
   },
   "outputs": [
    {
     "data": {
      "text/html": [
       "<div>\n",
       "<style scoped>\n",
       "    .dataframe tbody tr th:only-of-type {\n",
       "        vertical-align: middle;\n",
       "    }\n",
       "\n",
       "    .dataframe tbody tr th {\n",
       "        vertical-align: top;\n",
       "    }\n",
       "\n",
       "    .dataframe thead th {\n",
       "        text-align: right;\n",
       "    }\n",
       "</style>\n",
       "<table border=\"1\" class=\"dataframe\">\n",
       "  <thead>\n",
       "    <tr style=\"text-align: right;\">\n",
       "      <th></th>\n",
       "      <th>Name</th>\n",
       "      <th>City</th>\n",
       "      <th>Mark</th>\n",
       "    </tr>\n",
       "  </thead>\n",
       "  <tbody>\n",
       "    <tr>\n",
       "      <th>0</th>\n",
       "      <td>Alice</td>\n",
       "      <td>CTC</td>\n",
       "      <td>10</td>\n",
       "    </tr>\n",
       "    <tr>\n",
       "      <th>1</th>\n",
       "      <td>Bob</td>\n",
       "      <td>BBS</td>\n",
       "      <td>20</td>\n",
       "    </tr>\n",
       "    <tr>\n",
       "      <th>2</th>\n",
       "      <td>Charlie</td>\n",
       "      <td>BHM</td>\n",
       "      <td>30</td>\n",
       "    </tr>\n",
       "    <tr>\n",
       "      <th>3</th>\n",
       "      <td>abc</td>\n",
       "      <td>efg</td>\n",
       "      <td>20</td>\n",
       "    </tr>\n",
       "    <tr>\n",
       "      <th>4</th>\n",
       "      <td>abc</td>\n",
       "      <td>efg</td>\n",
       "      <td>20</td>\n",
       "    </tr>\n",
       "  </tbody>\n",
       "</table>\n",
       "</div>"
      ],
      "text/plain": [
       "      Name City  Mark\n",
       "0    Alice  CTC    10\n",
       "1      Bob  BBS    20\n",
       "2  Charlie  BHM    30\n",
       "3      abc  efg    20\n",
       "4      abc  efg    20"
      ]
     },
     "execution_count": 15,
     "metadata": {},
     "output_type": "execute_result"
    }
   ],
   "source": [
    "df.loc[len(df)] = ['abc',25,'efg',20] #add new row\n",
    "df.drop('Age',axis = 1) #Delete column 1 (Age)"
   ]
  },
  {
   "cell_type": "code",
   "execution_count": 14,
   "id": "3e9bb9d9-a9f8-44af-8247-d23e11e37a85",
   "metadata": {
    "trusted": true
   },
   "outputs": [
    {
     "data": {
      "text/html": [
       "<div>\n",
       "<style scoped>\n",
       "    .dataframe tbody tr th:only-of-type {\n",
       "        vertical-align: middle;\n",
       "    }\n",
       "\n",
       "    .dataframe tbody tr th {\n",
       "        vertical-align: top;\n",
       "    }\n",
       "\n",
       "    .dataframe thead th {\n",
       "        text-align: right;\n",
       "    }\n",
       "</style>\n",
       "<table border=\"1\" class=\"dataframe\">\n",
       "  <thead>\n",
       "    <tr style=\"text-align: right;\">\n",
       "      <th></th>\n",
       "      <th>Name</th>\n",
       "      <th>Age</th>\n",
       "      <th>City</th>\n",
       "      <th>Mark</th>\n",
       "    </tr>\n",
       "  </thead>\n",
       "  <tbody>\n",
       "    <tr>\n",
       "      <th>0</th>\n",
       "      <td>Alice</td>\n",
       "      <td>10</td>\n",
       "      <td>CTC</td>\n",
       "      <td>10</td>\n",
       "    </tr>\n",
       "    <tr>\n",
       "      <th>2</th>\n",
       "      <td>Charlie</td>\n",
       "      <td>20</td>\n",
       "      <td>BHM</td>\n",
       "      <td>30</td>\n",
       "    </tr>\n",
       "    <tr>\n",
       "      <th>3</th>\n",
       "      <td>abc</td>\n",
       "      <td>25</td>\n",
       "      <td>efg</td>\n",
       "      <td>20</td>\n",
       "    </tr>\n",
       "    <tr>\n",
       "      <th>4</th>\n",
       "      <td>abc</td>\n",
       "      <td>25</td>\n",
       "      <td>efg</td>\n",
       "      <td>20</td>\n",
       "    </tr>\n",
       "  </tbody>\n",
       "</table>\n",
       "</div>"
      ],
      "text/plain": [
       "      Name  Age City  Mark\n",
       "0    Alice   10  CTC    10\n",
       "2  Charlie   20  BHM    30\n",
       "3      abc   25  efg    20\n",
       "4      abc   25  efg    20"
      ]
     },
     "execution_count": 14,
     "metadata": {},
     "output_type": "execute_result"
    }
   ],
   "source": [
    "df.drop(1,axis = 0) #Delete row 1 (Bob)"
   ]
  },
  {
   "cell_type": "code",
   "execution_count": 35,
   "id": "461b5e76-5673-4cb9-8821-3ebe89670d77",
   "metadata": {
    "trusted": true
   },
   "outputs": [
    {
     "data": {
      "text/plain": [
       "'Good'"
      ]
     },
     "execution_count": 35,
     "metadata": {},
     "output_type": "execute_result"
    }
   ],
   "source": [
    "# Strings\n",
    "s1 = \"     Good     \"\n",
    "s1.strip()"
   ]
  },
  {
   "cell_type": "code",
   "execution_count": 38,
   "id": "e3df5602-a4e4-4385-af81-f7147e490bca",
   "metadata": {
    "trusted": true
   },
   "outputs": [
    {
     "data": {
      "text/plain": [
       "'Good     '"
      ]
     },
     "execution_count": 38,
     "metadata": {},
     "output_type": "execute_result"
    }
   ],
   "source": [
    "s1.lstrip()"
   ]
  },
  {
   "cell_type": "code",
   "execution_count": 39,
   "id": "5ca50147-94e3-4389-9c57-faad3eb33935",
   "metadata": {
    "trusted": true
   },
   "outputs": [
    {
     "data": {
      "text/plain": [
       "'     Good'"
      ]
     },
     "execution_count": 39,
     "metadata": {},
     "output_type": "execute_result"
    }
   ],
   "source": [
    "s1.rstrip()"
   ]
  },
  {
   "cell_type": "code",
   "execution_count": 36,
   "id": "de6c6519-ea42-488c-9fce-d95575b59bb8",
   "metadata": {
    "trusted": true
   },
   "outputs": [
    {
     "data": {
      "text/plain": [
       "'Good morning'"
      ]
     },
     "execution_count": 36,
     "metadata": {},
     "output_type": "execute_result"
    }
   ],
   "source": [
    "s2 = \"Good morning\"\n",
    "s2.capitalize()"
   ]
  },
  {
   "cell_type": "code",
   "execution_count": 37,
   "id": "d2be1de8-995d-47ec-a308-96d66f1584ec",
   "metadata": {
    "trusted": true
   },
   "outputs": [
    {
     "data": {
      "text/plain": [
       "'Good Morning'"
      ]
     },
     "execution_count": 37,
     "metadata": {},
     "output_type": "execute_result"
    }
   ],
   "source": [
    "s3 = \"good morning\"\n",
    "s3.title()"
   ]
  },
  {
   "cell_type": "code",
   "execution_count": 27,
   "id": "9e4ff1ac-43d8-4f1f-b673-afa9fc38b764",
   "metadata": {
    "trusted": true
   },
   "outputs": [
    {
     "name": "stdout",
     "output_type": "stream",
     "text": [
      "False\n"
     ]
    }
   ],
   "source": [
    "s1 = \"orange\"\n",
    "s2 = \"Orange\"\n",
    "print(s1 < s2)"
   ]
  },
  {
   "cell_type": "code",
   "execution_count": 40,
   "id": "ae02420f-0011-4acf-8e55-5e0b53eaebed",
   "metadata": {
    "trusted": true
   },
   "outputs": [
    {
     "data": {
      "text/plain": [
       "2"
      ]
     },
     "execution_count": 40,
     "metadata": {},
     "output_type": "execute_result"
    }
   ],
   "source": [
    "s4 = \"to be or not to be\"\n",
    "s4.count('to')"
   ]
  },
  {
   "cell_type": "code",
   "execution_count": 41,
   "id": "8714d0fd-4c4e-47cc-b942-96c4f01cba50",
   "metadata": {
    "trusted": true
   },
   "outputs": [
    {
     "data": {
      "text/plain": [
       "13"
      ]
     },
     "execution_count": 41,
     "metadata": {},
     "output_type": "execute_result"
    }
   ],
   "source": [
    "s4.rindex('to')"
   ]
  },
  {
   "cell_type": "code",
   "execution_count": 43,
   "id": "bd7377b6-3b4c-43bb-a900-6bcdb3eecf0d",
   "metadata": {
    "trusted": true
   },
   "outputs": [
    {
     "name": "stdout",
     "output_type": "stream",
     "text": [
      "True\n"
     ]
    },
    {
     "data": {
      "text/plain": [
       "True"
      ]
     },
     "execution_count": 43,
     "metadata": {},
     "output_type": "execute_result"
    }
   ],
   "source": [
    "print('be' in s4)\n",
    "s4.startswith('to')"
   ]
  },
  {
   "cell_type": "code",
   "execution_count": 44,
   "id": "23cc7602-abad-40a8-9c83-ef1295523566",
   "metadata": {
    "trusted": true
   },
   "outputs": [
    {
     "data": {
      "text/plain": [
       "'go be or not go be'"
      ]
     },
     "execution_count": 44,
     "metadata": {},
     "output_type": "execute_result"
    }
   ],
   "source": [
    "s4.replace('to','go')"
   ]
  },
  {
   "cell_type": "code",
   "execution_count": 46,
   "id": "5a21a5a0-8d63-471e-a139-1bf0e2628a7d",
   "metadata": {
    "trusted": true
   },
   "outputs": [
    {
     "data": {
      "text/plain": [
       "['a', 'b', 'c', 'd']"
      ]
     },
     "execution_count": 46,
     "metadata": {},
     "output_type": "execute_result"
    }
   ],
   "source": [
    "s5 = 'a,b,c,d'\n",
    "s5.split(',') #splitting"
   ]
  },
  {
   "cell_type": "code",
   "execution_count": 47,
   "id": "1eedad10-bcc0-4fbc-9c42-c4d46cb745e4",
   "metadata": {
    "trusted": true
   },
   "outputs": [
    {
     "data": {
      "text/plain": [
       "'a,b,c,d'"
      ]
     },
     "execution_count": 47,
     "metadata": {},
     "output_type": "execute_result"
    }
   ],
   "source": [
    "list1 = ['a','b','c','d']\n",
    "','.join(list1) #joining"
   ]
  },
  {
   "cell_type": "code",
   "execution_count": 48,
   "id": "583c2833-e524-487b-8eea-e751f3d4a3bc",
   "metadata": {
    "trusted": true
   },
   "outputs": [
    {
     "data": {
      "text/plain": [
       "['good morning']"
      ]
     },
     "execution_count": 48,
     "metadata": {},
     "output_type": "execute_result"
    }
   ],
   "source": [
    "s5 = 'good morning'\n",
    "s5.split(',') #splitting"
   ]
  },
  {
   "cell_type": "code",
   "execution_count": 49,
   "id": "0a936be3-dd3c-4ff6-9884-60ecfc15abd9",
   "metadata": {
    "trusted": true
   },
   "outputs": [
    {
     "data": {
      "text/plain": [
       "'good,morning'"
      ]
     },
     "execution_count": 49,
     "metadata": {},
     "output_type": "execute_result"
    }
   ],
   "source": [
    "list1 = ['good','morning']\n",
    "','.join(list1) #joining"
   ]
  },
  {
   "cell_type": "code",
   "execution_count": 58,
   "id": "712f48cc-7358-4c58-953c-ab266fa71da4",
   "metadata": {
    "trusted": true
   },
   "outputs": [
    {
     "data": {
      "text/plain": [
       "'morning good'"
      ]
     },
     "execution_count": 58,
     "metadata": {},
     "output_type": "execute_result"
    }
   ],
   "source": [
    "' '.join(list1[::-1])"
   ]
  },
  {
   "cell_type": "code",
   "execution_count": 59,
   "id": "6abf55f4-e1d6-43c0-9ad2-8d1c8d0eefa5",
   "metadata": {
    "trusted": true
   },
   "outputs": [
    {
     "data": {
      "text/plain": [
       "'Sahu Prasad Aditya is name my Hello'"
      ]
     },
     "execution_count": 59,
     "metadata": {},
     "output_type": "execute_result"
    }
   ],
   "source": [
    "# Q1. Reverse words in a sentence\n",
    "string = \"Hello my name is Aditya Prasad Sahu\"\n",
    "' '.join(string.split(\" \")[::-1])"
   ]
  },
  {
   "cell_type": "code",
   "execution_count": 54,
   "id": "c023ad97-ca2e-41d9-8bd8-f863d4d63bb0",
   "metadata": {
    "trusted": true
   },
   "outputs": [],
   "source": [
    "# Q2. Check for anagrams(silent, listen)"
   ]
  },
  {
   "cell_type": "code",
   "execution_count": 64,
   "id": "c89dabab-8a31-449b-b13f-8f882a214f77",
   "metadata": {
    "trusted": true
   },
   "outputs": [
    {
     "name": "stdout",
     "output_type": "stream",
     "text": [
      "{'H': 1, 'e': 2, 'l': 2, 'o': 1, ' ': 6, 'm': 2, 'y': 2, 'n': 1, 'a': 5, 'i': 2, 's': 2, 'A': 1, 'd': 2, 't': 1, 'P': 1, 'r': 1, 'S': 1, 'h': 1, 'u': 1}\n"
     ]
    }
   ],
   "source": [
    "# Q3. Find frequency of each charecter\n",
    "frequency = {}\n",
    "for char in string: frequency[char] = frequency.get(char,0) +1\n",
    "print(frequency)"
   ]
  },
  {
   "cell_type": "code",
   "execution_count": 65,
   "id": "ab52bd06-a39d-424a-91ca-6a8981693e42",
   "metadata": {
    "trusted": true
   },
   "outputs": [
    {
     "name": "stdout",
     "output_type": "stream",
     "text": [
      "True\n"
     ]
    }
   ],
   "source": [
    "# Q4. Check for substring\n",
    "print(\"Aditya\" in string)"
   ]
  },
  {
   "cell_type": "code",
   "execution_count": 70,
   "id": "c66d4542-36d0-408f-a8b0-97fe6f83f0a7",
   "metadata": {
    "trusted": true
   },
   "outputs": [
    {
     "name": "stdout",
     "output_type": "stream",
     "text": [
      "Vowels : 11 \n",
      "Consonants : 18\n"
     ]
    }
   ],
   "source": [
    "# Q5. Count vowels and consonants\n",
    "consonants, vowels = 0,0\n",
    "for char in string:\n",
    "    if char in \"aeiou\": vowels += 1\n",
    "    elif char == \" \": continue\n",
    "    else: consonants += 1\n",
    "print(\"Vowels :\",vowels,\"\\nConsonants :\",consonants)"
   ]
  },
  {
   "cell_type": "code",
   "execution_count": 78,
   "id": "e7b06db7-5134-4dd8-bdfe-26038e6cd7e1",
   "metadata": {
    "trusted": true
   },
   "outputs": [
    {
     "name": "stdout",
     "output_type": "stream",
     "text": [
      "Character :  \n"
     ]
    }
   ],
   "source": [
    "# Q6. Find most frequent character\n",
    "count = 0\n",
    "for key in frequency:\n",
    "    if frequency[key] > count: \n",
    "        maxkey = key\n",
    "        count = frequency[key]\n",
    "print(\"Character :\",maxkey,\"\\nCount :\",count)"
   ]
  },
  {
   "cell_type": "code",
   "execution_count": null,
   "id": "e85159c8-1433-40bf-99c2-ef32107d019f",
   "metadata": {
    "trusted": true
   },
   "outputs": [],
   "source": []
  }
 ],
 "metadata": {
  "kernelspec": {
   "display_name": "Python 3",
   "language": "python",
   "name": "python3"
  },
  "language_info": {
   "codemirror_mode": {
    "name": "ipython",
    "version": 3
   },
   "file_extension": ".py",
   "mimetype": "text/x-python",
   "name": "python",
   "nbconvert_exporter": "python",
   "pygments_lexer": "ipython3",
   "version": "3.12.5"
  }
 },
 "nbformat": 4,
 "nbformat_minor": 5
}
