{
 "cells": [
  {
   "cell_type": "code",
   "execution_count": 2,
   "id": "7f0d549f",
   "metadata": {},
   "outputs": [
    {
     "name": "stdout",
     "output_type": "stream",
     "text": [
      "34\n",
      "6\n"
     ]
    }
   ],
   "source": [
    "list=[34,25,7,6]\n",
    "print(max(list))\n",
    "print(min(list))"
   ]
  },
  {
   "cell_type": "code",
   "execution_count": 3,
   "id": "84efcb8c",
   "metadata": {},
   "outputs": [
    {
     "name": "stdout",
     "output_type": "stream",
     "text": [
      "7\n",
      "8\n",
      "8\n",
      "2.302585092994046\n"
     ]
    }
   ],
   "source": [
    "import math\n",
    "x=7.6\n",
    "print(math.floor(x))\n",
    "print(round(x))\n",
    "print(math.ceil(x))\n",
    "x=10\n",
    "print(math.log(x))"
   ]
  },
  {
   "cell_type": "code",
   "execution_count": 6,
   "id": "2bdd89de",
   "metadata": {},
   "outputs": [
    {
     "data": {
      "text/plain": [
       "0.40231062245245663"
      ]
     },
     "execution_count": 6,
     "metadata": {},
     "output_type": "execute_result"
    }
   ],
   "source": [
    "import random\n",
    "random.random()"
   ]
  },
  {
   "cell_type": "code",
   "execution_count": 7,
   "id": "86591c67",
   "metadata": {},
   "outputs": [
    {
     "data": {
      "text/plain": [
       "7"
      ]
     },
     "execution_count": 7,
     "metadata": {},
     "output_type": "execute_result"
    }
   ],
   "source": [
    "import random\n",
    "random.randint(1,7)"
   ]
  },
  {
   "cell_type": "code",
   "execution_count": 9,
   "id": "87db0e93",
   "metadata": {},
   "outputs": [
    {
     "data": {
      "text/plain": [
       "1"
      ]
     },
     "execution_count": 9,
     "metadata": {},
     "output_type": "execute_result"
    }
   ],
   "source": [
    "import random\n",
    "random.randrange(1,7)"
   ]
  },
  {
   "cell_type": "code",
   "execution_count": 10,
   "id": "7e273829",
   "metadata": {},
   "outputs": [
    {
     "data": {
      "text/plain": [
       "1.4457531511800041"
      ]
     },
     "execution_count": 10,
     "metadata": {},
     "output_type": "execute_result"
    }
   ],
   "source": [
    "import random\n",
    "random.uniform(1,7)"
   ]
  },
  {
   "cell_type": "code",
   "execution_count": 11,
   "id": "b6ef88ed",
   "metadata": {},
   "outputs": [
    {
     "data": {
      "text/plain": [
       "46"
      ]
     },
     "execution_count": 11,
     "metadata": {},
     "output_type": "execute_result"
    }
   ],
   "source": [
    "import random\n",
    "list=[53,46,78]\n",
    "random.choice(list)"
   ]
  },
  {
   "cell_type": "code",
   "execution_count": 12,
   "id": "fcb3c0f0",
   "metadata": {},
   "outputs": [
    {
     "data": {
      "text/plain": [
       "'4'"
      ]
     },
     "execution_count": 12,
     "metadata": {},
     "output_type": "execute_result"
    }
   ],
   "source": [
    "import random\n",
    "random.choice(\"2345\")"
   ]
  },
  {
   "cell_type": "code",
   "execution_count": 21,
   "id": "265cc085",
   "metadata": {},
   "outputs": [
    {
     "name": "stdout",
     "output_type": "stream",
     "text": [
      "132168425704896\n",
      "[46, 86, 53]\n"
     ]
    },
    {
     "data": {
      "text/plain": [
       "132168425704896"
      ]
     },
     "execution_count": 21,
     "metadata": {},
     "output_type": "execute_result"
    }
   ],
   "source": [
    "import random\n",
    "list=[53,46,86]\n",
    "print(id(list))\n",
    "random.shuffle(list)\n",
    "print(list)\n",
    "id(list)"
   ]
  },
  {
   "cell_type": "code",
   "execution_count": 23,
   "id": "bf58b57c",
   "metadata": {},
   "outputs": [
    {
     "name": "stdout",
     "output_type": "stream",
     "text": [
      "0.5714025946899135\n",
      "0.9056396761745207\n"
     ]
    }
   ],
   "source": [
    "import random\n",
    "list=[53,46,86]\n",
    "r1=random.seed(10)\n",
    "r1=random.random()\n",
    "print(r1)\n",
    "r2=random.seed(20)\n",
    "r2=random.random()\n",
    "print(r2)"
   ]
  },
  {
   "cell_type": "code",
   "execution_count": 29,
   "id": "48c45f7f",
   "metadata": {},
   "outputs": [
    {
     "name": "stdout",
     "output_type": "stream",
     "text": [
      "  Face    frequency\n",
      "   1         1017\n",
      "   2         1013\n",
      "   3          923\n",
      "   4          963\n",
      "   5          999\n",
      "   6         1085\n"
     ]
    }
   ],
   "source": [
    "# roll a dice for 6000 times then see what is the frequency of getting every face\n",
    "import random\n",
    "frequency1=0\n",
    "frequency2=0\n",
    "frequency3=0\n",
    "frequency4=0\n",
    "frequency5=0\n",
    "frequency6=0\n",
    "for roll in range(6000):\n",
    "    face = random.randrange(1,7)\n",
    "    if face == 1:\n",
    "        frequency1 += 1\n",
    "    elif face == 2:\n",
    "        frequency2 += 1\n",
    "    elif face == 3:\n",
    "        frequency3 += 1\n",
    "    elif face == 4:\n",
    "        frequency4 += 1\n",
    "    elif face == 5:\n",
    "        frequency5 += 1\n",
    "    elif face == 6:\n",
    "        frequency6 += 1\n",
    "print(f'  Face{\"frequency\":>13}')\n",
    "print(f'{1:>4}{frequency1:>13}')\n",
    "print(f'{2:>4}{frequency2:>13}')\n",
    "print(f'{3:>4}{frequency3:>13}')\n",
    "print(f'{4:>4}{frequency4:>13}')\n",
    "print(f'{5:>4}{frequency5:>13}')\n",
    "print(f'{6:>4}{frequency6:>13}')"
   ]
  },
  {
   "cell_type": "code",
   "execution_count": null,
   "id": "21431ed2",
   "metadata": {},
   "outputs": [],
   "source": []
  }
 ],
 "metadata": {
  "kernelspec": {
   "display_name": "Python 3 (ipykernel)",
   "language": "python",
   "name": "python3"
  },
  "language_info": {
   "codemirror_mode": {
    "name": "ipython",
    "version": 3
   },
   "file_extension": ".py",
   "mimetype": "text/x-python",
   "name": "python",
   "nbconvert_exporter": "python",
   "pygments_lexer": "ipython3",
   "version": "3.11.4"
  }
 },
 "nbformat": 4,
 "nbformat_minor": 5
}
