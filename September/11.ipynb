{
 "cells": [
  {
   "cell_type": "code",
   "execution_count": 1,
   "id": "8acb7e5d",
   "metadata": {
    "scrolled": false
   },
   "outputs": [
    {
     "name": "stdout",
     "output_type": "stream",
     "text": [
      "1 2 3\n"
     ]
    }
   ],
   "source": [
    "a,b,c = 1,2,3\n",
    "print(1,2,3)"
   ]
  },
  {
   "cell_type": "code",
   "execution_count": 2,
   "id": "d45a71e9",
   "metadata": {},
   "outputs": [
    {
     "name": "stdout",
     "output_type": "stream",
     "text": [
      "3\n",
      "2\n",
      "20\n",
      "5.0\n",
      "2.0\n"
     ]
    }
   ],
   "source": [
    "a+=2\n",
    "print(a)\n",
    "a-= 1\n",
    "print(a)\n",
    "a*=10\n",
    "print(a)\n",
    "a/=4\n",
    "print(a)\n",
    "a//=2\n",
    "print(a)"
   ]
  },
  {
   "cell_type": "code",
   "execution_count": 3,
   "id": "6386abaf",
   "metadata": {},
   "outputs": [
    {
     "name": "stdout",
     "output_type": "stream",
     "text": [
      "10\n"
     ]
    }
   ],
   "source": [
    "x=10\n",
    "y=x\n",
    "x=5\n",
    "print(y)"
   ]
  },
  {
   "cell_type": "code",
   "execution_count": 4,
   "id": "91696c6c",
   "metadata": {},
   "outputs": [
    {
     "name": "stdout",
     "output_type": "stream",
     "text": [
      "43\n"
     ]
    }
   ],
   "source": [
    "a = 5\n",
    "b = 7\n",
    "a+=b\n",
    "a*=3\n",
    "print(a+b)"
   ]
  },
  {
   "cell_type": "code",
   "execution_count": 5,
   "id": "da7f107b",
   "metadata": {},
   "outputs": [
    {
     "name": "stdout",
     "output_type": "stream",
     "text": [
      "38\n"
     ]
    }
   ],
   "source": [
    "x=8\n",
    "y=4\n",
    "z=x\n",
    "z-=y\n",
    "z*=x\n",
    "x=y+2\n",
    "z+=x\n",
    "print(z)"
   ]
  },
  {
   "cell_type": "code",
   "execution_count": 6,
   "id": "64540d04",
   "metadata": {},
   "outputs": [
    {
     "name": "stdout",
     "output_type": "stream",
     "text": [
      "5\n"
     ]
    }
   ],
   "source": [
    "a,b,c = 1,2,3\n",
    "a,b = b,c\n",
    "c=a+c\n",
    "print(c)"
   ]
  },
  {
   "cell_type": "code",
   "execution_count": 7,
   "id": "2ff0c10c",
   "metadata": {},
   "outputs": [
    {
     "name": "stdout",
     "output_type": "stream",
     "text": [
      "False\n"
     ]
    }
   ],
   "source": [
    "a,b = 5,3\n",
    "print(a<=b)"
   ]
  },
  {
   "cell_type": "code",
   "execution_count": 8,
   "id": "23a7bbdd",
   "metadata": {},
   "outputs": [
    {
     "name": "stdout",
     "output_type": "stream",
     "text": [
      "true\n"
     ]
    }
   ],
   "source": [
    "if(a>b):\n",
    "    print(\"true\")\n",
    "else:\n",
    "    print(\"false\")"
   ]
  },
  {
   "cell_type": "code",
   "execution_count": 9,
   "id": "bbfee54a",
   "metadata": {},
   "outputs": [
    {
     "name": "stdout",
     "output_type": "stream",
     "text": [
      "Enter a number : 10\n",
      "Enter a number : 20\n",
      "Enter a number : 30\n",
      "Minimum : 10\n",
      "Minimum : 10\n",
      "Minimum : 10\n"
     ]
    }
   ],
   "source": [
    "a = int(input(\"Enter a number : \"))\n",
    "b = int(input(\"Enter a number : \"))\n",
    "c = int(input(\"Enter a number : \"))\n",
    "\n",
    "#process 1\n",
    "mini = a\n",
    "if(mini > b): \n",
    "    mini = b\n",
    "if(mini > c): \n",
    "    mini = c\n",
    "print(\"Minimum :\",mini)\n",
    "\n",
    "#process 2\n",
    "if(a<b):\n",
    "    if(a<c):\n",
    "        print(\"Minimum :\",a)\n",
    "    else: \n",
    "        print(\"Minimum :\",c)\n",
    "else:\n",
    "    if(b<c):\n",
    "        print(\"Minimum :\",b)\n",
    "    else:\n",
    "        print(\"Minimum :\",c)\n",
    "        \n",
    "#process 3     \n",
    "print(\"Minimum :\",min(a,b,c))"
   ]
  },
  {
   "cell_type": "code",
   "execution_count": 10,
   "id": "608a89e7",
   "metadata": {},
   "outputs": [
    {
     "name": "stdout",
     "output_type": "stream",
     "text": [
      "False\n"
     ]
    }
   ],
   "source": [
    "a,b = 5,4\n",
    "print(a<4 and b>10)"
   ]
  },
  {
   "cell_type": "code",
   "execution_count": 11,
   "id": "5519dbde",
   "metadata": {},
   "outputs": [
    {
     "name": "stdout",
     "output_type": "stream",
     "text": [
      "False\n"
     ]
    }
   ],
   "source": [
    "a=5\n",
    "print(not(a))"
   ]
  },
  {
   "cell_type": "code",
   "execution_count": null,
   "id": "00352155",
   "metadata": {},
   "outputs": [],
   "source": [
    "a = int(input(\"Enter a number : \")) \n",
    "mini = a \n",
    "for i in range (10): \n",
    "    a = int(input(\"Enter a number : \")) \n",
    "    if(mini > a): mini = a\n",
    "print(\"Minuimum :\",mini)"
   ]
  },
  {
   "cell_type": "code",
   "execution_count": null,
   "id": "21e6beea",
   "metadata": {},
   "outputs": [],
   "source": []
  }
 ],
 "metadata": {
  "kernelspec": {
   "display_name": "Python 3 (ipykernel)",
   "language": "python",
   "name": "python3"
  },
  "language_info": {
   "codemirror_mode": {
    "name": "ipython",
    "version": 3
   },
   "file_extension": ".py",
   "mimetype": "text/x-python",
   "name": "python",
   "nbconvert_exporter": "python",
   "pygments_lexer": "ipython3",
   "version": "3.11.4"
  }
 },
 "nbformat": 4,
 "nbformat_minor": 5
}
