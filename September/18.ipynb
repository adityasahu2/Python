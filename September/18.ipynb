{
 "cells": [
  {
   "cell_type": "code",
   "execution_count": 1,
   "id": "0cfd6729",
   "metadata": {},
   "outputs": [
    {
     "name": "stdout",
     "output_type": "stream",
     "text": [
      "Enter your attendance : 20\n",
      "You cannot appear for exam\n"
     ]
    }
   ],
   "source": [
    "#take the attendance of a student and check wheather he can appear the exam if his attendatance is greater than 70\n",
    "num = int(input(\"Enter your attendance : \"))\n",
    "if(num > 70):\n",
    "    print(\"You can appear for exam\")\n",
    "else:\n",
    "    print(\"You cannot appear for exam\")"
   ]
  },
  {
   "cell_type": "code",
   "execution_count": 4,
   "id": "b3e01cd3",
   "metadata": {},
   "outputs": [
    {
     "name": "stdout",
     "output_type": "stream",
     "text": [
      "Enter a number : 22\n",
      "Number is even\n",
      "Number is greater than 20\n"
     ]
    }
   ],
   "source": [
    "#Take a number from user and check it is even and greater than 20\n",
    "num = int(input(\"Enter a number : \"))\n",
    "if(num%2 == 0):\n",
    "    print(\"Number is even\")\n",
    "    if(num > 20):\n",
    "        print(\"Number is greater than 20\")\n",
    "    else:\n",
    "        print(\"Number is not greater than 20\")\n",
    "else:\n",
    "    print(\"Number is not even\")\n",
    "    if(num > 20):\n",
    "        print(\"Number is greater than 20\")\n",
    "    else:\n",
    "        print(\"Number is not greater than 20\")"
   ]
  },
  {
   "cell_type": "code",
   "execution_count": 9,
   "id": "5cab7767",
   "metadata": {},
   "outputs": [
    {
     "name": "stdout",
     "output_type": "stream",
     "text": [
      "Enter your marks : 123\n",
      "Grade : O\n"
     ]
    }
   ],
   "source": [
    "#make a grading system\n",
    "num = int(input(\"Enter your marks : \"))\n",
    "if(num > 0 and num < 100)\n",
    "    if(num > 95):\n",
    "        print(\"Grade : O\")\n",
    "    elif(num > 85):\n",
    "        print(\"Grade : A\")\n",
    "    elif(num > 75):\n",
    "        print(\"Grade : B\")\n",
    "    elif(num > 65):\n",
    "        print(\"Grade : C\")\n",
    "    elif(num > 55):\n",
    "        print(\"Grade : D\")\n",
    "    elif(num > 45):\n",
    "        print(\"Grade : E\")\n",
    "    elif(num > 35):\n",
    "        print(\"Grade : F\")\n",
    "else:\n",
    "    print(\"Invalid marks\")"
   ]
  },
  {
   "cell_type": "code",
   "execution_count": 17,
   "id": "c0206c10",
   "metadata": {},
   "outputs": [
    {
     "name": "stdout",
     "output_type": "stream",
     "text": [
      "Enter your marks : 45\n",
      "Grade : E\n"
     ]
    }
   ],
   "source": [
    "#make a grading system\n",
    "num = int(input(\"Enter your marks : \"))\n",
    "if(num >= 0 and num <= 100):\n",
    "    if(num >= 35):\n",
    "        if(num >= 45):\n",
    "            if(num >= 55):\n",
    "                if(num >= 65):\n",
    "                    if(num >= 75):\n",
    "                        if(num >= 85):\n",
    "                            if(num >= 95):\n",
    "                                print(\"Grade : O\")\n",
    "                            else:\n",
    "                                print(\"Grade : A\")\n",
    "                        else:\n",
    "                            print(\"Grade : B\")\n",
    "                    else:\n",
    "                        print(\"Grade : C\")\n",
    "                else:\n",
    "                    print(\"Grade : D\")\n",
    "            else:\n",
    "                print(\"Grade : E\")\n",
    "        else:\n",
    "            print(\"Grade : F\")\n",
    "else:\n",
    "    print(\"Invalid marks\")"
   ]
  },
  {
   "cell_type": "code",
   "execution_count": 10,
   "id": "ce964cbb",
   "metadata": {},
   "outputs": [
    {
     "name": "stdout",
     "output_type": "stream",
     "text": [
      "Enter your height : 2.9999999999999999999999999999999999999999999999999999999999999999\n",
      "Enter your age : 18\n",
      "You are not allowed to ride roller coaster\n",
      "Pay : ₹500\n"
     ]
    }
   ],
   "source": [
    "# if height is greater than 3ft then he is allowed for the roller coaster \n",
    "# if age greater than 18 then ticket price is 500 else 250\n",
    "height = float(input(\"Enter your height : \"))\n",
    "age = int(input(\"Enter your age : \"))\n",
    "if(height > 3):\n",
    "    print(\"You are allowed to ride roller coaster\")\n",
    "    if(age >= 18):\n",
    "        print(\"Pay : ₹500\")\n",
    "    else:\n",
    "        print(\"Pay : ₹250\")\n",
    "else:\n",
    "    print(\"You are not allowed to ride roller coaster\")"
   ]
  },
  {
   "cell_type": "code",
   "execution_count": 18,
   "id": "e06bd873",
   "metadata": {},
   "outputs": [
    {
     "name": "stdout",
     "output_type": "stream",
     "text": [
      "Enter a year: 2024\n",
      "2024 is a leap year.\n"
     ]
    }
   ],
   "source": [
    "#Leap year\n",
    "year = int(input(\"Enter a year: \"))\n",
    "if (year % 4 == 0):\n",
    "    if (year % 100 == 0):\n",
    "        if (year % 400 == 0):\n",
    "            print(year,\"is a leap year.\")\n",
    "        else:\n",
    "            print(year,\"is not a leap year.\")\n",
    "    else:\n",
    "        print(year,\"is a leap year.\")\n",
    "else:\n",
    "    print(year,\"is not a leap year.\")"
   ]
  },
  {
   "cell_type": "code",
   "execution_count": null,
   "id": "36ac165d",
   "metadata": {},
   "outputs": [],
   "source": []
  }
 ],
 "metadata": {
  "kernelspec": {
   "display_name": "Python 3 (ipykernel)",
   "language": "python",
   "name": "python3"
  },
  "language_info": {
   "codemirror_mode": {
    "name": "ipython",
    "version": 3
   },
   "file_extension": ".py",
   "mimetype": "text/x-python",
   "name": "python",
   "nbconvert_exporter": "python",
   "pygments_lexer": "ipython3",
   "version": "3.11.4"
  }
 },
 "nbformat": 4,
 "nbformat_minor": 5
}
