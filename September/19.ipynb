{
 "cells": [
  {
   "cell_type": "code",
   "execution_count": 1,
   "id": "3a441f1f",
   "metadata": {},
   "outputs": [
    {
     "name": "stdout",
     "output_type": "stream",
     "text": [
      "Enter your weight in kg: 80\n",
      "Enter your height in meters: 2\n",
      "Your BMI is: 20.00\n",
      "You have a normal weight.\n"
     ]
    }
   ],
   "source": [
    "weight = float(input(\"Enter your weight in kg: \"))\n",
    "height = float(input(\"Enter your height in meters: \"))\n",
    "bmi = weight / (height ** 2)\n",
    "print(f\"Your BMI is: {bmi:.2f}\")\n",
    "if bmi < 18:\n",
    "    print(\"You are underweight.\")\n",
    "elif 18 <= bmi < 25:\n",
    "    print(\"You have a normal weight.\")\n",
    "elif bmi > 25:\n",
    "    print(\"You are overweight.\")"
   ]
  },
  {
   "cell_type": "code",
   "execution_count": 3,
   "id": "6156240c",
   "metadata": {},
   "outputs": [
    {
     "name": "stdout",
     "output_type": "stream",
     "text": [
      "Enter the amount you want to withdraw: 3000\n",
      "Withdrawal approved.\n",
      "Remaining balance: 2000.0\n"
     ]
    }
   ],
   "source": [
    "#wap for atm machine whether it is allowed to withdraw money and balance is 5000\n",
    "balance = 5000\n",
    "withdrawal_amount = float(input(\"Enter the amount you want to withdraw: \"))\n",
    "if withdrawal_amount < 0:\n",
    "    print(\"Invalid amount.\")\n",
    "elif withdrawal_amount > balance:\n",
    "    print(\"Insufficient balance.\")\n",
    "else:\n",
    "    balance -= withdrawal_amount \n",
    "    print(\"Withdrawal approved.\")\n",
    "    print(\"Remaining balance:\", balance)\n"
   ]
  },
  {
   "cell_type": "code",
   "execution_count": 4,
   "id": "bf676941",
   "metadata": {},
   "outputs": [
    {
     "name": "stdout",
     "output_type": "stream",
     "text": [
      "1\n",
      "2\n",
      "3\n",
      "4\n",
      "5\n",
      "6\n",
      "7\n",
      "8\n",
      "9\n",
      "10\n"
     ]
    }
   ],
   "source": [
    "i = 1\n",
    "while i <= 10:\n",
    "    print(i)\n",
    "    i += 1"
   ]
  },
  {
   "cell_type": "code",
   "execution_count": 2,
   "id": "53ec3fd5",
   "metadata": {},
   "outputs": [
    {
     "name": "stdout",
     "output_type": "stream",
     "text": [
      "Enter a number: 20\n",
      "1\n",
      "2\n",
      "3\n",
      "4\n",
      "5\n",
      "6\n",
      "7\n",
      "8\n",
      "9\n",
      "10\n",
      "11\n",
      "12\n",
      "13\n",
      "14\n",
      "15\n",
      "16\n",
      "17\n",
      "18\n",
      "19\n",
      "20\n"
     ]
    }
   ],
   "source": [
    "n = int(input(\"Enter a number: \"))\n",
    "i = 1\n",
    "while i <= n:\n",
    "    print(i)\n",
    "    i += 1"
   ]
  },
  {
   "cell_type": "code",
   "execution_count": 4,
   "id": "7c42c9b0",
   "metadata": {},
   "outputs": [
    {
     "name": "stdout",
     "output_type": "stream",
     "text": [
      "Enter a number: 10\n",
      "55\n"
     ]
    }
   ],
   "source": [
    "n = int(input(\"Enter a number: \"))\n",
    "i = 1\n",
    "sum = 0\n",
    "while i <= n:\n",
    "    sum += i\n",
    "    i += 1\n",
    "print(sum)"
   ]
  },
  {
   "cell_type": "code",
   "execution_count": 7,
   "id": "ddaf9269",
   "metadata": {},
   "outputs": [
    {
     "name": "stdout",
     "output_type": "stream",
     "text": [
      "Enter a number: 10\n",
      "2\n",
      "4\n",
      "6\n",
      "8\n",
      "10\n"
     ]
    }
   ],
   "source": [
    "n = int(input(\"Enter a number: \"))\n",
    "i = 2\n",
    "while i <= n:\n",
    "    print(i)\n",
    "    i += 2"
   ]
  },
  {
   "cell_type": "code",
   "execution_count": 1,
   "id": "8ff5b0c9",
   "metadata": {},
   "outputs": [
    {
     "name": "stdout",
     "output_type": "stream",
     "text": [
      "Enter a number: 3\n",
      "14\n"
     ]
    }
   ],
   "source": [
    "n = int(input(\"Enter a number: \"))\n",
    "i = 1\n",
    "sum = 0\n",
    "while i <= n:\n",
    "    sum += i**2\n",
    "    i += 1\n",
    "print(sum)"
   ]
  },
  {
   "cell_type": "code",
   "execution_count": 1,
   "id": "e2326140",
   "metadata": {},
   "outputs": [
    {
     "name": "stdout",
     "output_type": "stream",
     "text": [
      "64\n",
      "125\n",
      "216\n"
     ]
    }
   ],
   "source": [
    "#use a while statement to find first 3 power of 3 numbers larger than 50\n",
    "count = 0\n",
    "n = 1\n",
    "while count < 3:\n",
    "    power = n**3\n",
    "    if(power > 50):\n",
    "        print(power)\n",
    "        count+= 1\n",
    "    n+=1"
   ]
  },
  {
   "cell_type": "code",
   "execution_count": 2,
   "id": "59ce50d6",
   "metadata": {},
   "outputs": [
    {
     "name": "stdout",
     "output_type": "stream",
     "text": [
      "81\n"
     ]
    }
   ],
   "source": [
    "#use a while statement to find first number that are power of 3 and larger than 50\n",
    "n = 3\n",
    "while n <= 50:\n",
    "    n *= 3\n",
    "print(n)"
   ]
  },
  {
   "cell_type": "code",
   "execution_count": null,
   "id": "32f03ad6",
   "metadata": {},
   "outputs": [],
   "source": []
  }
 ],
 "metadata": {
  "kernelspec": {
   "display_name": "Python 3 (ipykernel)",
   "language": "python",
   "name": "python3"
  },
  "language_info": {
   "codemirror_mode": {
    "name": "ipython",
    "version": 3
   },
   "file_extension": ".py",
   "mimetype": "text/x-python",
   "name": "python",
   "nbconvert_exporter": "python",
   "pygments_lexer": "ipython3",
   "version": "3.11.4"
  }
 },
 "nbformat": 4,
 "nbformat_minor": 5
}
