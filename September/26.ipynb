{
 "cells": [
  {
   "cell_type": "code",
   "execution_count": 1,
   "id": "c5a210ff",
   "metadata": {},
   "outputs": [
    {
     "name": "stdout",
     "output_type": "stream",
     "text": [
      "0 1 2 3 4 5 6 7 8 9 "
     ]
    }
   ],
   "source": [
    "for n in range(100):\n",
    "    if n == 10:\n",
    "        break\n",
    "    print(n,end=\" \")"
   ]
  },
  {
   "cell_type": "code",
   "execution_count": 6,
   "id": "82fa5282",
   "metadata": {},
   "outputs": [
    {
     "name": "stdout",
     "output_type": "stream",
     "text": [
      "0 1 2 3 4 6 7 8 9 "
     ]
    }
   ],
   "source": [
    "for n in range(10):\n",
    "    if n == 5:\n",
    "        continue\n",
    "    print(n,end=\" \")"
   ]
  },
  {
   "cell_type": "code",
   "execution_count": 1,
   "id": "456d5c64",
   "metadata": {},
   "outputs": [
    {
     "name": "stdout",
     "output_type": "stream",
     "text": [
      "Enter grade: 56\n",
      "Enter grade: 56\n",
      "Enter grade: -1\n",
      "class average is 56.00\n"
     ]
    }
   ],
   "source": [
    "total = 0\n",
    "grade_counter = 0\n",
    "grade = int(input(\"Enter grade: \"))\n",
    "while grade != -1:\n",
    "    total += grade\n",
    "    grade_counter += 1\n",
    "    grade = int(input(\"Enter grade: \"))\n",
    "if grade_counter != 0:\n",
    "    average = total / grade_counter\n",
    "    print(f\"class average is {average:.2f}\")\n",
    "else:\n",
    "    print(\"No grades were entered\")"
   ]
  },
  {
   "cell_type": "code",
   "execution_count": 4,
   "id": "5856ae92",
   "metadata": {},
   "outputs": [
    {
     "name": "stdout",
     "output_type": "stream",
     "text": [
      "0.7999999999999999\n"
     ]
    }
   ],
   "source": [
    "x = 0.1\n",
    "y = 0.7\n",
    "print(x+y)"
   ]
  },
  {
   "cell_type": "code",
   "execution_count": 5,
   "id": "de89fe22",
   "metadata": {},
   "outputs": [
    {
     "name": "stdout",
     "output_type": "stream",
     "text": [
      "0.8\n"
     ]
    }
   ],
   "source": [
    "import decimal\n",
    "x = decimal.Decimal(\"0.1\")\n",
    "y = decimal.Decimal(\"0.7\")\n",
    "print(x+y)"
   ]
  },
  {
   "cell_type": "code",
   "execution_count": 6,
   "id": "62deeb64",
   "metadata": {},
   "outputs": [
    {
     "name": "stdout",
     "output_type": "stream",
     "text": [
      "0.8\n"
     ]
    }
   ],
   "source": [
    "from decimal import Decimal\n",
    "x = Decimal(\"0.1\")\n",
    "y = Decimal(\"0.7\")\n",
    "print(x+y)"
   ]
  },
  {
   "cell_type": "code",
   "execution_count": 13,
   "id": "d0ca4e6a",
   "metadata": {},
   "outputs": [
    {
     "name": "stdout",
     "output_type": "stream",
     "text": [
      " 0   10000.00\n",
      " 1   15000.00\n",
      " 2   22500.00\n",
      " 3   33750.00\n",
      " 4   50625.00\n",
      " 5   75937.50\n",
      " 6  113906.25\n",
      " 7  170859.38\n",
      " 8  256289.06\n",
      " 9  384433.59\n",
      "10  576650.39\n"
     ]
    }
   ],
   "source": [
    "principal = 10000\n",
    "rate = 0.5\n",
    "for year in range(11):\n",
    "    amount = principal * (1 + rate) ** year\n",
    "    print(f\"{year:>2} {amount:>10.2f}\")"
   ]
  },
  {
   "cell_type": "code",
   "execution_count": 9,
   "id": "f44a410f",
   "metadata": {},
   "outputs": [
    {
     "name": "stdout",
     "output_type": "stream",
     "text": [
      "mean=79.4, median=85, mode=85\n"
     ]
    }
   ],
   "source": [
    "import statistics\n",
    "grade = [85,93,45,89,85]\n",
    "x = statistics.mean(grade)\n",
    "y = statistics.median(grade)\n",
    "z = statistics.mode(grade)\n",
    "print(f\"mean={x}, median={y}, mode={z}\")"
   ]
  }
 ],
 "metadata": {
  "kernelspec": {
   "display_name": "Python 3 (ipykernel)",
   "language": "python",
   "name": "python3"
  },
  "language_info": {
   "codemirror_mode": {
    "name": "ipython",
    "version": 3
   },
   "file_extension": ".py",
   "mimetype": "text/x-python",
   "name": "python",
   "nbconvert_exporter": "python",
   "pygments_lexer": "ipython3",
   "version": "3.11.4"
  }
 },
 "nbformat": 4,
 "nbformat_minor": 5
}
