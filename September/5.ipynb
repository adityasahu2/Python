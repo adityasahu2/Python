{
 "cells": [
  {
   "cell_type": "code",
   "execution_count": 1,
   "id": "9a8f05de",
   "metadata": {
    "scrolled": true
   },
   "outputs": [
    {
     "name": "stdout",
     "output_type": "stream",
     "text": [
      "Welcome\n",
      "To\n",
      "Python\n"
     ]
    }
   ],
   "source": [
    "print(\"Welcome\")\n",
    "print(\"To\")\n",
    "print(\"Python\")"
   ]
  },
  {
   "cell_type": "code",
   "execution_count": 4,
   "id": "ee98fd7b",
   "metadata": {},
   "outputs": [
    {
     "name": "stdout",
     "output_type": "stream",
     "text": [
      "Welcome\n",
      "To\n",
      "Python\n"
     ]
    }
   ],
   "source": [
    "print('''Welcome\n",
    "To\n",
    "Python''')"
   ]
  },
  {
   "cell_type": "code",
   "execution_count": 13,
   "id": "cbc0f9f2",
   "metadata": {},
   "outputs": [
    {
     "name": "stdout",
     "output_type": "stream",
     "text": [
      "Hello\n",
      "Hello\n",
      "Hello\n",
      "Hello\n",
      "\n"
     ]
    }
   ],
   "source": [
    "print(\"Hello\\n\"*4)"
   ]
  },
  {
   "cell_type": "code",
   "execution_count": 9,
   "id": "a8c66572",
   "metadata": {},
   "outputs": [
    {
     "data": {
      "text/plain": [
       "'hello\\nworld'"
      ]
     },
     "execution_count": 9,
     "metadata": {},
     "output_type": "execute_result"
    }
   ],
   "source": [
    "# hello\n",
    "'''hello\n",
    "world'''"
   ]
  },
  {
   "cell_type": "code",
   "execution_count": 22,
   "id": "d2df8753",
   "metadata": {
    "scrolled": true
   },
   "outputs": [
    {
     "name": "stdout",
     "output_type": "stream",
     "text": [
      "Enter your name : Aditya\n",
      "Enter your age : 20\n",
      "My name is Aditya \n",
      "I am 20 years old\n"
     ]
    }
   ],
   "source": [
    "name = input(\"Enter your name : \")\n",
    "age = int(input(\"Enter your age : \"))\n",
    "print(\"My name is\",name,\"\\nI am\",age,\"years old\")"
   ]
  },
  {
   "cell_type": "code",
   "execution_count": 10,
   "id": "fb4e100b",
   "metadata": {},
   "outputs": [
    {
     "name": "stdout",
     "output_type": "stream",
     "text": [
      "Enter a number : 20\n",
      "Enter a number : 15\n",
      "Addition : 35\n",
      "Subtraction : 5\n",
      "Multiplication : 300\n",
      "Division : 1.3333333333333333\n",
      "Floor Division : 1\n",
      "Remainder : 5\n"
     ]
    }
   ],
   "source": [
    "a = int(input(\"Enter a number : \"))\n",
    "b = int(input(\"Enter a number : \"))\n",
    "print(\"Addition :\",a+b)\n",
    "print(\"Subtraction :\",a-b)\n",
    "print(\"Multiplication :\",a*b)\n",
    "print(\"Division :\",a/b)\n",
    "print(\"Floor Division :\",a//b)\n",
    "print(\"Remainder :\",a%b)"
   ]
  },
  {
   "cell_type": "code",
   "execution_count": 32,
   "id": "fae3dcd7",
   "metadata": {},
   "outputs": [
    {
     "name": "stdout",
     "output_type": "stream",
     "text": [
      "Enter your first name : Aditya\n",
      "Enter your last name : Sahu\n",
      "Name : Aditya Sahu\n"
     ]
    }
   ],
   "source": [
    "first = input(\"Enter your first name : \")\n",
    "last = input(\"Enter your last name : \")\n",
    "print(\"Name : \"+first+\" \"+last)"
   ]
  },
  {
   "cell_type": "code",
   "execution_count": 3,
   "id": "a9f4308c",
   "metadata": {},
   "outputs": [
    {
     "name": "stdout",
     "output_type": "stream",
     "text": [
      "Enter your name : Aditya\n",
      "Length of name :  6\n"
     ]
    }
   ],
   "source": [
    "name = input(\"Enter your name : \")\n",
    "print(\"Length of name : \", len(name))"
   ]
  },
  {
   "cell_type": "code",
   "execution_count": 4,
   "id": "2ece2a43",
   "metadata": {},
   "outputs": [
    {
     "name": "stdout",
     "output_type": "stream",
     "text": [
      "5\n"
     ]
    }
   ],
   "source": [
    "x = 5.7\n",
    "y = int(x)\n",
    "print(y)"
   ]
  },
  {
   "cell_type": "code",
   "execution_count": 5,
   "id": "c0d53955",
   "metadata": {},
   "outputs": [
    {
     "name": "stdout",
     "output_type": "stream",
     "text": [
      "42\n"
     ]
    }
   ],
   "source": [
    "x = 42\n",
    "y = str(x)\n",
    "print(y)"
   ]
  },
  {
   "cell_type": "code",
   "execution_count": 6,
   "id": "45ee3ede",
   "metadata": {},
   "outputs": [
    {
     "name": "stdout",
     "output_type": "stream",
     "text": [
      "5.0\n"
     ]
    }
   ],
   "source": [
    "x = 5\n",
    "y = float(x)\n",
    "print(y)"
   ]
  },
  {
   "cell_type": "code",
   "execution_count": 7,
   "id": "013fad2f",
   "metadata": {},
   "outputs": [
    {
     "name": "stdout",
     "output_type": "stream",
     "text": [
      "123\n"
     ]
    }
   ],
   "source": [
    "x = \"123\"\n",
    "y = int(x)\n",
    "print(y)"
   ]
  },
  {
   "cell_type": "code",
   "execution_count": 8,
   "id": "0aa0f14e",
   "metadata": {},
   "outputs": [
    {
     "name": "stdout",
     "output_type": "stream",
     "text": [
      "123.45\n"
     ]
    }
   ],
   "source": [
    "x = \"123.45\"\n",
    "y = float(x)\n",
    "print(y)"
   ]
  },
  {
   "cell_type": "code",
   "execution_count": 12,
   "id": "22a73b4a",
   "metadata": {},
   "outputs": [
    {
     "name": "stdout",
     "output_type": "stream",
     "text": [
      "512\n",
      "10\n",
      "5\n",
      "3\n",
      "14\n",
      "20\n"
     ]
    }
   ],
   "source": [
    "print(2**3**2, 4+3*2, 7-4+2, 10-5-2, 2+3*4, (2+3)*4, sep = \"\\n\")"
   ]
  },
  {
   "cell_type": "code",
   "execution_count": 13,
   "id": "63bcc01c",
   "metadata": {},
   "outputs": [
    {
     "name": "stdout",
     "output_type": "stream",
     "text": [
      "22\n"
     ]
    }
   ],
   "source": [
    "print(5+2*3**2-(8//2)%3)"
   ]
  },
  {
   "cell_type": "code",
   "execution_count": 14,
   "id": "d674e556",
   "metadata": {},
   "outputs": [
    {
     "name": "stdout",
     "output_type": "stream",
     "text": [
      "25.0\n"
     ]
    }
   ],
   "source": [
    "print((10+3)*(8/4)-6**2%5)"
   ]
  },
  {
   "cell_type": "code",
   "execution_count": 15,
   "id": "3efdf23e",
   "metadata": {
    "scrolled": false
   },
   "outputs": [
    {
     "name": "stdout",
     "output_type": "stream",
     "text": [
      "19\n"
     ]
    }
   ],
   "source": [
    "a = 7\n",
    "b = 4\n",
    "c = 3\n",
    "print(a**b//c%a-b+(c*a))"
   ]
  },
  {
   "cell_type": "code",
   "execution_count": 16,
   "id": "9516044d",
   "metadata": {},
   "outputs": [
    {
     "name": "stdout",
     "output_type": "stream",
     "text": [
      "2.25\n",
      "27\n"
     ]
    }
   ],
   "source": [
    "print((5*(2+3)-8)**2/4%7)\n",
    "print(12//4*(5+6)-3**2+(8%5))"
   ]
  }
 ],
 "metadata": {
  "kernelspec": {
   "display_name": "Python 3 (ipykernel)",
   "language": "python",
   "name": "python3"
  },
  "language_info": {
   "codemirror_mode": {
    "name": "ipython",
    "version": 3
   },
   "file_extension": ".py",
   "mimetype": "text/x-python",
   "name": "python",
   "nbconvert_exporter": "python",
   "pygments_lexer": "ipython3",
   "version": "3.11.4"
  }
 },
 "nbformat": 4,
 "nbformat_minor": 5
}
